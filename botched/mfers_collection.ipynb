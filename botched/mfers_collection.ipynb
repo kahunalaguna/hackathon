{
 "cells": [
  {
   "cell_type": "code",
   "execution_count": 4,
   "id": "1971c64b-9c07-453d-8004-1a7636d17706",
   "metadata": {},
   "outputs": [],
   "source": [
    "import pandas as pd\n",
    "import requests\n",
    "import time\n",
    "import random"
   ]
  },
  {
   "cell_type": "code",
   "execution_count": 27,
   "id": "0197bbfe-abeb-4437-9942-eaf1b63e5c91",
   "metadata": {},
   "outputs": [],
   "source": [
    "#requesting the mfers collection overview"
   ]
  },
  {
   "cell_type": "code",
   "execution_count": 10,
   "id": "1b7a04e5-8fec-4db6-a3fd-71c265b82690",
   "metadata": {},
   "outputs": [
    {
     "data": {
      "text/plain": [
       "200"
      ]
     },
     "execution_count": 10,
     "metadata": {},
     "output_type": "execute_result"
    }
   ],
   "source": [
    "url= 'https://api.opensea.io/api/v1/collection/mfers'\n",
    "params= {\n",
    "    'collection_slug': 'mfers'\n",
    "}\n",
    "\n",
    "res= requests.get(url)\n",
    "res.status_code"
   ]
  },
  {
   "cell_type": "code",
   "execution_count": 20,
   "id": "706831ee-d7db-4a57-9b63-5bb0f0b7ccff",
   "metadata": {},
   "outputs": [
    {
     "data": {
      "text/plain": [
       "{'one_day_volume': 72.97799000000003,\n",
       " 'one_day_change': -0.33350512168569896,\n",
       " 'one_day_sales': 105.0,\n",
       " 'one_day_average_price': 0.6950284761904765,\n",
       " 'seven_day_volume': 1167.1222224000205,\n",
       " 'seven_day_change': 2.7565350248977643,\n",
       " 'seven_day_sales': 1599.0,\n",
       " 'seven_day_average_price': 0.7299075812382868,\n",
       " 'thirty_day_volume': 2165.5117054462253,\n",
       " 'thirty_day_change': 2.9599979529515177,\n",
       " 'thirty_day_sales': 4602.0,\n",
       " 'thirty_day_average_price': 0.4705588234346426,\n",
       " 'total_volume': 4846.713924830485,\n",
       " 'total_sales': 14047.0,\n",
       " 'total_supply': 10021.0,\n",
       " 'count': 10021.0,\n",
       " 'num_owners': 4769,\n",
       " 'average_price': 0.345035518248059,\n",
       " 'num_reports': 3,\n",
       " 'market_cap': 7314.403871588872,\n",
       " 'floor_price': 0.58}"
      ]
     },
     "execution_count": 20,
     "metadata": {},
     "output_type": "execute_result"
    }
   ],
   "source": [
    "summary = res.json()['collection']['stats']\n",
    "summary"
   ]
  },
  {
   "cell_type": "code",
   "execution_count": 29,
   "id": "ff450b62-1692-4371-b741-5868c2e2964a",
   "metadata": {},
   "outputs": [
    {
     "data": {
      "text/html": [
       "<div>\n",
       "<style scoped>\n",
       "    .dataframe tbody tr th:only-of-type {\n",
       "        vertical-align: middle;\n",
       "    }\n",
       "\n",
       "    .dataframe tbody tr th {\n",
       "        vertical-align: top;\n",
       "    }\n",
       "\n",
       "    .dataframe thead th {\n",
       "        text-align: right;\n",
       "    }\n",
       "</style>\n",
       "<table border=\"1\" class=\"dataframe\">\n",
       "  <thead>\n",
       "    <tr style=\"text-align: right;\">\n",
       "      <th></th>\n",
       "      <th>mfers</th>\n",
       "    </tr>\n",
       "  </thead>\n",
       "  <tbody>\n",
       "    <tr>\n",
       "      <th>one_day_volume</th>\n",
       "      <td>72.977990</td>\n",
       "    </tr>\n",
       "    <tr>\n",
       "      <th>one_day_change</th>\n",
       "      <td>-0.333505</td>\n",
       "    </tr>\n",
       "    <tr>\n",
       "      <th>one_day_sales</th>\n",
       "      <td>105.000000</td>\n",
       "    </tr>\n",
       "    <tr>\n",
       "      <th>one_day_average_price</th>\n",
       "      <td>0.695028</td>\n",
       "    </tr>\n",
       "    <tr>\n",
       "      <th>seven_day_volume</th>\n",
       "      <td>1167.122222</td>\n",
       "    </tr>\n",
       "    <tr>\n",
       "      <th>seven_day_change</th>\n",
       "      <td>2.756535</td>\n",
       "    </tr>\n",
       "    <tr>\n",
       "      <th>seven_day_sales</th>\n",
       "      <td>1599.000000</td>\n",
       "    </tr>\n",
       "    <tr>\n",
       "      <th>seven_day_average_price</th>\n",
       "      <td>0.729908</td>\n",
       "    </tr>\n",
       "    <tr>\n",
       "      <th>thirty_day_volume</th>\n",
       "      <td>2165.511705</td>\n",
       "    </tr>\n",
       "    <tr>\n",
       "      <th>thirty_day_change</th>\n",
       "      <td>2.959998</td>\n",
       "    </tr>\n",
       "    <tr>\n",
       "      <th>thirty_day_sales</th>\n",
       "      <td>4602.000000</td>\n",
       "    </tr>\n",
       "    <tr>\n",
       "      <th>thirty_day_average_price</th>\n",
       "      <td>0.470559</td>\n",
       "    </tr>\n",
       "    <tr>\n",
       "      <th>total_volume</th>\n",
       "      <td>4846.713925</td>\n",
       "    </tr>\n",
       "    <tr>\n",
       "      <th>total_sales</th>\n",
       "      <td>14047.000000</td>\n",
       "    </tr>\n",
       "    <tr>\n",
       "      <th>total_supply</th>\n",
       "      <td>10021.000000</td>\n",
       "    </tr>\n",
       "    <tr>\n",
       "      <th>count</th>\n",
       "      <td>10021.000000</td>\n",
       "    </tr>\n",
       "    <tr>\n",
       "      <th>num_owners</th>\n",
       "      <td>4769.000000</td>\n",
       "    </tr>\n",
       "    <tr>\n",
       "      <th>average_price</th>\n",
       "      <td>0.345036</td>\n",
       "    </tr>\n",
       "    <tr>\n",
       "      <th>num_reports</th>\n",
       "      <td>3.000000</td>\n",
       "    </tr>\n",
       "    <tr>\n",
       "      <th>market_cap</th>\n",
       "      <td>7314.403872</td>\n",
       "    </tr>\n",
       "    <tr>\n",
       "      <th>floor_price</th>\n",
       "      <td>0.580000</td>\n",
       "    </tr>\n",
       "  </tbody>\n",
       "</table>\n",
       "</div>"
      ],
      "text/plain": [
       "                                 mfers\n",
       "one_day_volume               72.977990\n",
       "one_day_change               -0.333505\n",
       "one_day_sales               105.000000\n",
       "one_day_average_price         0.695028\n",
       "seven_day_volume           1167.122222\n",
       "seven_day_change              2.756535\n",
       "seven_day_sales            1599.000000\n",
       "seven_day_average_price       0.729908\n",
       "thirty_day_volume          2165.511705\n",
       "thirty_day_change             2.959998\n",
       "thirty_day_sales           4602.000000\n",
       "thirty_day_average_price      0.470559\n",
       "total_volume               4846.713925\n",
       "total_sales               14047.000000\n",
       "total_supply              10021.000000\n",
       "count                     10021.000000\n",
       "num_owners                 4769.000000\n",
       "average_price                 0.345036\n",
       "num_reports                   3.000000\n",
       "market_cap                 7314.403872\n",
       "floor_price                   0.580000"
      ]
     },
     "execution_count": 29,
     "metadata": {},
     "output_type": "execute_result"
    }
   ],
   "source": [
    "collection = pd.DataFrame(summary, index=['mfers']).T\n",
    "collection"
   ]
  },
  {
   "cell_type": "code",
   "execution_count": 61,
   "id": "1cfb0d8d-661f-435d-8ce5-0516d511bc68",
   "metadata": {},
   "outputs": [],
   "source": [
    "#mini df's for each trait and breakdown across collection"
   ]
  },
  {
   "cell_type": "code",
   "execution_count": 46,
   "id": "50239555-8c11-47e1-b473-21cb00e81891",
   "metadata": {},
   "outputs": [
    {
     "data": {
      "text/html": [
       "<div>\n",
       "<style scoped>\n",
       "    .dataframe tbody tr th:only-of-type {\n",
       "        vertical-align: middle;\n",
       "    }\n",
       "\n",
       "    .dataframe tbody tr th {\n",
       "        vertical-align: top;\n",
       "    }\n",
       "\n",
       "    .dataframe thead th {\n",
       "        text-align: right;\n",
       "    }\n",
       "</style>\n",
       "<table border=\"1\" class=\"dataframe\">\n",
       "  <thead>\n",
       "    <tr style=\"text-align: right;\">\n",
       "      <th></th>\n",
       "      <th>beep mfer</th>\n",
       "      <th>bored mfer</th>\n",
       "      <th>cdb mfer</th>\n",
       "      <th>comic mfer</th>\n",
       "      <th>cool mfer</th>\n",
       "      <th>fidenz mfer</th>\n",
       "      <th>gang mfer</th>\n",
       "      <th>glyph mfer</th>\n",
       "      <th>gutter mfer</th>\n",
       "      <th>loot'n mfer</th>\n",
       "      <th>...</th>\n",
       "      <th>moon mfer</th>\n",
       "      <th>nakamoto mfer</th>\n",
       "      <th>noun mfer</th>\n",
       "      <th>peaceful mfer</th>\n",
       "      <th>pop mfer</th>\n",
       "      <th>punk mfer</th>\n",
       "      <th>ring mfer</th>\n",
       "      <th>squiggly mfer</th>\n",
       "      <th>toad mfer</th>\n",
       "      <th>xmfer</th>\n",
       "    </tr>\n",
       "  </thead>\n",
       "  <tbody>\n",
       "    <tr>\n",
       "      <th>1/1</th>\n",
       "      <td>1</td>\n",
       "      <td>1</td>\n",
       "      <td>1</td>\n",
       "      <td>1</td>\n",
       "      <td>1</td>\n",
       "      <td>1</td>\n",
       "      <td>1</td>\n",
       "      <td>1</td>\n",
       "      <td>1</td>\n",
       "      <td>1</td>\n",
       "      <td>...</td>\n",
       "      <td>1</td>\n",
       "      <td>1</td>\n",
       "      <td>1</td>\n",
       "      <td>1</td>\n",
       "      <td>1</td>\n",
       "      <td>1</td>\n",
       "      <td>1</td>\n",
       "      <td>1</td>\n",
       "      <td>1</td>\n",
       "      <td>1</td>\n",
       "    </tr>\n",
       "  </tbody>\n",
       "</table>\n",
       "<p>1 rows × 21 columns</p>\n",
       "</div>"
      ],
      "text/plain": [
       "     beep mfer  bored mfer  cdb mfer  comic mfer  cool mfer  fidenz mfer  \\\n",
       "1/1          1           1         1           1          1            1   \n",
       "\n",
       "     gang mfer  glyph mfer  gutter mfer  loot'n mfer  ...  moon mfer  \\\n",
       "1/1          1           1            1            1  ...          1   \n",
       "\n",
       "     nakamoto mfer  noun mfer  peaceful mfer  pop mfer  punk mfer  ring mfer  \\\n",
       "1/1              1          1              1         1          1          1   \n",
       "\n",
       "     squiggly mfer  toad mfer  xmfer  \n",
       "1/1              1          1      1  \n",
       "\n",
       "[1 rows x 21 columns]"
      ]
     },
     "execution_count": 46,
     "metadata": {},
     "output_type": "execute_result"
    }
   ],
   "source": [
    "pd.DataFrame(res.json()['collection']['traits']['1/1'], index=['1/1'])"
   ]
  },
  {
   "cell_type": "code",
   "execution_count": 39,
   "id": "25c79421-f4c6-4a38-89f4-7bf1680e1a31",
   "metadata": {},
   "outputs": [
    {
     "data": {
      "text/html": [
       "<div>\n",
       "<style scoped>\n",
       "    .dataframe tbody tr th:only-of-type {\n",
       "        vertical-align: middle;\n",
       "    }\n",
       "\n",
       "    .dataframe tbody tr th {\n",
       "        vertical-align: top;\n",
       "    }\n",
       "\n",
       "    .dataframe thead th {\n",
       "        text-align: right;\n",
       "    }\n",
       "</style>\n",
       "<table border=\"1\" class=\"dataframe\">\n",
       "  <thead>\n",
       "    <tr style=\"text-align: right;\">\n",
       "      <th></th>\n",
       "      <th>argo black</th>\n",
       "      <th>argo white</th>\n",
       "      <th>oyster gold</th>\n",
       "      <th>oyster silver</th>\n",
       "      <th>sub bat (blue/black)</th>\n",
       "      <th>sub black</th>\n",
       "      <th>sub blue</th>\n",
       "      <th>sub cola (blue/red)</th>\n",
       "      <th>sub lantern (green)</th>\n",
       "      <th>sub red</th>\n",
       "      <th>sub rose</th>\n",
       "      <th>sub turquoise</th>\n",
       "    </tr>\n",
       "  </thead>\n",
       "  <tbody>\n",
       "    <tr>\n",
       "      <th>watch</th>\n",
       "      <td>325</td>\n",
       "      <td>82</td>\n",
       "      <td>518</td>\n",
       "      <td>1006</td>\n",
       "      <td>100</td>\n",
       "      <td>1954</td>\n",
       "      <td>761</td>\n",
       "      <td>83</td>\n",
       "      <td>555</td>\n",
       "      <td>1459</td>\n",
       "      <td>320</td>\n",
       "      <td>472</td>\n",
       "    </tr>\n",
       "  </tbody>\n",
       "</table>\n",
       "</div>"
      ],
      "text/plain": [
       "       argo black  argo white  oyster gold  oyster silver  \\\n",
       "watch         325          82          518           1006   \n",
       "\n",
       "       sub bat (blue/black)  sub black  sub blue  sub cola (blue/red)  \\\n",
       "watch                   100       1954       761                   83   \n",
       "\n",
       "       sub lantern (green)  sub red  sub rose  sub turquoise  \n",
       "watch                  555     1459       320            472  "
      ]
     },
     "execution_count": 39,
     "metadata": {},
     "output_type": "execute_result"
    }
   ],
   "source": [
    "pd.DataFrame(res.json()['collection']['traits']['4:20 watch'], index=['watch'])"
   ]
  },
  {
   "cell_type": "code",
   "execution_count": 48,
   "id": "8e2eb0bf-a0e0-4c65-8527-32a931122226",
   "metadata": {},
   "outputs": [
    {
     "data": {
      "text/html": [
       "<div>\n",
       "<style scoped>\n",
       "    .dataframe tbody tr th:only-of-type {\n",
       "        vertical-align: middle;\n",
       "    }\n",
       "\n",
       "    .dataframe tbody tr th {\n",
       "        vertical-align: top;\n",
       "    }\n",
       "\n",
       "    .dataframe thead th {\n",
       "        text-align: right;\n",
       "    }\n",
       "</style>\n",
       "<table border=\"1\" class=\"dataframe\">\n",
       "  <thead>\n",
       "    <tr style=\"text-align: right;\">\n",
       "      <th></th>\n",
       "      <th>blue</th>\n",
       "      <th>graveyard</th>\n",
       "      <th>green</th>\n",
       "      <th>orange</th>\n",
       "      <th>red</th>\n",
       "      <th>space</th>\n",
       "      <th>tree</th>\n",
       "      <th>yellow</th>\n",
       "    </tr>\n",
       "  </thead>\n",
       "  <tbody>\n",
       "    <tr>\n",
       "      <th>background</th>\n",
       "      <td>2075</td>\n",
       "      <td>89</td>\n",
       "      <td>1974</td>\n",
       "      <td>2023</td>\n",
       "      <td>1846</td>\n",
       "      <td>9</td>\n",
       "      <td>28</td>\n",
       "      <td>1956</td>\n",
       "    </tr>\n",
       "  </tbody>\n",
       "</table>\n",
       "</div>"
      ],
      "text/plain": [
       "            blue  graveyard  green  orange   red  space  tree  yellow\n",
       "background  2075         89   1974    2023  1846      9    28    1956"
      ]
     },
     "execution_count": 48,
     "metadata": {},
     "output_type": "execute_result"
    }
   ],
   "source": [
    "pd.DataFrame(res.json()['collection']['traits']['background'], index=['background'])"
   ]
  },
  {
   "cell_type": "code",
   "execution_count": 49,
   "id": "f86ad4c7-86dd-46b9-8354-ab3c80523506",
   "metadata": {},
   "outputs": [
    {
     "data": {
      "text/html": [
       "<div>\n",
       "<style scoped>\n",
       "    .dataframe tbody tr th:only-of-type {\n",
       "        vertical-align: middle;\n",
       "    }\n",
       "\n",
       "    .dataframe tbody tr th {\n",
       "        vertical-align: top;\n",
       "    }\n",
       "\n",
       "    .dataframe thead th {\n",
       "        text-align: right;\n",
       "    }\n",
       "</style>\n",
       "<table border=\"1\" class=\"dataframe\">\n",
       "  <thead>\n",
       "    <tr style=\"text-align: right;\">\n",
       "      <th></th>\n",
       "      <th>full beard</th>\n",
       "    </tr>\n",
       "  </thead>\n",
       "  <tbody>\n",
       "    <tr>\n",
       "      <th>beard</th>\n",
       "      <td>1036</td>\n",
       "    </tr>\n",
       "  </tbody>\n",
       "</table>\n",
       "</div>"
      ],
      "text/plain": [
       "       full beard\n",
       "beard        1036"
      ]
     },
     "execution_count": 49,
     "metadata": {},
     "output_type": "execute_result"
    }
   ],
   "source": [
    "pd.DataFrame(res.json()['collection']['traits']['beard'], index=['beard'])"
   ]
  },
  {
   "cell_type": "code",
   "execution_count": 50,
   "id": "089a956b-42f5-4654-ae79-feaed27713f0",
   "metadata": {},
   "outputs": [
    {
     "data": {
      "text/html": [
       "<div>\n",
       "<style scoped>\n",
       "    .dataframe tbody tr th:only-of-type {\n",
       "        vertical-align: middle;\n",
       "    }\n",
       "\n",
       "    .dataframe tbody tr th {\n",
       "        vertical-align: top;\n",
       "    }\n",
       "\n",
       "    .dataframe thead th {\n",
       "        text-align: right;\n",
       "    }\n",
       "</style>\n",
       "<table border=\"1\" class=\"dataframe\">\n",
       "  <thead>\n",
       "    <tr style=\"text-align: right;\">\n",
       "      <th></th>\n",
       "      <th>gold chain</th>\n",
       "      <th>silver chain</th>\n",
       "    </tr>\n",
       "  </thead>\n",
       "  <tbody>\n",
       "    <tr>\n",
       "      <th>chain</th>\n",
       "      <td>95</td>\n",
       "      <td>395</td>\n",
       "    </tr>\n",
       "  </tbody>\n",
       "</table>\n",
       "</div>"
      ],
      "text/plain": [
       "       gold chain  silver chain\n",
       "chain          95           395"
      ]
     },
     "execution_count": 50,
     "metadata": {},
     "output_type": "execute_result"
    }
   ],
   "source": [
    "pd.DataFrame(res.json()['collection']['traits']['chain'], index=['chain'])"
   ]
  },
  {
   "cell_type": "code",
   "execution_count": 51,
   "id": "97369f79-3b4e-436e-9533-a8c646c4605f",
   "metadata": {},
   "outputs": [
    {
     "data": {
      "text/html": [
       "<div>\n",
       "<style scoped>\n",
       "    .dataframe tbody tr th:only-of-type {\n",
       "        vertical-align: middle;\n",
       "    }\n",
       "\n",
       "    .dataframe tbody tr th {\n",
       "        vertical-align: top;\n",
       "    }\n",
       "\n",
       "    .dataframe thead th {\n",
       "        text-align: right;\n",
       "    }\n",
       "</style>\n",
       "<table border=\"1\" class=\"dataframe\">\n",
       "  <thead>\n",
       "    <tr style=\"text-align: right;\">\n",
       "      <th></th>\n",
       "      <th>3d glasses</th>\n",
       "      <th>alien eyes</th>\n",
       "      <th>eye mask</th>\n",
       "      <th>nerd glasses</th>\n",
       "      <th>purple shades</th>\n",
       "      <th>regular eyes</th>\n",
       "      <th>shades</th>\n",
       "      <th>vr</th>\n",
       "      <th>zombie eyes</th>\n",
       "    </tr>\n",
       "  </thead>\n",
       "  <tbody>\n",
       "    <tr>\n",
       "      <th>eyes</th>\n",
       "      <td>327</td>\n",
       "      <td>9</td>\n",
       "      <td>293</td>\n",
       "      <td>613</td>\n",
       "      <td>547</td>\n",
       "      <td>7254</td>\n",
       "      <td>526</td>\n",
       "      <td>342</td>\n",
       "      <td>89</td>\n",
       "    </tr>\n",
       "  </tbody>\n",
       "</table>\n",
       "</div>"
      ],
      "text/plain": [
       "      3d glasses  alien eyes  eye mask  nerd glasses  purple shades  \\\n",
       "eyes         327           9       293           613            547   \n",
       "\n",
       "      regular eyes  shades   vr  zombie eyes  \n",
       "eyes          7254     526  342           89  "
      ]
     },
     "execution_count": 51,
     "metadata": {},
     "output_type": "execute_result"
    }
   ],
   "source": [
    "pd.DataFrame(res.json()['collection']['traits']['eyes'], index=['eyes'])"
   ]
  },
  {
   "cell_type": "code",
   "execution_count": 52,
   "id": "4410877b-d368-4f76-9797-dbe2718e09a5",
   "metadata": {},
   "outputs": [
    {
     "data": {
      "text/html": [
       "<div>\n",
       "<style scoped>\n",
       "    .dataframe tbody tr th:only-of-type {\n",
       "        vertical-align: middle;\n",
       "    }\n",
       "\n",
       "    .dataframe tbody tr th {\n",
       "        vertical-align: top;\n",
       "    }\n",
       "\n",
       "    .dataframe thead th {\n",
       "        text-align: right;\n",
       "    }\n",
       "</style>\n",
       "<table border=\"1\" class=\"dataframe\">\n",
       "  <thead>\n",
       "    <tr style=\"text-align: right;\">\n",
       "      <th></th>\n",
       "      <th>black headphones</th>\n",
       "      <th>blue headphones</th>\n",
       "      <th>gold headphones</th>\n",
       "      <th>green headphones</th>\n",
       "      <th>lined headphones</th>\n",
       "      <th>pink headphones</th>\n",
       "      <th>red headphones</th>\n",
       "      <th>white headphones</th>\n",
       "    </tr>\n",
       "  </thead>\n",
       "  <tbody>\n",
       "    <tr>\n",
       "      <th>headphones</th>\n",
       "      <td>3949</td>\n",
       "      <td>532</td>\n",
       "      <td>274</td>\n",
       "      <td>879</td>\n",
       "      <td>115</td>\n",
       "      <td>1040</td>\n",
       "      <td>732</td>\n",
       "      <td>2421</td>\n",
       "    </tr>\n",
       "  </tbody>\n",
       "</table>\n",
       "</div>"
      ],
      "text/plain": [
       "            black headphones  blue headphones  gold headphones  \\\n",
       "headphones              3949              532              274   \n",
       "\n",
       "            green headphones  lined headphones  pink headphones  \\\n",
       "headphones               879               115             1040   \n",
       "\n",
       "            red headphones  white headphones  \n",
       "headphones             732              2421  "
      ]
     },
     "execution_count": 52,
     "metadata": {},
     "output_type": "execute_result"
    }
   ],
   "source": [
    "pd.DataFrame(res.json()['collection']['traits']['headphones'], index=['headphones'])"
   ]
  },
  {
   "cell_type": "code",
   "execution_count": 53,
   "id": "9977da4c-d44c-413b-b09b-14181a19758b",
   "metadata": {},
   "outputs": [
    {
     "data": {
      "text/html": [
       "<div>\n",
       "<style scoped>\n",
       "    .dataframe tbody tr th:only-of-type {\n",
       "        vertical-align: middle;\n",
       "    }\n",
       "\n",
       "    .dataframe tbody tr th {\n",
       "        vertical-align: top;\n",
       "    }\n",
       "\n",
       "    .dataframe thead th {\n",
       "        text-align: right;\n",
       "    }\n",
       "</style>\n",
       "<table border=\"1\" class=\"dataframe\">\n",
       "  <thead>\n",
       "    <tr style=\"text-align: right;\">\n",
       "      <th></th>\n",
       "      <th>long hair black</th>\n",
       "      <th>long hair yellow</th>\n",
       "    </tr>\n",
       "  </thead>\n",
       "  <tbody>\n",
       "    <tr>\n",
       "      <th>long hair</th>\n",
       "      <td>1839</td>\n",
       "      <td>752</td>\n",
       "    </tr>\n",
       "  </tbody>\n",
       "</table>\n",
       "</div>"
      ],
      "text/plain": [
       "           long hair black  long hair yellow\n",
       "long hair             1839               752"
      ]
     },
     "execution_count": 53,
     "metadata": {},
     "output_type": "execute_result"
    }
   ],
   "source": [
    "pd.DataFrame(res.json()['collection']['traits']['long hair'], index=['long hair'])"
   ]
  },
  {
   "cell_type": "code",
   "execution_count": 54,
   "id": "7ce28573-bc20-487f-8745-3b9338c16a92",
   "metadata": {},
   "outputs": [
    {
     "data": {
      "text/html": [
       "<div>\n",
       "<style scoped>\n",
       "    .dataframe tbody tr th:only-of-type {\n",
       "        vertical-align: middle;\n",
       "    }\n",
       "\n",
       "    .dataframe tbody tr th {\n",
       "        vertical-align: top;\n",
       "    }\n",
       "\n",
       "    .dataframe thead th {\n",
       "        text-align: right;\n",
       "    }\n",
       "</style>\n",
       "<table border=\"1\" class=\"dataframe\">\n",
       "  <thead>\n",
       "    <tr style=\"text-align: right;\">\n",
       "      <th></th>\n",
       "      <th>flat</th>\n",
       "      <th>smile</th>\n",
       "    </tr>\n",
       "  </thead>\n",
       "  <tbody>\n",
       "    <tr>\n",
       "      <th>mouth</th>\n",
       "      <td>2064</td>\n",
       "      <td>7936</td>\n",
       "    </tr>\n",
       "  </tbody>\n",
       "</table>\n",
       "</div>"
      ],
      "text/plain": [
       "       flat  smile\n",
       "mouth  2064   7936"
      ]
     },
     "execution_count": 54,
     "metadata": {},
     "output_type": "execute_result"
    }
   ],
   "source": [
    "pd.DataFrame(res.json()['collection']['traits']['mouth'], index=['mouth'])"
   ]
  },
  {
   "cell_type": "code",
   "execution_count": 55,
   "id": "4bdc5a14-4a80-4cc6-b76c-4522916e3c55",
   "metadata": {},
   "outputs": [
    {
     "data": {
      "text/html": [
       "<div>\n",
       "<style scoped>\n",
       "    .dataframe tbody tr th:only-of-type {\n",
       "        vertical-align: middle;\n",
       "    }\n",
       "\n",
       "    .dataframe tbody tr th {\n",
       "        vertical-align: top;\n",
       "    }\n",
       "\n",
       "    .dataframe thead th {\n",
       "        text-align: right;\n",
       "    }\n",
       "</style>\n",
       "<table border=\"1\" class=\"dataframe\">\n",
       "  <thead>\n",
       "    <tr style=\"text-align: right;\">\n",
       "      <th></th>\n",
       "      <th>collared shirt blue</th>\n",
       "      <th>collared shirt green</th>\n",
       "      <th>collared shirt pink</th>\n",
       "      <th>collared shirt turquoise</th>\n",
       "      <th>collared shirt white</th>\n",
       "      <th>collared shirt yellow</th>\n",
       "      <th>hoodie down blue</th>\n",
       "      <th>hoodie down gray</th>\n",
       "      <th>hoodie down green</th>\n",
       "      <th>hoodie down pink</th>\n",
       "      <th>hoodie down red</th>\n",
       "      <th>hoodie down white</th>\n",
       "    </tr>\n",
       "  </thead>\n",
       "  <tbody>\n",
       "    <tr>\n",
       "      <th>shirt</th>\n",
       "      <td>565</td>\n",
       "      <td>326</td>\n",
       "      <td>361</td>\n",
       "      <td>215</td>\n",
       "      <td>675</td>\n",
       "      <td>97</td>\n",
       "      <td>425</td>\n",
       "      <td>611</td>\n",
       "      <td>302</td>\n",
       "      <td>192</td>\n",
       "      <td>94</td>\n",
       "      <td>551</td>\n",
       "    </tr>\n",
       "  </tbody>\n",
       "</table>\n",
       "</div>"
      ],
      "text/plain": [
       "       collared shirt blue  collared shirt green  collared shirt pink  \\\n",
       "shirt                  565                   326                  361   \n",
       "\n",
       "       collared shirt turquoise  collared shirt white  collared shirt yellow  \\\n",
       "shirt                       215                   675                     97   \n",
       "\n",
       "       hoodie down blue  hoodie down gray  hoodie down green  \\\n",
       "shirt               425               611                302   \n",
       "\n",
       "       hoodie down pink  hoodie down red  hoodie down white  \n",
       "shirt               192               94                551  "
      ]
     },
     "execution_count": 55,
     "metadata": {},
     "output_type": "execute_result"
    }
   ],
   "source": [
    "pd.DataFrame(res.json()['collection']['traits']['shirt'], index=['shirt'])"
   ]
  },
  {
   "cell_type": "code",
   "execution_count": 56,
   "id": "72b96f14-0d2f-4e0c-b952-ac80f84be7ad",
   "metadata": {},
   "outputs": [
    {
     "data": {
      "text/html": [
       "<div>\n",
       "<style scoped>\n",
       "    .dataframe tbody tr th:only-of-type {\n",
       "        vertical-align: middle;\n",
       "    }\n",
       "\n",
       "    .dataframe tbody tr th {\n",
       "        vertical-align: top;\n",
       "    }\n",
       "\n",
       "    .dataframe thead th {\n",
       "        text-align: right;\n",
       "    }\n",
       "</style>\n",
       "<table border=\"1\" class=\"dataframe\">\n",
       "  <thead>\n",
       "    <tr style=\"text-align: right;\">\n",
       "      <th></th>\n",
       "      <th>messy black</th>\n",
       "      <th>messy purple</th>\n",
       "      <th>messy red</th>\n",
       "      <th>messy yellow</th>\n",
       "      <th>mohawk black</th>\n",
       "      <th>mohawk blue</th>\n",
       "      <th>mohawk green</th>\n",
       "      <th>mohawk pink</th>\n",
       "      <th>mohawk purple</th>\n",
       "      <th>mohawk red</th>\n",
       "      <th>mohawk yellow</th>\n",
       "    </tr>\n",
       "  </thead>\n",
       "  <tbody>\n",
       "    <tr>\n",
       "      <th>short hair</th>\n",
       "      <td>68</td>\n",
       "      <td>152</td>\n",
       "      <td>199</td>\n",
       "      <td>172</td>\n",
       "      <td>348</td>\n",
       "      <td>224</td>\n",
       "      <td>221</td>\n",
       "      <td>74</td>\n",
       "      <td>76</td>\n",
       "      <td>17</td>\n",
       "      <td>272</td>\n",
       "    </tr>\n",
       "  </tbody>\n",
       "</table>\n",
       "</div>"
      ],
      "text/plain": [
       "            messy black  messy purple  messy red  messy yellow  mohawk black  \\\n",
       "short hair           68           152        199           172           348   \n",
       "\n",
       "            mohawk blue  mohawk green  mohawk pink  mohawk purple  mohawk red  \\\n",
       "short hair          224           221           74             76          17   \n",
       "\n",
       "            mohawk yellow  \n",
       "short hair            272  "
      ]
     },
     "execution_count": 56,
     "metadata": {},
     "output_type": "execute_result"
    }
   ],
   "source": [
    "pd.DataFrame(res.json()['collection']['traits']['short hair'], index=['short hair'])"
   ]
  },
  {
   "cell_type": "code",
   "execution_count": 57,
   "id": "9397e988-4fcb-4828-8a47-dc8ad5e2bb41",
   "metadata": {},
   "outputs": [
    {
     "data": {
      "text/html": [
       "<div>\n",
       "<style scoped>\n",
       "    .dataframe tbody tr th:only-of-type {\n",
       "        vertical-align: middle;\n",
       "    }\n",
       "\n",
       "    .dataframe tbody tr th {\n",
       "        vertical-align: top;\n",
       "    }\n",
       "\n",
       "    .dataframe thead th {\n",
       "        text-align: right;\n",
       "    }\n",
       "</style>\n",
       "<table border=\"1\" class=\"dataframe\">\n",
       "  <thead>\n",
       "    <tr style=\"text-align: right;\">\n",
       "      <th></th>\n",
       "      <th>cig black</th>\n",
       "      <th>cig white</th>\n",
       "      <th>pipe</th>\n",
       "    </tr>\n",
       "  </thead>\n",
       "  <tbody>\n",
       "    <tr>\n",
       "      <th>smoke</th>\n",
       "      <td>3810</td>\n",
       "      <td>3735</td>\n",
       "      <td>747</td>\n",
       "    </tr>\n",
       "  </tbody>\n",
       "</table>\n",
       "</div>"
      ],
      "text/plain": [
       "       cig black  cig white  pipe\n",
       "smoke       3810       3735   747"
      ]
     },
     "execution_count": 57,
     "metadata": {},
     "output_type": "execute_result"
    }
   ],
   "source": [
    "pd.DataFrame(res.json()['collection']['traits']['smoke'], index=['smoke'])"
   ]
  },
  {
   "cell_type": "code",
   "execution_count": 58,
   "id": "647cef5f-ffc8-4cee-aedf-029cb16eb1db",
   "metadata": {},
   "outputs": [
    {
     "data": {
      "text/html": [
       "<div>\n",
       "<style scoped>\n",
       "    .dataframe tbody tr th:only-of-type {\n",
       "        vertical-align: middle;\n",
       "    }\n",
       "\n",
       "    .dataframe tbody tr th {\n",
       "        vertical-align: top;\n",
       "    }\n",
       "\n",
       "    .dataframe thead th {\n",
       "        text-align: right;\n",
       "    }\n",
       "</style>\n",
       "<table border=\"1\" class=\"dataframe\">\n",
       "  <thead>\n",
       "    <tr style=\"text-align: right;\">\n",
       "      <th></th>\n",
       "      <th>alien mfer</th>\n",
       "      <th>ape mfer</th>\n",
       "      <th>charcoal mfer</th>\n",
       "      <th>plain mfer</th>\n",
       "      <th>zombie mfer</th>\n",
       "    </tr>\n",
       "  </thead>\n",
       "  <tbody>\n",
       "    <tr>\n",
       "      <th>type</th>\n",
       "      <td>9</td>\n",
       "      <td>28</td>\n",
       "      <td>3958</td>\n",
       "      <td>5916</td>\n",
       "      <td>89</td>\n",
       "    </tr>\n",
       "  </tbody>\n",
       "</table>\n",
       "</div>"
      ],
      "text/plain": [
       "      alien mfer  ape mfer  charcoal mfer  plain mfer  zombie mfer\n",
       "type           9        28           3958        5916           89"
      ]
     },
     "execution_count": 58,
     "metadata": {},
     "output_type": "execute_result"
    }
   ],
   "source": [
    "pd.DataFrame(res.json()['collection']['traits']['type'], index=['type'])"
   ]
  },
  {
   "cell_type": "code",
   "execution_count": 59,
   "id": "f1322932-7b8d-44f3-a61f-38efc41efecd",
   "metadata": {},
   "outputs": [
    {
     "data": {
      "text/html": [
       "<div>\n",
       "<style scoped>\n",
       "    .dataframe tbody tr th:only-of-type {\n",
       "        vertical-align: middle;\n",
       "    }\n",
       "\n",
       "    .dataframe tbody tr th {\n",
       "        vertical-align: top;\n",
       "    }\n",
       "\n",
       "    .dataframe thead th {\n",
       "        text-align: right;\n",
       "    }\n",
       "</style>\n",
       "<table border=\"1\" class=\"dataframe\">\n",
       "  <thead>\n",
       "    <tr style=\"text-align: right;\">\n",
       "      <th></th>\n",
       "      <th>cowboy hat</th>\n",
       "      <th>hoodie</th>\n",
       "      <th>pilot helmet</th>\n",
       "      <th>top hat</th>\n",
       "    </tr>\n",
       "  </thead>\n",
       "  <tbody>\n",
       "    <tr>\n",
       "      <th>hat over headphones</th>\n",
       "      <td>146</td>\n",
       "      <td>143</td>\n",
       "      <td>58</td>\n",
       "      <td>119</td>\n",
       "    </tr>\n",
       "  </tbody>\n",
       "</table>\n",
       "</div>"
      ],
      "text/plain": [
       "                     cowboy hat  hoodie  pilot helmet  top hat\n",
       "hat over headphones         146     143            58      119"
      ]
     },
     "execution_count": 59,
     "metadata": {},
     "output_type": "execute_result"
    }
   ],
   "source": [
    "pd.DataFrame(res.json()['collection']['traits']['hat over headphones'], index=['hat over headphones'])"
   ]
  },
  {
   "cell_type": "code",
   "execution_count": 60,
   "id": "f7b1c26c-6336-4cf0-a404-49f0a4028691",
   "metadata": {},
   "outputs": [
    {
     "data": {
      "text/html": [
       "<div>\n",
       "<style scoped>\n",
       "    .dataframe tbody tr th:only-of-type {\n",
       "        vertical-align: middle;\n",
       "    }\n",
       "\n",
       "    .dataframe tbody tr th {\n",
       "        vertical-align: top;\n",
       "    }\n",
       "\n",
       "    .dataframe thead th {\n",
       "        text-align: right;\n",
       "    }\n",
       "</style>\n",
       "<table border=\"1\" class=\"dataframe\">\n",
       "  <thead>\n",
       "    <tr style=\"text-align: right;\">\n",
       "      <th></th>\n",
       "      <th>bandana blue</th>\n",
       "      <th>bandana dark gray</th>\n",
       "      <th>bandana red</th>\n",
       "      <th>beanie</th>\n",
       "      <th>beanie monochrome</th>\n",
       "      <th>cap monochrome</th>\n",
       "      <th>cap purple</th>\n",
       "      <th>headband blue/green</th>\n",
       "      <th>headband blue/red</th>\n",
       "      <th>headband blue/white</th>\n",
       "      <th>...</th>\n",
       "      <th>knit buffalo</th>\n",
       "      <th>knit chicago</th>\n",
       "      <th>knit cleveland</th>\n",
       "      <th>knit dallas</th>\n",
       "      <th>knit kc</th>\n",
       "      <th>knit las vegas</th>\n",
       "      <th>knit miami</th>\n",
       "      <th>knit new york</th>\n",
       "      <th>knit pittsburgh</th>\n",
       "      <th>knit san fran</th>\n",
       "    </tr>\n",
       "  </thead>\n",
       "  <tbody>\n",
       "    <tr>\n",
       "      <th>hat under headphones</th>\n",
       "      <td>109</td>\n",
       "      <td>319</td>\n",
       "      <td>208</td>\n",
       "      <td>41</td>\n",
       "      <td>82</td>\n",
       "      <td>190</td>\n",
       "      <td>101</td>\n",
       "      <td>135</td>\n",
       "      <td>46</td>\n",
       "      <td>208</td>\n",
       "      <td>...</td>\n",
       "      <td>89</td>\n",
       "      <td>124</td>\n",
       "      <td>120</td>\n",
       "      <td>97</td>\n",
       "      <td>86</td>\n",
       "      <td>84</td>\n",
       "      <td>88</td>\n",
       "      <td>108</td>\n",
       "      <td>103</td>\n",
       "      <td>104</td>\n",
       "    </tr>\n",
       "  </tbody>\n",
       "</table>\n",
       "<p>1 rows × 24 columns</p>\n",
       "</div>"
      ],
      "text/plain": [
       "                      bandana blue  bandana dark gray  bandana red  beanie  \\\n",
       "hat under headphones           109                319          208      41   \n",
       "\n",
       "                      beanie monochrome  cap monochrome  cap purple  \\\n",
       "hat under headphones                 82             190         101   \n",
       "\n",
       "                      headband blue/green  headband blue/red  \\\n",
       "hat under headphones                  135                 46   \n",
       "\n",
       "                      headband blue/white  ...  knit buffalo  knit chicago  \\\n",
       "hat under headphones                  208  ...            89           124   \n",
       "\n",
       "                      knit cleveland  knit dallas  knit kc  knit las vegas  \\\n",
       "hat under headphones             120           97       86              84   \n",
       "\n",
       "                      knit miami  knit new york  knit pittsburgh  \\\n",
       "hat under headphones          88            108              103   \n",
       "\n",
       "                      knit san fran  \n",
       "hat under headphones            104  \n",
       "\n",
       "[1 rows x 24 columns]"
      ]
     },
     "execution_count": 60,
     "metadata": {},
     "output_type": "execute_result"
    }
   ],
   "source": [
    "pd.DataFrame(res.json()['collection']['traits']['hat under headphones'], index=['hat under headphones'])"
   ]
  },
  {
   "cell_type": "code",
   "execution_count": null,
   "id": "3a713e23-931d-4e32-bd8c-79181f6575ba",
   "metadata": {},
   "outputs": [],
   "source": []
  }
 ],
 "metadata": {
  "kernelspec": {
   "display_name": "Python 3 (ipykernel)",
   "language": "python",
   "name": "python3"
  },
  "language_info": {
   "codemirror_mode": {
    "name": "ipython",
    "version": 3
   },
   "file_extension": ".py",
   "mimetype": "text/x-python",
   "name": "python",
   "nbconvert_exporter": "python",
   "pygments_lexer": "ipython3",
   "version": "3.9.7"
  }
 },
 "nbformat": 4,
 "nbformat_minor": 5
}
