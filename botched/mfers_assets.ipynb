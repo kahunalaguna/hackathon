{
 "cells": [
  {
   "cell_type": "code",
   "execution_count": 1,
   "id": "269afa31-daff-42c0-acb3-22ee28aec05a",
   "metadata": {},
   "outputs": [],
   "source": [
    "import pandas as pd\n",
    "import requests\n",
    "import time\n",
    "import random"
   ]
  },
  {
   "cell_type": "code",
   "execution_count": 2,
   "id": "035100d5-eb7e-4313-91d5-9e2dcea93357",
   "metadata": {},
   "outputs": [],
   "source": [
    "#requesting assets from mfers collection"
   ]
  },
  {
   "cell_type": "code",
   "execution_count": 5,
   "id": "d57a0d99-4b83-4c66-a691-d6fdf90828d5",
   "metadata": {},
   "outputs": [
    {
     "data": {
      "text/plain": [
       "403"
      ]
     },
     "execution_count": 5,
     "metadata": {},
     "output_type": "execute_result"
    }
   ],
   "source": [
    "url = \"https://api.opensea.io/api/v1/assets\"\n",
    "params={\n",
    "    \"collection\":\"mfers\"\n",
    "}\n",
    "res=requests.get(url, params)\n",
    "res.status_code"
   ]
  },
  {
   "cell_type": "code",
   "execution_count": 6,
   "id": "451ce1fe-5f4a-49c4-8aeb-342a53382e69",
   "metadata": {},
   "outputs": [],
   "source": [
    "#looks like I can't scrape assets without pre-approval for an api which I only requested today\n",
    "#maybe I can get approved for use in capstone"
   ]
  }
 ],
 "metadata": {
  "kernelspec": {
   "display_name": "Python 3 (ipykernel)",
   "language": "python",
   "name": "python3"
  },
  "language_info": {
   "codemirror_mode": {
    "name": "ipython",
    "version": 3
   },
   "file_extension": ".py",
   "mimetype": "text/x-python",
   "name": "python",
   "nbconvert_exporter": "python",
   "pygments_lexer": "ipython3",
   "version": "3.9.7"
  }
 },
 "nbformat": 4,
 "nbformat_minor": 5
}
