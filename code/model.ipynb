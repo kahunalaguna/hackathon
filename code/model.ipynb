{
 "cells": [
  {
   "cell_type": "code",
   "execution_count": 1,
   "id": "ed3374ba-1288-4c62-a7d2-d625a0fbb043",
   "metadata": {},
   "outputs": [],
   "source": [
    "import pandas as pd"
   ]
  },
  {
   "cell_type": "code",
   "execution_count": 2,
   "id": "d3cc4c8c-e2c4-4523-94db-32c3c19c7cfe",
   "metadata": {},
   "outputs": [
    {
     "data": {
      "text/html": [
       "<div>\n",
       "<style scoped>\n",
       "    .dataframe tbody tr th:only-of-type {\n",
       "        vertical-align: middle;\n",
       "    }\n",
       "\n",
       "    .dataframe tbody tr th {\n",
       "        vertical-align: top;\n",
       "    }\n",
       "\n",
       "    .dataframe thead th {\n",
       "        text-align: right;\n",
       "    }\n",
       "</style>\n",
       "<table border=\"1\" class=\"dataframe\">\n",
       "  <thead>\n",
       "    <tr style=\"text-align: right;\">\n",
       "      <th></th>\n",
       "      <th>txn_type</th>\n",
       "      <th>date</th>\n",
       "      <th>eth</th>\n",
       "      <th>punk_id</th>\n",
       "      <th>type</th>\n",
       "      <th>accessories</th>\n",
       "      <th>type_rarity</th>\n",
       "      <th>type_pct</th>\n",
       "      <th>num_accessories</th>\n",
       "    </tr>\n",
       "  </thead>\n",
       "  <tbody>\n",
       "    <tr>\n",
       "      <th>0</th>\n",
       "      <td>Sold</td>\n",
       "      <td>2017-06-23</td>\n",
       "      <td>0.98</td>\n",
       "      <td>0</td>\n",
       "      <td>Female</td>\n",
       "      <td>['Green Eye Shadow', 'Earring', 'Blonde Bob']</td>\n",
       "      <td>2.6</td>\n",
       "      <td>0.384</td>\n",
       "      <td>3</td>\n",
       "    </tr>\n",
       "    <tr>\n",
       "      <th>1</th>\n",
       "      <td>Bid</td>\n",
       "      <td>2017-06-23</td>\n",
       "      <td>0.98</td>\n",
       "      <td>0</td>\n",
       "      <td>Female</td>\n",
       "      <td>['Green Eye Shadow', 'Earring', 'Blonde Bob']</td>\n",
       "      <td>2.6</td>\n",
       "      <td>0.384</td>\n",
       "      <td>3</td>\n",
       "    </tr>\n",
       "    <tr>\n",
       "      <th>2</th>\n",
       "      <td>Bid</td>\n",
       "      <td>2017-06-23</td>\n",
       "      <td>0.67</td>\n",
       "      <td>0</td>\n",
       "      <td>Female</td>\n",
       "      <td>['Green Eye Shadow', 'Earring', 'Blonde Bob']</td>\n",
       "      <td>2.6</td>\n",
       "      <td>0.384</td>\n",
       "      <td>3</td>\n",
       "    </tr>\n",
       "  </tbody>\n",
       "</table>\n",
       "</div>"
      ],
      "text/plain": [
       "  txn_type        date   eth  punk_id    type  \\\n",
       "0     Sold  2017-06-23  0.98        0  Female   \n",
       "1      Bid  2017-06-23  0.98        0  Female   \n",
       "2      Bid  2017-06-23  0.67        0  Female   \n",
       "\n",
       "                                     accessories  type_rarity  type_pct  \\\n",
       "0  ['Green Eye Shadow', 'Earring', 'Blonde Bob']          2.6     0.384   \n",
       "1  ['Green Eye Shadow', 'Earring', 'Blonde Bob']          2.6     0.384   \n",
       "2  ['Green Eye Shadow', 'Earring', 'Blonde Bob']          2.6     0.384   \n",
       "\n",
       "   num_accessories  \n",
       "0                3  \n",
       "1                3  \n",
       "2                3  "
      ]
     },
     "execution_count": 2,
     "metadata": {},
     "output_type": "execute_result"
    }
   ],
   "source": [
    "df=pd.read_csv('working.csv')\n",
    "df.head(3)"
   ]
  },
  {
   "cell_type": "code",
   "execution_count": 3,
   "id": "78f9f13d-4bb2-4602-8adb-4203093d5841",
   "metadata": {},
   "outputs": [
    {
     "data": {
      "text/plain": [
       "Offered            64170\n",
       "Bid                23880\n",
       "Sold               18626\n",
       "Bid Withdrawn      15282\n",
       "Transfer            1234\n",
       "Offer Withdrawn      413\n",
       "Claimed              121\n",
       "(Unwrap)              72\n",
       "(Wrap)                50\n",
       "Name: txn_type, dtype: int64"
      ]
     },
     "execution_count": 3,
     "metadata": {},
     "output_type": "execute_result"
    }
   ],
   "source": [
    "df.txn_type.value_counts()"
   ]
  },
  {
   "cell_type": "code",
   "execution_count": 4,
   "id": "36102834-25d7-4cf5-b20c-1f33d0e4d88c",
   "metadata": {},
   "outputs": [],
   "source": [
    "#subsetting dataframe by txn type"
   ]
  },
  {
   "cell_type": "code",
   "execution_count": 5,
   "id": "ad01646d-636d-4ce4-a977-34dd7c072eef",
   "metadata": {},
   "outputs": [
    {
     "data": {
      "text/plain": [
       "(23880, 9)"
      ]
     },
     "execution_count": 5,
     "metadata": {},
     "output_type": "execute_result"
    }
   ],
   "source": [
    "bid = df.loc[df.txn_type == 'Bid']\n",
    "bid.shape"
   ]
  },
  {
   "cell_type": "code",
   "execution_count": 6,
   "id": "25ca5745-bdf0-4954-a62b-2c395b9d95d8",
   "metadata": {},
   "outputs": [
    {
     "data": {
      "text/plain": [
       "(18626, 9)"
      ]
     },
     "execution_count": 6,
     "metadata": {},
     "output_type": "execute_result"
    }
   ],
   "source": [
    "sale = df.loc[df.txn_type == 'Sold']\n",
    "sale.shape"
   ]
  },
  {
   "cell_type": "code",
   "execution_count": 7,
   "id": "6cae10da-61f9-4783-82c1-766374a7d45a",
   "metadata": {},
   "outputs": [
    {
     "data": {
      "text/html": [
       "<div>\n",
       "<style scoped>\n",
       "    .dataframe tbody tr th:only-of-type {\n",
       "        vertical-align: middle;\n",
       "    }\n",
       "\n",
       "    .dataframe tbody tr th {\n",
       "        vertical-align: top;\n",
       "    }\n",
       "\n",
       "    .dataframe thead th {\n",
       "        text-align: right;\n",
       "    }\n",
       "</style>\n",
       "<table border=\"1\" class=\"dataframe\">\n",
       "  <thead>\n",
       "    <tr style=\"text-align: right;\">\n",
       "      <th></th>\n",
       "      <th>eth</th>\n",
       "      <th>accessories</th>\n",
       "      <th>type_rarity</th>\n",
       "      <th>num_accessories</th>\n",
       "    </tr>\n",
       "  </thead>\n",
       "  <tbody>\n",
       "    <tr>\n",
       "      <th>0</th>\n",
       "      <td>0.98</td>\n",
       "      <td>['Green Eye Shadow', 'Earring', 'Blonde Bob']</td>\n",
       "      <td>2.6</td>\n",
       "      <td>3</td>\n",
       "    </tr>\n",
       "    <tr>\n",
       "      <th>3</th>\n",
       "      <td>0.25</td>\n",
       "      <td>['Black Lipstick', 'Green Eye Shadow', 'Mohawk...</td>\n",
       "      <td>2.6</td>\n",
       "      <td>3</td>\n",
       "    </tr>\n",
       "    <tr>\n",
       "      <th>6</th>\n",
       "      <td>0.20</td>\n",
       "      <td>['Purple Eye Shadow', 'Wild Blonde', 'Cigarette']</td>\n",
       "      <td>2.6</td>\n",
       "      <td>3</td>\n",
       "    </tr>\n",
       "  </tbody>\n",
       "</table>\n",
       "</div>"
      ],
      "text/plain": [
       "    eth                                        accessories  type_rarity  \\\n",
       "0  0.98      ['Green Eye Shadow', 'Earring', 'Blonde Bob']          2.6   \n",
       "3  0.25  ['Black Lipstick', 'Green Eye Shadow', 'Mohawk...          2.6   \n",
       "6  0.20  ['Purple Eye Shadow', 'Wild Blonde', 'Cigarette']          2.6   \n",
       "\n",
       "   num_accessories  \n",
       "0                3  \n",
       "3                3  \n",
       "6                3  "
      ]
     },
     "execution_count": 7,
     "metadata": {},
     "output_type": "execute_result"
    }
   ],
   "source": [
    "sale_mlb = sale.drop(columns=['txn_type', 'date', 'punk_id', 'type', 'type_pct'])\n",
    "sale_mlb.head(3)"
   ]
  },
  {
   "cell_type": "code",
   "execution_count": 9,
   "id": "72a1fd68-230b-499b-b53b-1dcd6fb6f955",
   "metadata": {},
   "outputs": [],
   "source": [
    "sale_mlb.accessories = sale_mlb.accessories.map(eval)"
   ]
  },
  {
   "cell_type": "code",
   "execution_count": 10,
   "id": "7aee96fa-f519-4873-bb5f-c7509c420749",
   "metadata": {},
   "outputs": [],
   "source": [
    "#attempting to multilabelbinarize accessories column\n",
    "from sklearn.preprocessing import MultiLabelBinarizer"
   ]
  },
  {
   "cell_type": "code",
   "execution_count": 12,
   "id": "e13d75ab-7e73-4a76-8c65-8ba2ca364bda",
   "metadata": {},
   "outputs": [],
   "source": [
    "mlb = MultiLabelBinarizer()\n",
    "mlb.fit(sale_mlb['accessories'])\n",
    "\n",
    "acc_mlb = pd.DataFrame(mlb.transform(sale_mlb['accessories']), columns=mlb.classes_)"
   ]
  },
  {
   "cell_type": "code",
   "execution_count": 17,
   "id": "6d1172cf-9b6e-47eb-a527-547c409cc3b2",
   "metadata": {},
   "outputs": [
    {
     "data": {
      "text/html": [
       "<div>\n",
       "<style scoped>\n",
       "    .dataframe tbody tr th:only-of-type {\n",
       "        vertical-align: middle;\n",
       "    }\n",
       "\n",
       "    .dataframe tbody tr th {\n",
       "        vertical-align: top;\n",
       "    }\n",
       "\n",
       "    .dataframe thead th {\n",
       "        text-align: right;\n",
       "    }\n",
       "</style>\n",
       "<table border=\"1\" class=\"dataframe\">\n",
       "  <thead>\n",
       "    <tr style=\"text-align: right;\">\n",
       "      <th></th>\n",
       "      <th>eth</th>\n",
       "      <th>accessories</th>\n",
       "      <th>type_rarity</th>\n",
       "      <th>num_accessories</th>\n",
       "      <th>3D Glasses</th>\n",
       "      <th>Bandana</th>\n",
       "      <th>Beanie</th>\n",
       "      <th>Big Beard</th>\n",
       "      <th>Big Shades</th>\n",
       "      <th>Black Lipstick</th>\n",
       "      <th>...</th>\n",
       "      <th>Tassle Hat</th>\n",
       "      <th>Tiara</th>\n",
       "      <th>Top Hat</th>\n",
       "      <th>VR</th>\n",
       "      <th>Vampire Hair</th>\n",
       "      <th>Vape</th>\n",
       "      <th>Welding Goggles</th>\n",
       "      <th>Wild Blonde</th>\n",
       "      <th>Wild Hair</th>\n",
       "      <th>Wild White Hair</th>\n",
       "    </tr>\n",
       "  </thead>\n",
       "  <tbody>\n",
       "    <tr>\n",
       "      <th>0</th>\n",
       "      <td>0.98</td>\n",
       "      <td>[Green Eye Shadow, Earring, Blonde Bob]</td>\n",
       "      <td>2.6</td>\n",
       "      <td>3.0</td>\n",
       "      <td>0.0</td>\n",
       "      <td>0.0</td>\n",
       "      <td>0.0</td>\n",
       "      <td>0.0</td>\n",
       "      <td>0.0</td>\n",
       "      <td>0.0</td>\n",
       "      <td>...</td>\n",
       "      <td>0.0</td>\n",
       "      <td>0.0</td>\n",
       "      <td>0.0</td>\n",
       "      <td>0.0</td>\n",
       "      <td>0.0</td>\n",
       "      <td>0.0</td>\n",
       "      <td>0.0</td>\n",
       "      <td>0.0</td>\n",
       "      <td>0.0</td>\n",
       "      <td>0.0</td>\n",
       "    </tr>\n",
       "    <tr>\n",
       "      <th>1</th>\n",
       "      <td>NaN</td>\n",
       "      <td>NaN</td>\n",
       "      <td>NaN</td>\n",
       "      <td>NaN</td>\n",
       "      <td>0.0</td>\n",
       "      <td>0.0</td>\n",
       "      <td>0.0</td>\n",
       "      <td>0.0</td>\n",
       "      <td>0.0</td>\n",
       "      <td>1.0</td>\n",
       "      <td>...</td>\n",
       "      <td>0.0</td>\n",
       "      <td>0.0</td>\n",
       "      <td>0.0</td>\n",
       "      <td>0.0</td>\n",
       "      <td>0.0</td>\n",
       "      <td>0.0</td>\n",
       "      <td>0.0</td>\n",
       "      <td>0.0</td>\n",
       "      <td>0.0</td>\n",
       "      <td>0.0</td>\n",
       "    </tr>\n",
       "    <tr>\n",
       "      <th>2</th>\n",
       "      <td>NaN</td>\n",
       "      <td>NaN</td>\n",
       "      <td>NaN</td>\n",
       "      <td>NaN</td>\n",
       "      <td>0.0</td>\n",
       "      <td>0.0</td>\n",
       "      <td>0.0</td>\n",
       "      <td>0.0</td>\n",
       "      <td>0.0</td>\n",
       "      <td>0.0</td>\n",
       "      <td>...</td>\n",
       "      <td>0.0</td>\n",
       "      <td>0.0</td>\n",
       "      <td>0.0</td>\n",
       "      <td>0.0</td>\n",
       "      <td>0.0</td>\n",
       "      <td>0.0</td>\n",
       "      <td>0.0</td>\n",
       "      <td>1.0</td>\n",
       "      <td>0.0</td>\n",
       "      <td>0.0</td>\n",
       "    </tr>\n",
       "    <tr>\n",
       "      <th>3</th>\n",
       "      <td>0.25</td>\n",
       "      <td>[Black Lipstick, Green Eye Shadow, Mohawk Thin]</td>\n",
       "      <td>2.6</td>\n",
       "      <td>3.0</td>\n",
       "      <td>0.0</td>\n",
       "      <td>0.0</td>\n",
       "      <td>0.0</td>\n",
       "      <td>0.0</td>\n",
       "      <td>0.0</td>\n",
       "      <td>0.0</td>\n",
       "      <td>...</td>\n",
       "      <td>0.0</td>\n",
       "      <td>0.0</td>\n",
       "      <td>0.0</td>\n",
       "      <td>0.0</td>\n",
       "      <td>0.0</td>\n",
       "      <td>0.0</td>\n",
       "      <td>0.0</td>\n",
       "      <td>1.0</td>\n",
       "      <td>0.0</td>\n",
       "      <td>0.0</td>\n",
       "    </tr>\n",
       "    <tr>\n",
       "      <th>4</th>\n",
       "      <td>NaN</td>\n",
       "      <td>NaN</td>\n",
       "      <td>NaN</td>\n",
       "      <td>NaN</td>\n",
       "      <td>1.0</td>\n",
       "      <td>0.0</td>\n",
       "      <td>0.0</td>\n",
       "      <td>0.0</td>\n",
       "      <td>0.0</td>\n",
       "      <td>0.0</td>\n",
       "      <td>...</td>\n",
       "      <td>0.0</td>\n",
       "      <td>0.0</td>\n",
       "      <td>0.0</td>\n",
       "      <td>0.0</td>\n",
       "      <td>0.0</td>\n",
       "      <td>1.0</td>\n",
       "      <td>0.0</td>\n",
       "      <td>0.0</td>\n",
       "      <td>1.0</td>\n",
       "      <td>0.0</td>\n",
       "    </tr>\n",
       "  </tbody>\n",
       "</table>\n",
       "<p>5 rows × 91 columns</p>\n",
       "</div>"
      ],
      "text/plain": [
       "    eth                                      accessories  type_rarity  \\\n",
       "0  0.98          [Green Eye Shadow, Earring, Blonde Bob]          2.6   \n",
       "1   NaN                                              NaN          NaN   \n",
       "2   NaN                                              NaN          NaN   \n",
       "3  0.25  [Black Lipstick, Green Eye Shadow, Mohawk Thin]          2.6   \n",
       "4   NaN                                              NaN          NaN   \n",
       "\n",
       "   num_accessories  3D Glasses  Bandana  Beanie  Big Beard  Big Shades  \\\n",
       "0              3.0         0.0      0.0     0.0        0.0         0.0   \n",
       "1              NaN         0.0      0.0     0.0        0.0         0.0   \n",
       "2              NaN         0.0      0.0     0.0        0.0         0.0   \n",
       "3              3.0         0.0      0.0     0.0        0.0         0.0   \n",
       "4              NaN         1.0      0.0     0.0        0.0         0.0   \n",
       "\n",
       "   Black Lipstick  ...  Tassle Hat  Tiara  Top Hat   VR  Vampire Hair  Vape  \\\n",
       "0             0.0  ...         0.0    0.0      0.0  0.0           0.0   0.0   \n",
       "1             1.0  ...         0.0    0.0      0.0  0.0           0.0   0.0   \n",
       "2             0.0  ...         0.0    0.0      0.0  0.0           0.0   0.0   \n",
       "3             0.0  ...         0.0    0.0      0.0  0.0           0.0   0.0   \n",
       "4             0.0  ...         0.0    0.0      0.0  0.0           0.0   1.0   \n",
       "\n",
       "   Welding Goggles  Wild Blonde  Wild Hair  Wild White Hair  \n",
       "0              0.0          0.0        0.0              0.0  \n",
       "1              0.0          0.0        0.0              0.0  \n",
       "2              0.0          1.0        0.0              0.0  \n",
       "3              0.0          1.0        0.0              0.0  \n",
       "4              0.0          0.0        1.0              0.0  \n",
       "\n",
       "[5 rows x 91 columns]"
      ]
     },
     "execution_count": 17,
     "metadata": {},
     "output_type": "execute_result"
    }
   ],
   "source": [
    "data = pd.concat([sale_mlb, acc_mlb], axis=1)\n",
    "data.head()"
   ]
  },
  {
   "cell_type": "code",
   "execution_count": 21,
   "id": "6d87d0f0-a9e8-49e4-87dc-fe440a020032",
   "metadata": {},
   "outputs": [],
   "source": [
    "data.dropna(inplace=True)"
   ]
  },
  {
   "cell_type": "code",
   "execution_count": 22,
   "id": "a6937400-9a93-42d0-aad5-74fe0c02ceb9",
   "metadata": {},
   "outputs": [],
   "source": [
    "#Define X and y\n",
    "X= data.drop(columns=['accessories', 'eth'])\n",
    "y= data['eth']\n",
    "\n",
    "#train test split\n",
    "from sklearn.model_selection import train_test_split\n",
    "X_train, X_test, y_train, y_test = train_test_split(X, y, random_state=42)"
   ]
  },
  {
   "cell_type": "code",
   "execution_count": 23,
   "id": "0037d746-1c4c-475e-bb05-5c2db9fee945",
   "metadata": {},
   "outputs": [
    {
     "data": {
      "text/plain": [
       "(0.29808384880767547, 0.19812665486575465)"
      ]
     },
     "execution_count": 23,
     "metadata": {},
     "output_type": "execute_result"
    }
   ],
   "source": [
    "from sklearn.linear_model import LinearRegression\n",
    "lr=LinearRegression()\n",
    "lr.fit(X_train, y_train)\n",
    "lr.score(X_train, y_train), lr.score(X_test, y_test)"
   ]
  },
  {
   "cell_type": "code",
   "execution_count": null,
   "id": "8623e1ab-5c64-4194-8e56-5bf33c5be224",
   "metadata": {},
   "outputs": [],
   "source": []
  },
  {
   "cell_type": "code",
   "execution_count": 25,
   "id": "f52e7abd-95f9-4396-b418-51df234ca21c",
   "metadata": {},
   "outputs": [
    {
     "data": {
      "text/plain": [
       "0.47198407639354806"
      ]
     },
     "execution_count": 25,
     "metadata": {},
     "output_type": "execute_result"
    }
   ],
   "source": [
    "lr.coef_.max()"
   ]
  },
  {
   "cell_type": "code",
   "execution_count": 26,
   "id": "d9240e07-aa9b-494f-b499-509492d6a226",
   "metadata": {},
   "outputs": [
    {
     "data": {
      "text/plain": [
       "-0.17291754909447665"
      ]
     },
     "execution_count": 26,
     "metadata": {},
     "output_type": "execute_result"
    }
   ],
   "source": [
    "lr.coef_.min()"
   ]
  },
  {
   "cell_type": "code",
   "execution_count": 27,
   "id": "53316c2c-4d6a-4932-b872-adf7e0544b03",
   "metadata": {},
   "outputs": [
    {
     "data": {
      "text/plain": [
       "0.1128766434842977"
      ]
     },
     "execution_count": 27,
     "metadata": {},
     "output_type": "execute_result"
    }
   ],
   "source": [
    "lr.coef_.std()"
   ]
  },
  {
   "cell_type": "code",
   "execution_count": 28,
   "id": "f203e5ee-0522-433a-9629-97c7b767c528",
   "metadata": {},
   "outputs": [],
   "source": [
    "from sklearn.preprocessing import StandardScaler\n",
    "\n",
    "z=StandardScaler()\n",
    "Z_train = z.fit_transform(X_train)\n",
    "Z_test = z.transform(X_test)"
   ]
  },
  {
   "cell_type": "code",
   "execution_count": 35,
   "id": "c2479e24-0e88-42fa-8308-8b91fd0d399a",
   "metadata": {},
   "outputs": [
    {
     "data": {
      "text/plain": [
       "(0.29808384880767536, 0.19812665486575487)"
      ]
     },
     "execution_count": 35,
     "metadata": {},
     "output_type": "execute_result"
    }
   ],
   "source": [
    "from sklearn.linear_model import LinearRegression\n",
    "lr=LinearRegression()\n",
    "lr.fit(Z_train, y_train)\n",
    "lr.score(Z_train, y_train), lr.score(Z_test, y_test)"
   ]
  },
  {
   "cell_type": "code",
   "execution_count": 29,
   "id": "e0f82c01-8bec-4865-9a30-c24ff59cc584",
   "metadata": {},
   "outputs": [
    {
     "data": {
      "text/plain": [
       "(0.4003313908663466, -0.03069689015403254)"
      ]
     },
     "execution_count": 29,
     "metadata": {},
     "output_type": "execute_result"
    }
   ],
   "source": [
    "from sklearn.neighbors import KNeighborsRegressor\n",
    "kn = KNeighborsRegressor()\n",
    "kn.fit(Z_train, y_train)\n",
    "kn.score(Z_train, y_train), kn.score(Z_test, y_test)"
   ]
  },
  {
   "cell_type": "code",
   "execution_count": 30,
   "id": "974f067b-393f-454b-b29b-8c799c462aef",
   "metadata": {},
   "outputs": [
    {
     "data": {
      "text/plain": [
       "(0.817338757319835, 0.15460052722875983)"
      ]
     },
     "execution_count": 30,
     "metadata": {},
     "output_type": "execute_result"
    }
   ],
   "source": [
    "from sklearn.tree import DecisionTreeRegressor\n",
    "dr = DecisionTreeRegressor(random_state=42)\n",
    "dr.fit(X_train, y_train)\n",
    "dr.score(X_train, y_train), dr.score(X_test, y_test)"
   ]
  },
  {
   "cell_type": "code",
   "execution_count": 31,
   "id": "8a37edcd-8c80-44c9-ad21-128723a8193f",
   "metadata": {},
   "outputs": [
    {
     "data": {
      "text/plain": [
       "(0.6643612924318967, 0.006383128519303338)"
      ]
     },
     "execution_count": 31,
     "metadata": {},
     "output_type": "execute_result"
    }
   ],
   "source": [
    "from sklearn.ensemble import BaggingRegressor\n",
    "br = BaggingRegressor(random_state=42)\n",
    "br.fit(X_train, y_train)\n",
    "br.score(X_train, y_train), br.score(X_test, y_test)"
   ]
  },
  {
   "cell_type": "code",
   "execution_count": 32,
   "id": "5969ac6f-8138-4aa5-8bf7-9277b5ad671e",
   "metadata": {},
   "outputs": [
    {
     "data": {
      "text/plain": [
       "(0.7369066457892757, 0.22307726435850417)"
      ]
     },
     "execution_count": 32,
     "metadata": {},
     "output_type": "execute_result"
    }
   ],
   "source": [
    "from sklearn.ensemble import RandomForestRegressor\n",
    "rf = RandomForestRegressor(random_state=42)\n",
    "rf.fit(X_train, y_train)\n",
    "rf.score(X_train, y_train), rf.score(X_test, y_test)"
   ]
  },
  {
   "cell_type": "code",
   "execution_count": 33,
   "id": "2e40f0f3-5f84-4afa-824b-1edb4a60c33a",
   "metadata": {},
   "outputs": [
    {
     "data": {
      "text/plain": [
       "(0.6638070042019315, 0.18039934621954756)"
      ]
     },
     "execution_count": 33,
     "metadata": {},
     "output_type": "execute_result"
    }
   ],
   "source": [
    "from sklearn.ensemble import AdaBoostRegressor\n",
    "ada = AdaBoostRegressor(random_state=42)\n",
    "ada.fit(X_train, y_train)\n",
    "ada.score(X_train, y_train), ada.score(X_test, y_test)"
   ]
  },
  {
   "cell_type": "code",
   "execution_count": 34,
   "id": "16b8c358-f130-4a4b-8e4d-86d291bf8f6e",
   "metadata": {},
   "outputs": [
    {
     "name": "stderr",
     "output_type": "stream",
     "text": [
      "/Users/kevingates/opt/anaconda3/lib/python3.9/site-packages/sklearn/svm/_base.py:1206: ConvergenceWarning: Liblinear failed to converge, increase the number of iterations.\n",
      "  warnings.warn(\n"
     ]
    },
    {
     "data": {
      "text/plain": [
       "(0.26167517764278103, 0.20850093372073686)"
      ]
     },
     "execution_count": 34,
     "metadata": {},
     "output_type": "execute_result"
    }
   ],
   "source": [
    "from sklearn.svm import LinearSVR\n",
    "svr = LinearSVR()\n",
    "svr.fit(Z_train, y_train)\n",
    "svr.score(Z_train, y_train), svr.score(Z_test, y_test)"
   ]
  },
  {
   "cell_type": "code",
   "execution_count": null,
   "id": "d642622c-c1fd-4c8b-b7b9-c711797c9799",
   "metadata": {},
   "outputs": [],
   "source": []
  }
 ],
 "metadata": {
  "kernelspec": {
   "display_name": "Python 3 (ipykernel)",
   "language": "python",
   "name": "python3"
  },
  "language_info": {
   "codemirror_mode": {
    "name": "ipython",
    "version": 3
   },
   "file_extension": ".py",
   "mimetype": "text/x-python",
   "name": "python",
   "nbconvert_exporter": "python",
   "pygments_lexer": "ipython3",
   "version": "3.9.7"
  }
 },
 "nbformat": 4,
 "nbformat_minor": 5
}
