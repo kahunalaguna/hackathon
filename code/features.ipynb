{
 "cells": [
  {
   "cell_type": "code",
   "execution_count": 1,
   "id": "9d863e03-3587-4329-a9f8-79bca40a454f",
   "metadata": {},
   "outputs": [],
   "source": [
    "import pandas as pd\n",
    "import matplotlib.pyplot as plt\n",
    "import seaborn as sns\n",
    "import plotly.express as px\n",
    "import numpy as np"
   ]
  },
  {
   "cell_type": "code",
   "execution_count": 2,
   "id": "0c65cfcc-6c81-4fa6-be24-0431db605c5a",
   "metadata": {},
   "outputs": [],
   "source": [
    "df=pd.read_csv(\"processed_data.csv\")"
   ]
  },
  {
   "cell_type": "markdown",
   "id": "e737d9f0-4fcf-4a8a-9757-10fb68e35ecc",
   "metadata": {},
   "source": [
    "### feature engineering"
   ]
  },
  {
   "cell_type": "code",
   "execution_count": 3,
   "id": "6251c60b-224f-4365-a5b6-ba5d3c1da4c3",
   "metadata": {},
   "outputs": [
    {
     "data": {
      "text/plain": [
       "Male      76004\n",
       "Female    44676\n",
       "Zombie     2033\n",
       "Ape         739\n",
       "Alien       396\n",
       "Name: type, dtype: int64"
      ]
     },
     "execution_count": 3,
     "metadata": {},
     "output_type": "execute_result"
    }
   ],
   "source": [
    "df.type.value_counts()"
   ]
  },
  {
   "cell_type": "code",
   "execution_count": 4,
   "id": "64efb136-f7f8-448a-b5df-fd2747f0aeba",
   "metadata": {},
   "outputs": [],
   "source": [
    "#mapping type to new numeric columns \"type_rarity\"(score) and \"type_pct\"(count/10000)\n",
    "#scores drawn directly from https://rarity.tools/cryptopunks/traits\n",
    "type_score={\n",
    "    \"Male\":1.66,\n",
    "    \"Female\":2.60,\n",
    "    \"Zombie\":113.64,\n",
    "    \"Ape\":416.67,\n",
    "    \"Alien\":1111.11\n",
    "}\n",
    "\n",
    "type_count={\n",
    "    \"Male\":6039/10_000,\n",
    "    \"Female\":3840/10_000,\n",
    "    \"Zombie\":88/10_000,\n",
    "    \"Ape\":24/10_000,\n",
    "    \"Alien\":9/10_000\n",
    "}"
   ]
  },
  {
   "cell_type": "code",
   "execution_count": 5,
   "id": "25c54e98-cc65-46fc-bcf9-ef595594093e",
   "metadata": {},
   "outputs": [
    {
     "data": {
      "text/html": [
       "<div>\n",
       "<style scoped>\n",
       "    .dataframe tbody tr th:only-of-type {\n",
       "        vertical-align: middle;\n",
       "    }\n",
       "\n",
       "    .dataframe tbody tr th {\n",
       "        vertical-align: top;\n",
       "    }\n",
       "\n",
       "    .dataframe thead th {\n",
       "        text-align: right;\n",
       "    }\n",
       "</style>\n",
       "<table border=\"1\" class=\"dataframe\">\n",
       "  <thead>\n",
       "    <tr style=\"text-align: right;\">\n",
       "      <th></th>\n",
       "      <th>txn_type</th>\n",
       "      <th>date</th>\n",
       "      <th>eth</th>\n",
       "      <th>punk_id</th>\n",
       "      <th>type</th>\n",
       "      <th>accessories</th>\n",
       "      <th>type_rarity</th>\n",
       "      <th>type_pct</th>\n",
       "    </tr>\n",
       "  </thead>\n",
       "  <tbody>\n",
       "    <tr>\n",
       "      <th>0</th>\n",
       "      <td>Sold</td>\n",
       "      <td>2017-06-23</td>\n",
       "      <td>0.98</td>\n",
       "      <td>0</td>\n",
       "      <td>Female</td>\n",
       "      <td>['Green Eye Shadow', 'Earring', 'Blonde Bob']</td>\n",
       "      <td>2.6</td>\n",
       "      <td>0.384</td>\n",
       "    </tr>\n",
       "    <tr>\n",
       "      <th>1</th>\n",
       "      <td>Bid</td>\n",
       "      <td>2017-06-23</td>\n",
       "      <td>0.98</td>\n",
       "      <td>0</td>\n",
       "      <td>Female</td>\n",
       "      <td>['Green Eye Shadow', 'Earring', 'Blonde Bob']</td>\n",
       "      <td>2.6</td>\n",
       "      <td>0.384</td>\n",
       "    </tr>\n",
       "    <tr>\n",
       "      <th>2</th>\n",
       "      <td>Bid</td>\n",
       "      <td>2017-06-23</td>\n",
       "      <td>0.67</td>\n",
       "      <td>0</td>\n",
       "      <td>Female</td>\n",
       "      <td>['Green Eye Shadow', 'Earring', 'Blonde Bob']</td>\n",
       "      <td>2.6</td>\n",
       "      <td>0.384</td>\n",
       "    </tr>\n",
       "    <tr>\n",
       "      <th>3</th>\n",
       "      <td>Sold</td>\n",
       "      <td>2017-06-23</td>\n",
       "      <td>0.25</td>\n",
       "      <td>1841</td>\n",
       "      <td>Female</td>\n",
       "      <td>['Black Lipstick', 'Green Eye Shadow', 'Mohawk...</td>\n",
       "      <td>2.6</td>\n",
       "      <td>0.384</td>\n",
       "    </tr>\n",
       "    <tr>\n",
       "      <th>4</th>\n",
       "      <td>Offered</td>\n",
       "      <td>2017-06-23</td>\n",
       "      <td>0.25</td>\n",
       "      <td>1841</td>\n",
       "      <td>Female</td>\n",
       "      <td>['Black Lipstick', 'Green Eye Shadow', 'Mohawk...</td>\n",
       "      <td>2.6</td>\n",
       "      <td>0.384</td>\n",
       "    </tr>\n",
       "  </tbody>\n",
       "</table>\n",
       "</div>"
      ],
      "text/plain": [
       "  txn_type        date   eth  punk_id    type  \\\n",
       "0     Sold  2017-06-23  0.98        0  Female   \n",
       "1      Bid  2017-06-23  0.98        0  Female   \n",
       "2      Bid  2017-06-23  0.67        0  Female   \n",
       "3     Sold  2017-06-23  0.25     1841  Female   \n",
       "4  Offered  2017-06-23  0.25     1841  Female   \n",
       "\n",
       "                                         accessories  type_rarity  type_pct  \n",
       "0      ['Green Eye Shadow', 'Earring', 'Blonde Bob']          2.6     0.384  \n",
       "1      ['Green Eye Shadow', 'Earring', 'Blonde Bob']          2.6     0.384  \n",
       "2      ['Green Eye Shadow', 'Earring', 'Blonde Bob']          2.6     0.384  \n",
       "3  ['Black Lipstick', 'Green Eye Shadow', 'Mohawk...          2.6     0.384  \n",
       "4  ['Black Lipstick', 'Green Eye Shadow', 'Mohawk...          2.6     0.384  "
      ]
     },
     "execution_count": 5,
     "metadata": {},
     "output_type": "execute_result"
    }
   ],
   "source": [
    "df['type_rarity']=df['type'].map(type_score)\n",
    "df['type_pct']=df['type'].map(type_count)\n",
    "df.head()"
   ]
  },
  {
   "cell_type": "code",
   "execution_count": 6,
   "id": "0840044f-318d-4491-9a4c-1d5e3eeb7221",
   "metadata": {},
   "outputs": [
    {
     "data": {
      "text/plain": [
       "str"
      ]
     },
     "execution_count": 6,
     "metadata": {},
     "output_type": "execute_result"
    }
   ],
   "source": [
    "type(df.accessories[0])"
   ]
  },
  {
   "cell_type": "code",
   "execution_count": 7,
   "id": "e2b9e199-8b36-451e-a1aa-00d035562474",
   "metadata": {},
   "outputs": [],
   "source": [
    "df.accessories = df.accessories.map(eval)"
   ]
  },
  {
   "cell_type": "code",
   "execution_count": 8,
   "id": "637b2a96-65a1-44b0-8d05-43c06647fe35",
   "metadata": {},
   "outputs": [
    {
     "data": {
      "text/plain": [
       "list"
      ]
     },
     "execution_count": 8,
     "metadata": {},
     "output_type": "execute_result"
    }
   ],
   "source": [
    "type(df.accessories[0])"
   ]
  },
  {
   "cell_type": "code",
   "execution_count": 10,
   "id": "60cda73e-2b6a-4da1-9e97-0a2d7e4729cf",
   "metadata": {
    "tags": []
   },
   "outputs": [
    {
     "data": {
      "text/html": [
       "<div>\n",
       "<style scoped>\n",
       "    .dataframe tbody tr th:only-of-type {\n",
       "        vertical-align: middle;\n",
       "    }\n",
       "\n",
       "    .dataframe tbody tr th {\n",
       "        vertical-align: top;\n",
       "    }\n",
       "\n",
       "    .dataframe thead th {\n",
       "        text-align: right;\n",
       "    }\n",
       "</style>\n",
       "<table border=\"1\" class=\"dataframe\">\n",
       "  <thead>\n",
       "    <tr style=\"text-align: right;\">\n",
       "      <th></th>\n",
       "      <th>txn_type</th>\n",
       "      <th>date</th>\n",
       "      <th>eth</th>\n",
       "      <th>punk_id</th>\n",
       "      <th>type</th>\n",
       "      <th>accessories</th>\n",
       "      <th>type_rarity</th>\n",
       "      <th>type_pct</th>\n",
       "      <th>num_accessories</th>\n",
       "    </tr>\n",
       "  </thead>\n",
       "  <tbody>\n",
       "    <tr>\n",
       "      <th>0</th>\n",
       "      <td>Sold</td>\n",
       "      <td>2017-06-23</td>\n",
       "      <td>0.98</td>\n",
       "      <td>0</td>\n",
       "      <td>Female</td>\n",
       "      <td>[Green Eye Shadow, Earring, Blonde Bob]</td>\n",
       "      <td>2.6</td>\n",
       "      <td>0.384</td>\n",
       "      <td>3</td>\n",
       "    </tr>\n",
       "    <tr>\n",
       "      <th>1</th>\n",
       "      <td>Bid</td>\n",
       "      <td>2017-06-23</td>\n",
       "      <td>0.98</td>\n",
       "      <td>0</td>\n",
       "      <td>Female</td>\n",
       "      <td>[Green Eye Shadow, Earring, Blonde Bob]</td>\n",
       "      <td>2.6</td>\n",
       "      <td>0.384</td>\n",
       "      <td>3</td>\n",
       "    </tr>\n",
       "    <tr>\n",
       "      <th>2</th>\n",
       "      <td>Bid</td>\n",
       "      <td>2017-06-23</td>\n",
       "      <td>0.67</td>\n",
       "      <td>0</td>\n",
       "      <td>Female</td>\n",
       "      <td>[Green Eye Shadow, Earring, Blonde Bob]</td>\n",
       "      <td>2.6</td>\n",
       "      <td>0.384</td>\n",
       "      <td>3</td>\n",
       "    </tr>\n",
       "  </tbody>\n",
       "</table>\n",
       "</div>"
      ],
      "text/plain": [
       "  txn_type        date   eth  punk_id    type  \\\n",
       "0     Sold  2017-06-23  0.98        0  Female   \n",
       "1      Bid  2017-06-23  0.98        0  Female   \n",
       "2      Bid  2017-06-23  0.67        0  Female   \n",
       "\n",
       "                               accessories  type_rarity  type_pct  \\\n",
       "0  [Green Eye Shadow, Earring, Blonde Bob]          2.6     0.384   \n",
       "1  [Green Eye Shadow, Earring, Blonde Bob]          2.6     0.384   \n",
       "2  [Green Eye Shadow, Earring, Blonde Bob]          2.6     0.384   \n",
       "\n",
       "   num_accessories  \n",
       "0                3  \n",
       "1                3  \n",
       "2                3  "
      ]
     },
     "execution_count": 10,
     "metadata": {},
     "output_type": "execute_result"
    }
   ],
   "source": [
    "#num_acc column\n",
    "df['num_accessories'] = [len(l) for l in df.accessories]\n",
    "df.head(3)"
   ]
  },
  {
   "cell_type": "code",
   "execution_count": 107,
   "id": "fd9af6dc-215b-4d79-9fde-2f0e0b24c57b",
   "metadata": {},
   "outputs": [
    {
     "data": {
      "text/plain": [
       "Offered            64170\n",
       "Bid                23880\n",
       "Sold               18626\n",
       "Bid Withdrawn      15282\n",
       "Transfer            1234\n",
       "Offer Withdrawn      413\n",
       "Claimed              121\n",
       "(Unwrap)              72\n",
       "(Wrap)                50\n",
       "Name: txn_type, dtype: int64"
      ]
     },
     "execution_count": 107,
     "metadata": {},
     "output_type": "execute_result"
    }
   ],
   "source": [
    "df.txn_type.value_counts()"
   ]
  },
  {
   "cell_type": "code",
   "execution_count": null,
   "id": "6f5190e2-b561-4a3e-9530-b1bf8a0e6c6c",
   "metadata": {},
   "outputs": [],
   "source": [
    "attributes = ['hair', 'eyes', 'facial_hair', 'neck_acc', 'mouth_prop', 'mouth', 'blemishes', 'ears', 'nose']"
   ]
  },
  {
   "cell_type": "code",
   "execution_count": null,
   "id": "784569b5-8342-4418-9784-37508c5fd8ef",
   "metadata": {},
   "outputs": [],
   "source": [
    "#hair"
   ]
  },
  {
   "cell_type": "code",
   "execution_count": null,
   "id": "496cdd54-117b-4880-9c2c-44f85f09dd75",
   "metadata": {
    "jupyter": {
     "source_hidden": true
    },
    "tags": []
   },
   "outputs": [],
   "source": [
    "hair rarity={\n",
    "    \"Beanie\":227.27,\n",
    "    Pilot Helmet:185.19,\n",
    "    Tiara:181.82,\n",
    "    Orange Side:147.06,\n",
    "    Pigtails:106.38,\n",
    "    Pink With Hat: 105.26,\n",
    "    Top Hat:86.96,\n",
    "    Blonde Short:77.52,\n",
    "    Wild White Hair:73.53,\n",
    "    Cowboy Hat:70.42,\n",
    "    Straight Hair Blonde:69.44,\n",
    "    Wild Blonde:69.44,\n",
    "    Blonde Bob:68.03,\n",
    "    Half Shaved:68.03,\n",
    "    Red Mohawk:68.03,\n",
    "    Vampire Hair:68.03,\n",
    "    Clown Hair Green:67.57,\n",
    "    Straight Hair Dark:67.57,\n",
    "    Straight Hair:66.23,\n",
    "    Dark Hair:63.69,\n",
    "    Purple Hair:60.61,\n",
    "    Tassle Hat:56.18,\n",
    "    Fedora:53.76,\n",
    "    Police Cap:49.26,\n",
    "    #<none>:40.65,\n",
    "    'Cap Forward':39.37,\n",
    "    'Hoodie':39.37,\n",
    "    'Do-rag':33.33,\n",
    "    'Shaved Head':33.33,\n",
    "    'Peak Spike':33,\n",
    "    'Cap':28.49,\n",
    "    'Headband':24.63,\n",
    "    'Crazy Hair':24.15,\n",
    "    'Knitted Cap': 23.87,\n",
    "    'Mohawk Dark':23.31,\n",
    "    'Mohawk':22.68,\n",
    "    'Mohawk Thin':22.68,\n",
    "    'Frumpy Hair':22.62,\n",
    "    'Wild Hair':22.37,\n",
    "    'Messy Hair':21.74,\n",
    "    'Stringy Hair':21.60,\n",
    "    'Bandana':20.79\n",
    "}"
   ]
  },
  {
   "cell_type": "code",
   "execution_count": 12,
   "id": "f8580b10-68f3-45c5-9439-b68b5251b5d4",
   "metadata": {},
   "outputs": [],
   "source": [
    "#scraping rarity.tools/cryptopunks/traits\n",
    "#get name and rarity score for each type of each attribute in accessories\n",
    "#create df columns for attribute type ex: hair, eyes and map accessory with rarity score"
   ]
  },
  {
   "cell_type": "code",
   "execution_count": 21,
   "id": "7ae21b3e-5a90-49a5-ab29-72d31f58171e",
   "metadata": {},
   "outputs": [],
   "source": [
    "import requests\n",
    "from bs4 import BeautifulSoup"
   ]
  },
  {
   "cell_type": "code",
   "execution_count": 15,
   "id": "7553d9eb-072f-4b6f-b328-6499c167d529",
   "metadata": {},
   "outputs": [],
   "source": [
    "#urls:\n",
    "\"\"\"hair='https://rarity.tools/cryptopunks/traits?trait=Hair'\n",
    "eyes='https://rarity.tools/cryptopunks/traits?trait=Eyes'\n",
    "facial_hair='https://rarity.tools/cryptopunks/traits?trait=Facial%20Hair'\n",
    "neck_accessory='https://rarity.tools/cryptopunks/traits?trait=Neck%20Accessory'\n",
    "mouth_prop='https://rarity.tools/cryptopunks/traits?trait=Mouth%20Prop'\n",
    "mouth='https://rarity.tools/cryptopunks/traits?trait=Mouth'\n",
    "blemishes='https://rarity.tools/cryptopunks/traits?trait=Blemishes'\n",
    "ears='https://rarity.tools/cryptopunks/traits?trait=Ears'\n",
    "nose='https://rarity.tools/cryptopunks/traits?trait=Nose'\"\"\""
   ]
  },
  {
   "cell_type": "code",
   "execution_count": 22,
   "id": "1fcf0dda-ba62-4fbc-a581-6b874551f0ba",
   "metadata": {},
   "outputs": [],
   "source": [
    "#hair soup"
   ]
  },
  {
   "cell_type": "code",
   "execution_count": 26,
   "id": "e6702b31-b2f1-4be8-8abc-38efe1be030c",
   "metadata": {
    "jupyter": {
     "source_hidden": true
    },
    "tags": []
   },
   "outputs": [],
   "source": [
    "hair = BeautifulSoup('''<table class=\"relative m-auto traitValues\"><tr><th class=\"text-left\">Value</th> <th class=\"text-right\">Count</th> <th class=\"text-right\">Rarity Score</th> <!----> <!----> <th class=\"pl-8 text-left\">Examples</th></tr> <tr class=\"text-base\"><td class=\"font-bold text-pink-700\"><!----> <div class=\"cursor-pointer select-none hover:underline\">Beanie</div></td> <td class=\"font-bold text-right\">\n",
    "            44\n",
    "          </td> <td class=\"font-bold text-right text-green-500\">+227.27</td> <!----> <!----> <td><div class=\"flex flex-row flex-nowrap\"><div class=\"overflow-hidden rounded-md m-0.5\" style=\"width: 108px; height: 108px; background-color: rgb(99, 133, 150);\"><a href=\"/cryptopunks/traits/view/4513?trait=Hair\" class=\"\"><img decoding=\"async\" loading=\"eager\" src=\"https://www.larvalabs.com/public/images/cryptopunks/punk4513.png\" class=\"m-auto cursor-pointer pixellate\" style=\"width: 108px; height: 108px; background-color: rgb(99, 133, 150);\"></a></div><div class=\"overflow-hidden rounded-md m-0.5\" style=\"width: 108px; height: 108px; background-color: rgb(99, 133, 150);\"><a href=\"/cryptopunks/traits/view/5056?trait=Hair\" class=\"\"><img decoding=\"async\" loading=\"eager\" src=\"https://www.larvalabs.com/public/images/cryptopunks/punk5056.png\" class=\"m-auto cursor-pointer pixellate\" style=\"width: 108px; height: 108px; background-color: rgb(99, 133, 150);\"></a></div><div class=\"overflow-hidden rounded-md m-0.5\" style=\"width: 108px; height: 108px; background-color: rgb(99, 133, 150);\"><a href=\"/cryptopunks/traits/view/8581?trait=Hair\" class=\"\"><img decoding=\"async\" loading=\"eager\" src=\"https://www.larvalabs.com/public/images/cryptopunks/punk8581.png\" class=\"m-auto cursor-pointer pixellate\" style=\"width: 108px; height: 108px; background-color: rgb(99, 133, 150);\"></a></div></div></td></tr><tr class=\"text-base\"><td class=\"font-bold text-pink-700\"><!----> <div class=\"cursor-pointer select-none hover:underline\">Pilot Helmet</div></td> <td class=\"font-bold text-right\">\n",
    "            54\n",
    "          </td> <td class=\"font-bold text-right text-green-500\">+185.19</td> <!----> <!----> <td><div class=\"flex flex-row flex-nowrap\"><div class=\"overflow-hidden rounded-md m-0.5\" style=\"width: 108px; height: 108px; background-color: rgb(99, 133, 150);\"><a href=\"/cryptopunks/traits/view/5684?trait=Hair\" class=\"\"><img decoding=\"async\" loading=\"eager\" src=\"https://www.larvalabs.com/public/images/cryptopunks/punk5684.png\" class=\"m-auto cursor-pointer pixellate\" style=\"width: 108px; height: 108px; background-color: rgb(99, 133, 150);\"></a></div><div class=\"overflow-hidden rounded-md m-0.5\" style=\"width: 108px; height: 108px; background-color: rgb(99, 133, 150);\"><a href=\"/cryptopunks/traits/view/8884?trait=Hair\" class=\"\"><img decoding=\"async\" loading=\"eager\" src=\"https://www.larvalabs.com/public/images/cryptopunks/punk8884.png\" class=\"m-auto cursor-pointer pixellate\" style=\"width: 108px; height: 108px; background-color: rgb(99, 133, 150);\"></a></div><div class=\"overflow-hidden rounded-md m-0.5\" style=\"width: 108px; height: 108px; background-color: rgb(99, 133, 150);\"><a href=\"/cryptopunks/traits/view/7057?trait=Hair\" class=\"\"><img decoding=\"async\" loading=\"eager\" src=\"https://www.larvalabs.com/public/images/cryptopunks/punk7057.png\" class=\"m-auto cursor-pointer pixellate\" style=\"width: 108px; height: 108px; background-color: rgb(99, 133, 150);\"></a></div></div></td></tr><tr class=\"text-base\"><td class=\"font-bold text-pink-700\"><!----> <div class=\"cursor-pointer select-none hover:underline\">Tiara</div></td> <td class=\"font-bold text-right\">\n",
    "            55\n",
    "          </td> <td class=\"font-bold text-right text-green-500\">+181.82</td> <!----> <!----> <td><div class=\"flex flex-row flex-nowrap\"><div class=\"overflow-hidden rounded-md m-0.5\" style=\"width: 108px; height: 108px; background-color: rgb(99, 133, 150);\"><a href=\"/cryptopunks/traits/view/5787?trait=Hair\" class=\"\"><img decoding=\"async\" loading=\"eager\" src=\"https://www.larvalabs.com/public/images/cryptopunks/punk5787.png\" class=\"m-auto cursor-pointer pixellate\" style=\"width: 108px; height: 108px; background-color: rgb(99, 133, 150);\"></a></div><div class=\"overflow-hidden rounded-md m-0.5\" style=\"width: 108px; height: 108px; background-color: rgb(99, 133, 150);\"><a href=\"/cryptopunks/traits/view/3684?trait=Hair\" class=\"\"><img decoding=\"async\" loading=\"eager\" src=\"https://www.larvalabs.com/public/images/cryptopunks/punk3684.png\" class=\"m-auto cursor-pointer pixellate\" style=\"width: 108px; height: 108px; background-color: rgb(99, 133, 150);\"></a></div><div class=\"overflow-hidden rounded-md m-0.5\" style=\"width: 108px; height: 108px; background-color: rgb(99, 133, 150);\"><a href=\"/cryptopunks/traits/view/8886?trait=Hair\" class=\"\"><img decoding=\"async\" loading=\"eager\" src=\"https://www.larvalabs.com/public/images/cryptopunks/punk8886.png\" class=\"m-auto cursor-pointer pixellate\" style=\"width: 108px; height: 108px; background-color: rgb(99, 133, 150);\"></a></div></div></td></tr><tr class=\"text-base\"><td class=\"font-bold text-pink-700\"><!----> <div class=\"cursor-pointer select-none hover:underline\">Orange Side</div></td> <td class=\"font-bold text-right\">\n",
    "            68\n",
    "          </td> <td class=\"font-bold text-right text-green-500\">+147.06</td> <!----> <!----> <td><div class=\"flex flex-row flex-nowrap\"><div class=\"overflow-hidden rounded-md m-0.5\" style=\"width: 108px; height: 108px; background-color: rgb(99, 133, 150);\"><a href=\"/cryptopunks/traits/view/1684?trait=Hair\" class=\"\"><img decoding=\"async\" loading=\"eager\" src=\"https://www.larvalabs.com/public/images/cryptopunks/punk1684.png\" class=\"m-auto cursor-pointer pixellate\" style=\"width: 108px; height: 108px; background-color: rgb(99, 133, 150);\"></a></div><div class=\"overflow-hidden rounded-md m-0.5\" style=\"width: 108px; height: 108px; background-color: rgb(99, 133, 150);\"><a href=\"/cryptopunks/traits/view/7898?trait=Hair\" class=\"\"><img decoding=\"async\" loading=\"eager\" src=\"https://www.larvalabs.com/public/images/cryptopunks/punk7898.png\" class=\"m-auto cursor-pointer pixellate\" style=\"width: 108px; height: 108px; background-color: rgb(99, 133, 150);\"></a></div><div class=\"overflow-hidden rounded-md m-0.5\" style=\"width: 108px; height: 108px; background-color: rgb(99, 133, 150);\"><a href=\"/cryptopunks/traits/view/5670?trait=Hair\" class=\"\"><img decoding=\"async\" loading=\"eager\" src=\"https://www.larvalabs.com/public/images/cryptopunks/punk5670.png\" class=\"m-auto cursor-pointer pixellate\" style=\"width: 108px; height: 108px; background-color: rgb(99, 133, 150);\"></a></div></div></td></tr><tr class=\"text-base\"><td class=\"font-bold text-pink-700\"><!----> <div class=\"cursor-pointer select-none hover:underline\">Pigtails</div></td> <td class=\"font-bold text-right\">\n",
    "            94\n",
    "          </td> <td class=\"font-bold text-right text-green-500\">+106.38</td> <!----> <!----> <td><div class=\"flex flex-row flex-nowrap\"><div class=\"overflow-hidden rounded-md m-0.5\" style=\"width: 108px; height: 108px; background-color: rgb(99, 133, 150);\"><a href=\"/cryptopunks/traits/view/8105?trait=Hair\" class=\"\"><img decoding=\"async\" loading=\"eager\" src=\"https://www.larvalabs.com/public/images/cryptopunks/punk8105.png\" class=\"m-auto cursor-pointer pixellate\" style=\"width: 108px; height: 108px; background-color: rgb(99, 133, 150);\"></a></div><div class=\"overflow-hidden rounded-md m-0.5\" style=\"width: 108px; height: 108px; background-color: rgb(99, 133, 150);\"><a href=\"/cryptopunks/traits/view/5721?trait=Hair\" class=\"\"><img decoding=\"async\" loading=\"eager\" src=\"https://www.larvalabs.com/public/images/cryptopunks/punk5721.png\" class=\"m-auto cursor-pointer pixellate\" style=\"width: 108px; height: 108px; background-color: rgb(99, 133, 150);\"></a></div><div class=\"overflow-hidden rounded-md m-0.5\" style=\"width: 108px; height: 108px; background-color: rgb(99, 133, 150);\"><a href=\"/cryptopunks/traits/view/2613?trait=Hair\" class=\"\"><img decoding=\"async\" loading=\"eager\" src=\"https://www.larvalabs.com/public/images/cryptopunks/punk2613.png\" class=\"m-auto cursor-pointer pixellate\" style=\"width: 108px; height: 108px; background-color: rgb(99, 133, 150);\"></a></div></div></td></tr><tr class=\"text-base\"><td class=\"font-bold text-pink-700\"><!----> <div class=\"cursor-pointer select-none hover:underline\">Pink With Hat</div></td> <td class=\"font-bold text-right\">\n",
    "            95\n",
    "          </td> <td class=\"font-bold text-right text-green-500\">+105.26</td> <!----> <!----> <td><div class=\"flex flex-row flex-nowrap\"><div class=\"overflow-hidden rounded-md m-0.5\" style=\"width: 108px; height: 108px; background-color: rgb(99, 133, 150);\"><a href=\"/cryptopunks/traits/view/2680?trait=Hair\" class=\"\"><img decoding=\"async\" loading=\"eager\" src=\"https://www.larvalabs.com/public/images/cryptopunks/punk2680.png\" class=\"m-auto cursor-pointer pixellate\" style=\"width: 108px; height: 108px; background-color: rgb(99, 133, 150);\"></a></div><div class=\"overflow-hidden rounded-md m-0.5\" style=\"width: 108px; height: 108px; background-color: rgb(99, 133, 150);\"><a href=\"/cryptopunks/traits/view/7942?trait=Hair\" class=\"\"><img decoding=\"async\" loading=\"eager\" src=\"https://www.larvalabs.com/public/images/cryptopunks/punk7942.png\" class=\"m-auto cursor-pointer pixellate\" style=\"width: 108px; height: 108px; background-color: rgb(99, 133, 150);\"></a></div><div class=\"overflow-hidden rounded-md m-0.5\" style=\"width: 108px; height: 108px; background-color: rgb(99, 133, 150);\"><a href=\"/cryptopunks/traits/view/8867?trait=Hair\" class=\"\"><img decoding=\"async\" loading=\"eager\" src=\"https://www.larvalabs.com/public/images/cryptopunks/punk8867.png\" class=\"m-auto cursor-pointer pixellate\" style=\"width: 108px; height: 108px; background-color: rgb(99, 133, 150);\"></a></div></div></td></tr><tr class=\"text-base\"><td class=\"font-bold text-pink-700\"><!----> <div class=\"cursor-pointer select-none hover:underline\">Top Hat</div></td> <td class=\"font-bold text-right\">\n",
    "            115\n",
    "          </td> <td class=\"font-bold text-right text-green-500\">+86.96</td> <!----> <!----> <td><div class=\"flex flex-row flex-nowrap\"><div class=\"overflow-hidden rounded-md m-0.5\" style=\"width: 108px; height: 108px; background-color: rgb(99, 133, 150);\"><a href=\"/cryptopunks/traits/view/8348?trait=Hair\" class=\"\"><img decoding=\"async\" loading=\"eager\" src=\"https://www.larvalabs.com/public/images/cryptopunks/punk8348.png\" class=\"m-auto cursor-pointer pixellate\" style=\"width: 108px; height: 108px; background-color: rgb(99, 133, 150);\"></a></div><div class=\"overflow-hidden rounded-md m-0.5\" style=\"width: 108px; height: 108px; background-color: rgb(99, 133, 150);\"><a href=\"/cryptopunks/traits/view/8498?trait=Hair\" class=\"\"><img decoding=\"async\" loading=\"eager\" src=\"https://www.larvalabs.com/public/images/cryptopunks/punk8498.png\" class=\"m-auto cursor-pointer pixellate\" style=\"width: 108px; height: 108px; background-color: rgb(99, 133, 150);\"></a></div><div class=\"overflow-hidden rounded-md m-0.5\" style=\"width: 108px; height: 108px; background-color: rgb(99, 133, 150);\"><a href=\"/cryptopunks/traits/view/3636?trait=Hair\" class=\"\"><img decoding=\"async\" loading=\"eager\" src=\"https://www.larvalabs.com/public/images/cryptopunks/punk3636.png\" class=\"m-auto cursor-pointer pixellate\" style=\"width: 108px; height: 108px; background-color: rgb(99, 133, 150);\"></a></div></div></td></tr><tr class=\"text-base\"><td class=\"font-bold text-pink-700\"><!----> <div class=\"cursor-pointer select-none hover:underline\">Blonde Short</div></td> <td class=\"font-bold text-right\">\n",
    "            129\n",
    "          </td> <td class=\"font-bold text-right text-green-500\">+77.52</td> <!----> <!----> <td><div class=\"flex flex-row flex-nowrap\"><div class=\"overflow-hidden rounded-md m-0.5\" style=\"width: 108px; height: 108px; background-color: rgb(99, 133, 150);\"><a href=\"/cryptopunks/traits/view/3763?trait=Hair\" class=\"\"><img decoding=\"async\" loading=\"eager\" src=\"https://www.larvalabs.com/public/images/cryptopunks/punk3763.png\" class=\"m-auto cursor-pointer pixellate\" style=\"width: 108px; height: 108px; background-color: rgb(99, 133, 150);\"></a></div><div class=\"overflow-hidden rounded-md m-0.5\" style=\"width: 108px; height: 108px; background-color: rgb(99, 133, 150);\"><a href=\"/cryptopunks/traits/view/1547?trait=Hair\" class=\"\"><img decoding=\"async\" loading=\"eager\" src=\"https://www.larvalabs.com/public/images/cryptopunks/punk1547.png\" class=\"m-auto cursor-pointer pixellate\" style=\"width: 108px; height: 108px; background-color: rgb(99, 133, 150);\"></a></div><div class=\"overflow-hidden rounded-md m-0.5\" style=\"width: 108px; height: 108px; background-color: rgb(99, 133, 150);\"><a href=\"/cryptopunks/traits/view/1854?trait=Hair\" class=\"\"><img decoding=\"async\" loading=\"eager\" src=\"https://www.larvalabs.com/public/images/cryptopunks/punk1854.png\" class=\"m-auto cursor-pointer pixellate\" style=\"width: 108px; height: 108px; background-color: rgb(99, 133, 150);\"></a></div></div></td></tr><tr class=\"text-base\"><td class=\"font-bold text-pink-700\"><!----> <div class=\"cursor-pointer select-none hover:underline\">Wild White Hair</div></td> <td class=\"font-bold text-right\">\n",
    "            136\n",
    "          </td> <td class=\"font-bold text-right text-green-500\">+73.53</td> <!----> <!----> <td><div class=\"flex flex-row flex-nowrap\"><div class=\"overflow-hidden rounded-md m-0.5\" style=\"width: 108px; height: 108px; background-color: rgb(99, 133, 150);\"><a href=\"/cryptopunks/traits/view/5668?trait=Hair\" class=\"\"><img decoding=\"async\" loading=\"eager\" src=\"https://www.larvalabs.com/public/images/cryptopunks/punk5668.png\" class=\"m-auto cursor-pointer pixellate\" style=\"width: 108px; height: 108px; background-color: rgb(99, 133, 150);\"></a></div><div class=\"overflow-hidden rounded-md m-0.5\" style=\"width: 108px; height: 108px; background-color: rgb(99, 133, 150);\"><a href=\"/cryptopunks/traits/view/9825?trait=Hair\" class=\"\"><img decoding=\"async\" loading=\"eager\" src=\"https://www.larvalabs.com/public/images/cryptopunks/punk9825.png\" class=\"m-auto cursor-pointer pixellate\" style=\"width: 108px; height: 108px; background-color: rgb(99, 133, 150);\"></a></div><div class=\"overflow-hidden rounded-md m-0.5\" style=\"width: 108px; height: 108px; background-color: rgb(99, 133, 150);\"><a href=\"/cryptopunks/traits/view/2836?trait=Hair\" class=\"\"><img decoding=\"async\" loading=\"eager\" src=\"https://www.larvalabs.com/public/images/cryptopunks/punk2836.png\" class=\"m-auto cursor-pointer pixellate\" style=\"width: 108px; height: 108px; background-color: rgb(99, 133, 150);\"></a></div></div></td></tr><tr class=\"text-base\"><td class=\"font-bold text-pink-700\"><!----> <div class=\"cursor-pointer select-none hover:underline\">Cowboy Hat</div></td> <td class=\"font-bold text-right\">\n",
    "            142\n",
    "          </td> <td class=\"font-bold text-right text-green-500\">+70.42</td> <!----> <!----> <td><div class=\"flex flex-row flex-nowrap\"><div class=\"overflow-hidden rounded-md m-0.5\" style=\"width: 108px; height: 108px; background-color: rgb(99, 133, 150);\"><a href=\"/cryptopunks/traits/view/3443?trait=Hair\" class=\"\"><img decoding=\"async\" loading=\"eager\" src=\"https://www.larvalabs.com/public/images/cryptopunks/punk3443.png\" class=\"m-auto cursor-pointer pixellate\" style=\"width: 108px; height: 108px; background-color: rgb(99, 133, 150);\"></a></div><div class=\"overflow-hidden rounded-md m-0.5\" style=\"width: 108px; height: 108px; background-color: rgb(99, 133, 150);\"><a href=\"/cryptopunks/traits/view/9280?trait=Hair\" class=\"\"><img decoding=\"async\" loading=\"eager\" src=\"https://www.larvalabs.com/public/images/cryptopunks/punk9280.png\" class=\"m-auto cursor-pointer pixellate\" style=\"width: 108px; height: 108px; background-color: rgb(99, 133, 150);\"></a></div><div class=\"overflow-hidden rounded-md m-0.5\" style=\"width: 108px; height: 108px; background-color: rgb(99, 133, 150);\"><a href=\"/cryptopunks/traits/view/5577?trait=Hair\" class=\"\"><img decoding=\"async\" loading=\"eager\" src=\"https://www.larvalabs.com/public/images/cryptopunks/punk5577.png\" class=\"m-auto cursor-pointer pixellate\" style=\"width: 108px; height: 108px; background-color: rgb(99, 133, 150);\"></a></div></div></td></tr><tr class=\"text-base\"><td class=\"font-bold text-pink-700\"><!----> <div class=\"cursor-pointer select-none hover:underline\">Straight Hair Blonde</div></td> <td class=\"font-bold text-right\">\n",
    "            144\n",
    "          </td> <td class=\"font-bold text-right text-green-500\">+69.44</td> <!----> <!----> <td><div class=\"flex flex-row flex-nowrap\"><div class=\"overflow-hidden rounded-md m-0.5\" style=\"width: 108px; height: 108px; background-color: rgb(99, 133, 150);\"><a href=\"/cryptopunks/traits/view/1714?trait=Hair\" class=\"\"><img decoding=\"async\" loading=\"eager\" src=\"https://www.larvalabs.com/public/images/cryptopunks/punk1714.png\" class=\"m-auto cursor-pointer pixellate\" style=\"width: 108px; height: 108px; background-color: rgb(99, 133, 150);\"></a></div><div class=\"overflow-hidden rounded-md m-0.5\" style=\"width: 108px; height: 108px; background-color: rgb(99, 133, 150);\"><a href=\"/cryptopunks/traits/view/1162?trait=Hair\" class=\"\"><img decoding=\"async\" loading=\"eager\" src=\"https://www.larvalabs.com/public/images/cryptopunks/punk1162.png\" class=\"m-auto cursor-pointer pixellate\" style=\"width: 108px; height: 108px; background-color: rgb(99, 133, 150);\"></a></div><div class=\"overflow-hidden rounded-md m-0.5\" style=\"width: 108px; height: 108px; background-color: rgb(99, 133, 150);\"><a href=\"/cryptopunks/traits/view/2698?trait=Hair\" class=\"\"><img decoding=\"async\" loading=\"eager\" src=\"https://www.larvalabs.com/public/images/cryptopunks/punk2698.png\" class=\"m-auto cursor-pointer pixellate\" style=\"width: 108px; height: 108px; background-color: rgb(99, 133, 150);\"></a></div></div></td></tr><tr class=\"text-base\"><td class=\"font-bold text-pink-700\"><!----> <div class=\"cursor-pointer select-none hover:underline\">Wild Blonde</div></td> <td class=\"font-bold text-right\">\n",
    "            144\n",
    "          </td> <td class=\"font-bold text-right text-green-500\">+69.44</td> <!----> <!----> <td><div class=\"flex flex-row flex-nowrap\"><div class=\"overflow-hidden rounded-md m-0.5\" style=\"width: 108px; height: 108px; background-color: rgb(99, 133, 150);\"><a href=\"/cryptopunks/traits/view/6629?trait=Hair\" class=\"\"><img decoding=\"async\" loading=\"eager\" src=\"https://www.larvalabs.com/public/images/cryptopunks/punk6629.png\" class=\"m-auto cursor-pointer pixellate\" style=\"width: 108px; height: 108px; background-color: rgb(99, 133, 150);\"></a></div><div class=\"overflow-hidden rounded-md m-0.5\" style=\"width: 108px; height: 108px; background-color: rgb(99, 133, 150);\"><a href=\"/cryptopunks/traits/view/8426?trait=Hair\" class=\"\"><img decoding=\"async\" loading=\"eager\" src=\"https://www.larvalabs.com/public/images/cryptopunks/punk8426.png\" class=\"m-auto cursor-pointer pixellate\" style=\"width: 108px; height: 108px; background-color: rgb(99, 133, 150);\"></a></div><div class=\"overflow-hidden rounded-md m-0.5\" style=\"width: 108px; height: 108px; background-color: rgb(99, 133, 150);\"><a href=\"/cryptopunks/traits/view/9925?trait=Hair\" class=\"\"><img decoding=\"async\" loading=\"eager\" src=\"https://www.larvalabs.com/public/images/cryptopunks/punk9925.png\" class=\"m-auto cursor-pointer pixellate\" style=\"width: 108px; height: 108px; background-color: rgb(99, 133, 150);\"></a></div></div></td></tr><tr class=\"text-base\"><td class=\"font-bold text-pink-700\"><!----> <div class=\"cursor-pointer select-none hover:underline\">Blonde Bob</div></td> <td class=\"font-bold text-right\">\n",
    "            147\n",
    "          </td> <td class=\"font-bold text-right text-green-500\">+68.03</td> <!----> <!----> <td><div class=\"flex flex-row flex-nowrap\"><div class=\"overflow-hidden rounded-md m-0.5\" style=\"width: 108px; height: 108px; background-color: rgb(99, 133, 150);\"><a href=\"/cryptopunks/traits/view/5622?trait=Hair\" class=\"\"><img decoding=\"async\" loading=\"eager\" src=\"https://www.larvalabs.com/public/images/cryptopunks/punk5622.png\" class=\"m-auto cursor-pointer pixellate\" style=\"width: 108px; height: 108px; background-color: rgb(99, 133, 150);\"></a></div><div class=\"overflow-hidden rounded-md m-0.5\" style=\"width: 108px; height: 108px; background-color: rgb(99, 133, 150);\"><a href=\"/cryptopunks/traits/view/755?trait=Hair\" class=\"\"><img decoding=\"async\" loading=\"eager\" src=\"https://www.larvalabs.com/public/images/cryptopunks/punk0755.png\" class=\"m-auto cursor-pointer pixellate\" style=\"width: 108px; height: 108px; background-color: rgb(99, 133, 150);\"></a></div><div class=\"overflow-hidden rounded-md m-0.5\" style=\"width: 108px; height: 108px; background-color: rgb(99, 133, 150);\"><a href=\"/cryptopunks/traits/view/8063?trait=Hair\" class=\"\"><img decoding=\"async\" loading=\"eager\" src=\"https://www.larvalabs.com/public/images/cryptopunks/punk8063.png\" class=\"m-auto cursor-pointer pixellate\" style=\"width: 108px; height: 108px; background-color: rgb(99, 133, 150);\"></a></div></div></td></tr><tr class=\"text-base\"><td class=\"font-bold text-pink-700\"><!----> <div class=\"cursor-pointer select-none hover:underline\">Half Shaved</div></td> <td class=\"font-bold text-right\">\n",
    "            147\n",
    "          </td> <td class=\"font-bold text-right text-green-500\">+68.03</td> <!----> <!----> <td><div class=\"flex flex-row flex-nowrap\"><div class=\"overflow-hidden rounded-md m-0.5\" style=\"width: 108px; height: 108px; background-color: rgb(99, 133, 150);\"><a href=\"/cryptopunks/traits/view/7219?trait=Hair\" class=\"\"><img decoding=\"async\" loading=\"eager\" src=\"https://www.larvalabs.com/public/images/cryptopunks/punk7219.png\" class=\"m-auto cursor-pointer pixellate\" style=\"width: 108px; height: 108px; background-color: rgb(99, 133, 150);\"></a></div><div class=\"overflow-hidden rounded-md m-0.5\" style=\"width: 108px; height: 108px; background-color: rgb(99, 133, 150);\"><a href=\"/cryptopunks/traits/view/6231?trait=Hair\" class=\"\"><img decoding=\"async\" loading=\"eager\" src=\"https://www.larvalabs.com/public/images/cryptopunks/punk6231.png\" class=\"m-auto cursor-pointer pixellate\" style=\"width: 108px; height: 108px; background-color: rgb(99, 133, 150);\"></a></div><div class=\"overflow-hidden rounded-md m-0.5\" style=\"width: 108px; height: 108px; background-color: rgb(99, 133, 150);\"><a href=\"/cryptopunks/traits/view/1972?trait=Hair\" class=\"\"><img decoding=\"async\" loading=\"eager\" src=\"https://www.larvalabs.com/public/images/cryptopunks/punk1972.png\" class=\"m-auto cursor-pointer pixellate\" style=\"width: 108px; height: 108px; background-color: rgb(99, 133, 150);\"></a></div></div></td></tr><tr class=\"text-base\"><td class=\"font-bold text-pink-700\"><!----> <div class=\"cursor-pointer select-none hover:underline\">Red Mohawk</div></td> <td class=\"font-bold text-right\">\n",
    "            147\n",
    "          </td> <td class=\"font-bold text-right text-green-500\">+68.03</td> <!----> <!----> <td><div class=\"flex flex-row flex-nowrap\"><div class=\"overflow-hidden rounded-md m-0.5\" style=\"width: 108px; height: 108px; background-color: rgb(99, 133, 150);\"><a href=\"/cryptopunks/traits/view/2208?trait=Hair\" class=\"\"><img decoding=\"async\" loading=\"eager\" src=\"https://www.larvalabs.com/public/images/cryptopunks/punk2208.png\" class=\"m-auto cursor-pointer pixellate\" style=\"width: 108px; height: 108px; background-color: rgb(99, 133, 150);\"></a></div><div class=\"overflow-hidden rounded-md m-0.5\" style=\"width: 108px; height: 108px; background-color: rgb(99, 133, 150);\"><a href=\"/cryptopunks/traits/view/7352?trait=Hair\" class=\"\"><img decoding=\"async\" loading=\"eager\" src=\"https://www.larvalabs.com/public/images/cryptopunks/punk7352.png\" class=\"m-auto cursor-pointer pixellate\" style=\"width: 108px; height: 108px; background-color: rgb(99, 133, 150);\"></a></div><div class=\"overflow-hidden rounded-md m-0.5\" style=\"width: 108px; height: 108px; background-color: rgb(99, 133, 150);\"><a href=\"/cryptopunks/traits/view/3648?trait=Hair\" class=\"\"><img decoding=\"async\" loading=\"eager\" src=\"https://www.larvalabs.com/public/images/cryptopunks/punk3648.png\" class=\"m-auto cursor-pointer pixellate\" style=\"width: 108px; height: 108px; background-color: rgb(99, 133, 150);\"></a></div></div></td></tr><tr class=\"text-base\"><td class=\"font-bold text-pink-700\"><!----> <div class=\"cursor-pointer select-none hover:underline\">Vampire Hair</div></td> <td class=\"font-bold text-right\">\n",
    "            147\n",
    "          </td> <td class=\"font-bold text-right text-green-500\">+68.03</td> <!----> <!----> <td><div class=\"flex flex-row flex-nowrap\"><div class=\"overflow-hidden rounded-md m-0.5\" style=\"width: 108px; height: 108px; background-color: rgb(99, 133, 150);\"><a href=\"/cryptopunks/traits/view/3011?trait=Hair\" class=\"\"><img decoding=\"async\" loading=\"eager\" src=\"https://www.larvalabs.com/public/images/cryptopunks/punk3011.png\" class=\"m-auto cursor-pointer pixellate\" style=\"width: 108px; height: 108px; background-color: rgb(99, 133, 150);\"></a></div><div class=\"overflow-hidden rounded-md m-0.5\" style=\"width: 108px; height: 108px; background-color: rgb(99, 133, 150);\"><a href=\"/cryptopunks/traits/view/3831?trait=Hair\" class=\"\"><img decoding=\"async\" loading=\"eager\" src=\"https://www.larvalabs.com/public/images/cryptopunks/punk3831.png\" class=\"m-auto cursor-pointer pixellate\" style=\"width: 108px; height: 108px; background-color: rgb(99, 133, 150);\"></a></div><div class=\"overflow-hidden rounded-md m-0.5\" style=\"width: 108px; height: 108px; background-color: rgb(99, 133, 150);\"><a href=\"/cryptopunks/traits/view/8811?trait=Hair\" class=\"\"><img decoding=\"async\" loading=\"eager\" src=\"https://www.larvalabs.com/public/images/cryptopunks/punk8811.png\" class=\"m-auto cursor-pointer pixellate\" style=\"width: 108px; height: 108px; background-color: rgb(99, 133, 150);\"></a></div></div></td></tr><tr class=\"text-base\"><td class=\"font-bold text-pink-700\"><!----> <div class=\"cursor-pointer select-none hover:underline\">Clown Hair Green</div></td> <td class=\"font-bold text-right\">\n",
    "            148\n",
    "          </td> <td class=\"font-bold text-right text-green-500\">+67.57</td> <!----> <!----> <td><div class=\"flex flex-row flex-nowrap\"><div class=\"overflow-hidden rounded-md m-0.5\" style=\"width: 108px; height: 108px; background-color: rgb(99, 133, 150);\"><a href=\"/cryptopunks/traits/view/8041?trait=Hair\" class=\"\"><img decoding=\"async\" loading=\"eager\" src=\"https://www.larvalabs.com/public/images/cryptopunks/punk8041.png\" class=\"m-auto cursor-pointer pixellate\" style=\"width: 108px; height: 108px; background-color: rgb(99, 133, 150);\"></a></div><div class=\"overflow-hidden rounded-md m-0.5\" style=\"width: 108px; height: 108px; background-color: rgb(99, 133, 150);\"><a href=\"/cryptopunks/traits/view/8325?trait=Hair\" class=\"\"><img decoding=\"async\" loading=\"eager\" src=\"https://www.larvalabs.com/public/images/cryptopunks/punk8325.png\" class=\"m-auto cursor-pointer pixellate\" style=\"width: 108px; height: 108px; background-color: rgb(99, 133, 150);\"></a></div><div class=\"overflow-hidden rounded-md m-0.5\" style=\"width: 108px; height: 108px; background-color: rgb(99, 133, 150);\"><a href=\"/cryptopunks/traits/view/9678?trait=Hair\" class=\"\"><img decoding=\"async\" loading=\"eager\" src=\"https://www.larvalabs.com/public/images/cryptopunks/punk9678.png\" class=\"m-auto cursor-pointer pixellate\" style=\"width: 108px; height: 108px; background-color: rgb(99, 133, 150);\"></a></div></div></td></tr><tr class=\"text-base\"><td class=\"font-bold text-pink-700\"><!----> <div class=\"cursor-pointer select-none hover:underline\">Straight Hair Dark</div></td> <td class=\"font-bold text-right\">\n",
    "            148\n",
    "          </td> <td class=\"font-bold text-right text-green-500\">+67.57</td> <!----> <!----> <td><div class=\"flex flex-row flex-nowrap\"><div class=\"overflow-hidden rounded-md m-0.5\" style=\"width: 108px; height: 108px; background-color: rgb(99, 133, 150);\"><a href=\"/cryptopunks/traits/view/9756?trait=Hair\" class=\"\"><img decoding=\"async\" loading=\"eager\" src=\"https://www.larvalabs.com/public/images/cryptopunks/punk9756.png\" class=\"m-auto cursor-pointer pixellate\" style=\"width: 108px; height: 108px; background-color: rgb(99, 133, 150);\"></a></div><div class=\"overflow-hidden rounded-md m-0.5\" style=\"width: 108px; height: 108px; background-color: rgb(99, 133, 150);\"><a href=\"/cryptopunks/traits/view/3707?trait=Hair\" class=\"\"><img decoding=\"async\" loading=\"eager\" src=\"https://www.larvalabs.com/public/images/cryptopunks/punk3707.png\" class=\"m-auto cursor-pointer pixellate\" style=\"width: 108px; height: 108px; background-color: rgb(99, 133, 150);\"></a></div><div class=\"overflow-hidden rounded-md m-0.5\" style=\"width: 108px; height: 108px; background-color: rgb(99, 133, 150);\"><a href=\"/cryptopunks/traits/view/2033?trait=Hair\" class=\"\"><img decoding=\"async\" loading=\"eager\" src=\"https://www.larvalabs.com/public/images/cryptopunks/punk2033.png\" class=\"m-auto cursor-pointer pixellate\" style=\"width: 108px; height: 108px; background-color: rgb(99, 133, 150);\"></a></div></div></td></tr><tr class=\"text-base\"><td class=\"font-bold text-pink-700\"><!----> <div class=\"cursor-pointer select-none hover:underline\">Straight Hair</div></td> <td class=\"font-bold text-right\">\n",
    "            151\n",
    "          </td> <td class=\"font-bold text-right text-green-500\">+66.23</td> <!----> <!----> <td><div class=\"flex flex-row flex-nowrap\"><div class=\"overflow-hidden rounded-md m-0.5\" style=\"width: 108px; height: 108px; background-color: rgb(99, 133, 150);\"><a href=\"/cryptopunks/traits/view/2202?trait=Hair\" class=\"\"><img decoding=\"async\" loading=\"eager\" src=\"https://www.larvalabs.com/public/images/cryptopunks/punk2202.png\" class=\"m-auto cursor-pointer pixellate\" style=\"width: 108px; height: 108px; background-color: rgb(99, 133, 150);\"></a></div><div class=\"overflow-hidden rounded-md m-0.5\" style=\"width: 108px; height: 108px; background-color: rgb(99, 133, 150);\"><a href=\"/cryptopunks/traits/view/3991?trait=Hair\" class=\"\"><img decoding=\"async\" loading=\"eager\" src=\"https://www.larvalabs.com/public/images/cryptopunks/punk3991.png\" class=\"m-auto cursor-pointer pixellate\" style=\"width: 108px; height: 108px; background-color: rgb(99, 133, 150);\"></a></div><div class=\"overflow-hidden rounded-md m-0.5\" style=\"width: 108px; height: 108px; background-color: rgb(99, 133, 150);\"><a href=\"/cryptopunks/traits/view/9957?trait=Hair\" class=\"\"><img decoding=\"async\" loading=\"eager\" src=\"https://www.larvalabs.com/public/images/cryptopunks/punk9957.png\" class=\"m-auto cursor-pointer pixellate\" style=\"width: 108px; height: 108px; background-color: rgb(99, 133, 150);\"></a></div></div></td></tr><tr class=\"text-base\"><td class=\"font-bold text-pink-700\"><!----> <div class=\"cursor-pointer select-none hover:underline\">Dark Hair</div></td> <td class=\"font-bold text-right\">\n",
    "            157\n",
    "          </td> <td class=\"font-bold text-right text-green-500\">+63.69</td> <!----> <!----> <td><div class=\"flex flex-row flex-nowrap\"><div class=\"overflow-hidden rounded-md m-0.5\" style=\"width: 108px; height: 108px; background-color: rgb(99, 133, 150);\"><a href=\"/cryptopunks/traits/view/7342?trait=Hair\" class=\"\"><img decoding=\"async\" loading=\"eager\" src=\"https://www.larvalabs.com/public/images/cryptopunks/punk7342.png\" class=\"m-auto cursor-pointer pixellate\" style=\"width: 108px; height: 108px; background-color: rgb(99, 133, 150);\"></a></div><div class=\"overflow-hidden rounded-md m-0.5\" style=\"width: 108px; height: 108px; background-color: rgb(99, 133, 150);\"><a href=\"/cryptopunks/traits/view/8299?trait=Hair\" class=\"\"><img decoding=\"async\" loading=\"eager\" src=\"https://www.larvalabs.com/public/images/cryptopunks/punk8299.png\" class=\"m-auto cursor-pointer pixellate\" style=\"width: 108px; height: 108px; background-color: rgb(99, 133, 150);\"></a></div><div class=\"overflow-hidden rounded-md m-0.5\" style=\"width: 108px; height: 108px; background-color: rgb(99, 133, 150);\"><a href=\"/cryptopunks/traits/view/1578?trait=Hair\" class=\"\"><img decoding=\"async\" loading=\"eager\" src=\"https://www.larvalabs.com/public/images/cryptopunks/punk1578.png\" class=\"m-auto cursor-pointer pixellate\" style=\"width: 108px; height: 108px; background-color: rgb(99, 133, 150);\"></a></div></div></td></tr><tr class=\"text-base\"><td class=\"font-bold text-pink-700\"><!----> <div class=\"cursor-pointer select-none hover:underline\">Purple Hair</div></td> <td class=\"font-bold text-right\">\n",
    "            165\n",
    "          </td> <td class=\"font-bold text-right text-green-500\">+60.61</td> <!----> <!----> <td><div class=\"flex flex-row flex-nowrap\"><div class=\"overflow-hidden rounded-md m-0.5\" style=\"width: 108px; height: 108px; background-color: rgb(99, 133, 150);\"><a href=\"/cryptopunks/traits/view/4850?trait=Hair\" class=\"\"><img decoding=\"async\" loading=\"eager\" src=\"https://www.larvalabs.com/public/images/cryptopunks/punk4850.png\" class=\"m-auto cursor-pointer pixellate\" style=\"width: 108px; height: 108px; background-color: rgb(99, 133, 150);\"></a></div><div class=\"overflow-hidden rounded-md m-0.5\" style=\"width: 108px; height: 108px; background-color: rgb(99, 133, 150);\"><a href=\"/cryptopunks/traits/view/4472?trait=Hair\" class=\"\"><img decoding=\"async\" loading=\"eager\" src=\"https://www.larvalabs.com/public/images/cryptopunks/punk4472.png\" class=\"m-auto cursor-pointer pixellate\" style=\"width: 108px; height: 108px; background-color: rgb(99, 133, 150);\"></a></div><div class=\"overflow-hidden rounded-md m-0.5\" style=\"width: 108px; height: 108px; background-color: rgb(99, 133, 150);\"><a href=\"/cryptopunks/traits/view/1271?trait=Hair\" class=\"\"><img decoding=\"async\" loading=\"eager\" src=\"https://www.larvalabs.com/public/images/cryptopunks/punk1271.png\" class=\"m-auto cursor-pointer pixellate\" style=\"width: 108px; height: 108px; background-color: rgb(99, 133, 150);\"></a></div></div></td></tr><tr class=\"text-base\"><td class=\"font-bold text-pink-700\"><!----> <div class=\"cursor-pointer select-none hover:underline\">Tassle Hat</div></td> <td class=\"font-bold text-right\">\n",
    "            178\n",
    "          </td> <td class=\"font-bold text-right text-green-500\">+56.18</td> <!----> <!----> <td><div class=\"flex flex-row flex-nowrap\"><div class=\"overflow-hidden rounded-md m-0.5\" style=\"width: 108px; height: 108px; background-color: rgb(99, 133, 150);\"><a href=\"/cryptopunks/traits/view/5949?trait=Hair\" class=\"\"><img decoding=\"async\" loading=\"eager\" src=\"https://www.larvalabs.com/public/images/cryptopunks/punk5949.png\" class=\"m-auto cursor-pointer pixellate\" style=\"width: 108px; height: 108px; background-color: rgb(99, 133, 150);\"></a></div><div class=\"overflow-hidden rounded-md m-0.5\" style=\"width: 108px; height: 108px; background-color: rgb(99, 133, 150);\"><a href=\"/cryptopunks/traits/view/4087?trait=Hair\" class=\"\"><img decoding=\"async\" loading=\"eager\" src=\"https://www.larvalabs.com/public/images/cryptopunks/punk4087.png\" class=\"m-auto cursor-pointer pixellate\" style=\"width: 108px; height: 108px; background-color: rgb(99, 133, 150);\"></a></div><div class=\"overflow-hidden rounded-md m-0.5\" style=\"width: 108px; height: 108px; background-color: rgb(99, 133, 150);\"><a href=\"/cryptopunks/traits/view/7015?trait=Hair\" class=\"\"><img decoding=\"async\" loading=\"eager\" src=\"https://www.larvalabs.com/public/images/cryptopunks/punk7015.png\" class=\"m-auto cursor-pointer pixellate\" style=\"width: 108px; height: 108px; background-color: rgb(99, 133, 150);\"></a></div></div></td></tr><tr class=\"text-base\"><td class=\"font-bold text-pink-700\"><!----> <div class=\"cursor-pointer select-none hover:underline\">Fedora</div></td> <td class=\"font-bold text-right\">\n",
    "            186\n",
    "          </td> <td class=\"font-bold text-right text-green-500\">+53.76</td> <!----> <!----> <td><div class=\"flex flex-row flex-nowrap\"><div class=\"overflow-hidden rounded-md m-0.5\" style=\"width: 108px; height: 108px; background-color: rgb(99, 133, 150);\"><a href=\"/cryptopunks/traits/view/6965?trait=Hair\" class=\"\"><img decoding=\"async\" loading=\"eager\" src=\"https://www.larvalabs.com/public/images/cryptopunks/punk6965.png\" class=\"m-auto cursor-pointer pixellate\" style=\"width: 108px; height: 108px; background-color: rgb(99, 133, 150);\"></a></div><div class=\"overflow-hidden rounded-md m-0.5\" style=\"width: 108px; height: 108px; background-color: rgb(99, 133, 150);\"><a href=\"/cryptopunks/traits/view/5489?trait=Hair\" class=\"\"><img decoding=\"async\" loading=\"eager\" src=\"https://www.larvalabs.com/public/images/cryptopunks/punk5489.png\" class=\"m-auto cursor-pointer pixellate\" style=\"width: 108px; height: 108px; background-color: rgb(99, 133, 150);\"></a></div><div class=\"overflow-hidden rounded-md m-0.5\" style=\"width: 108px; height: 108px; background-color: rgb(99, 133, 150);\"><a href=\"/cryptopunks/traits/view/2657?trait=Hair\" class=\"\"><img decoding=\"async\" loading=\"eager\" src=\"https://www.larvalabs.com/public/images/cryptopunks/punk2657.png\" class=\"m-auto cursor-pointer pixellate\" style=\"width: 108px; height: 108px; background-color: rgb(99, 133, 150);\"></a></div></div></td></tr><tr class=\"text-base\"><td class=\"font-bold text-pink-700\"><!----> <div class=\"cursor-pointer select-none hover:underline\">Police Cap</div></td> <td class=\"font-bold text-right\">\n",
    "            203\n",
    "          </td> <td class=\"font-bold text-right text-green-500\">+49.26</td> <!----> <!----> <td><div class=\"flex flex-row flex-nowrap\"><div class=\"overflow-hidden rounded-md m-0.5\" style=\"width: 108px; height: 108px; background-color: rgb(99, 133, 150);\"><a href=\"/cryptopunks/traits/view/5795?trait=Hair\" class=\"\"><img decoding=\"async\" loading=\"eager\" src=\"https://www.larvalabs.com/public/images/cryptopunks/punk5795.png\" class=\"m-auto cursor-pointer pixellate\" style=\"width: 108px; height: 108px; background-color: rgb(99, 133, 150);\"></a></div><div class=\"overflow-hidden rounded-md m-0.5\" style=\"width: 108px; height: 108px; background-color: rgb(99, 133, 150);\"><a href=\"/cryptopunks/traits/view/8909?trait=Hair\" class=\"\"><img decoding=\"async\" loading=\"eager\" src=\"https://www.larvalabs.com/public/images/cryptopunks/punk8909.png\" class=\"m-auto cursor-pointer pixellate\" style=\"width: 108px; height: 108px; background-color: rgb(99, 133, 150);\"></a></div><div class=\"overflow-hidden rounded-md m-0.5\" style=\"width: 108px; height: 108px; background-color: rgb(99, 133, 150);\"><a href=\"/cryptopunks/traits/view/5336?trait=Hair\" class=\"\"><img decoding=\"async\" loading=\"eager\" src=\"https://www.larvalabs.com/public/images/cryptopunks/punk5336.png\" class=\"m-auto cursor-pointer pixellate\" style=\"width: 108px; height: 108px; background-color: rgb(99, 133, 150);\"></a></div></div></td></tr><tr class=\"text-base\"><td class=\"font-bold text-pink-700\"><!----> <div class=\"cursor-pointer select-none hover:underline\">&lt;none&gt;</div></td> <td class=\"font-bold text-right\">\n",
    "            246\n",
    "          </td> <td class=\"font-bold text-right text-green-500\">+40.65</td> <!----> <!----> <td><div class=\"flex flex-row flex-nowrap\"><div class=\"overflow-hidden rounded-md m-0.5\" style=\"width: 108px; height: 108px; background-color: rgb(99, 133, 150);\"><a href=\"/cryptopunks/traits/view/6487?trait=Hair\" class=\"\"><img decoding=\"async\" loading=\"eager\" src=\"https://www.larvalabs.com/public/images/cryptopunks/punk6487.png\" class=\"m-auto cursor-pointer pixellate\" style=\"width: 108px; height: 108px; background-color: rgb(99, 133, 150);\"></a></div><div class=\"overflow-hidden rounded-md m-0.5\" style=\"width: 108px; height: 108px; background-color: rgb(99, 133, 150);\"><a href=\"/cryptopunks/traits/view/3307?trait=Hair\" class=\"\"><img decoding=\"async\" loading=\"eager\" src=\"https://www.larvalabs.com/public/images/cryptopunks/punk3307.png\" class=\"m-auto cursor-pointer pixellate\" style=\"width: 108px; height: 108px; background-color: rgb(99, 133, 150);\"></a></div><div class=\"overflow-hidden rounded-md m-0.5\" style=\"width: 108px; height: 108px; background-color: rgb(99, 133, 150);\"><a href=\"/cryptopunks/traits/view/2204?trait=Hair\" class=\"\"><img decoding=\"async\" loading=\"eager\" src=\"https://www.larvalabs.com/public/images/cryptopunks/punk2204.png\" class=\"m-auto cursor-pointer pixellate\" style=\"width: 108px; height: 108px; background-color: rgb(99, 133, 150);\"></a></div></div></td></tr><tr class=\"text-base\"><td class=\"font-bold text-pink-700\"><!----> <div class=\"cursor-pointer select-none hover:underline\">Cap Forward</div></td> <td class=\"font-bold text-right\">\n",
    "            254\n",
    "          </td> <td class=\"font-bold text-right text-green-500\">+39.37</td> <!----> <!----> <td><div class=\"flex flex-row flex-nowrap\"><div class=\"overflow-hidden rounded-md m-0.5\" style=\"width: 108px; height: 108px; background-color: rgb(99, 133, 150);\"><a href=\"/cryptopunks/traits/view/7804?trait=Hair\" class=\"\"><img decoding=\"async\" loading=\"eager\" src=\"https://www.larvalabs.com/public/images/cryptopunks/punk7804.png\" class=\"m-auto cursor-pointer pixellate\" style=\"width: 108px; height: 108px; background-color: rgb(99, 133, 150);\"></a></div><div class=\"overflow-hidden rounded-md m-0.5\" style=\"width: 108px; height: 108px; background-color: rgb(99, 133, 150);\"><a href=\"/cryptopunks/traits/view/372?trait=Hair\" class=\"\"><img decoding=\"async\" loading=\"eager\" src=\"https://www.larvalabs.com/public/images/cryptopunks/punk0372.png\" class=\"m-auto cursor-pointer pixellate\" style=\"width: 108px; height: 108px; background-color: rgb(99, 133, 150);\"></a></div><div class=\"overflow-hidden rounded-md m-0.5\" style=\"width: 108px; height: 108px; background-color: rgb(99, 133, 150);\"><a href=\"/cryptopunks/traits/view/2711?trait=Hair\" class=\"\"><img decoding=\"async\" loading=\"eager\" src=\"https://www.larvalabs.com/public/images/cryptopunks/punk2711.png\" class=\"m-auto cursor-pointer pixellate\" style=\"width: 108px; height: 108px; background-color: rgb(99, 133, 150);\"></a></div></div></td></tr><tr class=\"text-base\"><td class=\"font-bold text-pink-700\"><!----> <div class=\"cursor-pointer select-none hover:underline\">Hoodie</div></td> <td class=\"font-bold text-right\">\n",
    "            259\n",
    "          </td> <td class=\"font-bold text-right text-green-500\">+38.61</td> <!----> <!----> <td><div class=\"flex flex-row flex-nowrap\"><div class=\"overflow-hidden rounded-md m-0.5\" style=\"width: 108px; height: 108px; background-color: rgb(99, 133, 150);\"><a href=\"/cryptopunks/traits/view/2924?trait=Hair\" class=\"\"><img decoding=\"async\" loading=\"eager\" src=\"https://www.larvalabs.com/public/images/cryptopunks/punk2924.png\" class=\"m-auto cursor-pointer pixellate\" style=\"width: 108px; height: 108px; background-color: rgb(99, 133, 150);\"></a></div><div class=\"overflow-hidden rounded-md m-0.5\" style=\"width: 108px; height: 108px; background-color: rgb(99, 133, 150);\"><a href=\"/cryptopunks/traits/view/2132?trait=Hair\" class=\"\"><img decoding=\"async\" loading=\"eager\" src=\"https://www.larvalabs.com/public/images/cryptopunks/punk2132.png\" class=\"m-auto cursor-pointer pixellate\" style=\"width: 108px; height: 108px; background-color: rgb(99, 133, 150);\"></a></div><div class=\"overflow-hidden rounded-md m-0.5\" style=\"width: 108px; height: 108px; background-color: rgb(99, 133, 150);\"><a href=\"/cryptopunks/traits/view/9368?trait=Hair\" class=\"\"><img decoding=\"async\" loading=\"eager\" src=\"https://www.larvalabs.com/public/images/cryptopunks/punk9368.png\" class=\"m-auto cursor-pointer pixellate\" style=\"width: 108px; height: 108px; background-color: rgb(99, 133, 150);\"></a></div></div></td></tr><tr class=\"text-base\"><td class=\"font-bold text-pink-700\"><!----> <div class=\"cursor-pointer select-none hover:underline\">Do-rag</div></td> <td class=\"font-bold text-right\">\n",
    "            300\n",
    "          </td> <td class=\"font-bold text-right text-green-500\">+33.33</td> <!----> <!----> <td><div class=\"flex flex-row flex-nowrap\"><div class=\"overflow-hidden rounded-md m-0.5\" style=\"width: 108px; height: 108px; background-color: rgb(99, 133, 150);\"><a href=\"/cryptopunks/traits/view/5905?trait=Hair\" class=\"\"><img decoding=\"async\" loading=\"eager\" src=\"https://www.larvalabs.com/public/images/cryptopunks/punk5905.png\" class=\"m-auto cursor-pointer pixellate\" style=\"width: 108px; height: 108px; background-color: rgb(99, 133, 150);\"></a></div><div class=\"overflow-hidden rounded-md m-0.5\" style=\"width: 108px; height: 108px; background-color: rgb(99, 133, 150);\"><a href=\"/cryptopunks/traits/view/4464?trait=Hair\" class=\"\"><img decoding=\"async\" loading=\"eager\" src=\"https://www.larvalabs.com/public/images/cryptopunks/punk4464.png\" class=\"m-auto cursor-pointer pixellate\" style=\"width: 108px; height: 108px; background-color: rgb(99, 133, 150);\"></a></div><div class=\"overflow-hidden rounded-md m-0.5\" style=\"width: 108px; height: 108px; background-color: rgb(99, 133, 150);\"><a href=\"/cryptopunks/traits/view/4178?trait=Hair\" class=\"\"><img decoding=\"async\" loading=\"eager\" src=\"https://www.larvalabs.com/public/images/cryptopunks/punk4178.png\" class=\"m-auto cursor-pointer pixellate\" style=\"width: 108px; height: 108px; background-color: rgb(99, 133, 150);\"></a></div></div></td></tr><tr class=\"text-base\"><td class=\"font-bold text-pink-700\"><!----> <div class=\"cursor-pointer select-none hover:underline\">Shaved Head</div></td> <td class=\"font-bold text-right\">\n",
    "            300\n",
    "          </td> <td class=\"font-bold text-right text-green-500\">+33.33</td> <!----> <!----> <td><div class=\"flex flex-row flex-nowrap\"><div class=\"overflow-hidden rounded-md m-0.5\" style=\"width: 108px; height: 108px; background-color: rgb(99, 133, 150);\"><a href=\"/cryptopunks/traits/view/9955?trait=Hair\" class=\"\"><img decoding=\"async\" loading=\"eager\" src=\"https://www.larvalabs.com/public/images/cryptopunks/punk9955.png\" class=\"m-auto cursor-pointer pixellate\" style=\"width: 108px; height: 108px; background-color: rgb(99, 133, 150);\"></a></div><div class=\"overflow-hidden rounded-md m-0.5\" style=\"width: 108px; height: 108px; background-color: rgb(99, 133, 150);\"><a href=\"/cryptopunks/traits/view/1935?trait=Hair\" class=\"\"><img decoding=\"async\" loading=\"eager\" src=\"https://www.larvalabs.com/public/images/cryptopunks/punk1935.png\" class=\"m-auto cursor-pointer pixellate\" style=\"width: 108px; height: 108px; background-color: rgb(99, 133, 150);\"></a></div><div class=\"overflow-hidden rounded-md m-0.5\" style=\"width: 108px; height: 108px; background-color: rgb(99, 133, 150);\"><a href=\"/cryptopunks/traits/view/6694?trait=Hair\" class=\"\"><img decoding=\"async\" loading=\"eager\" src=\"https://www.larvalabs.com/public/images/cryptopunks/punk6694.png\" class=\"m-auto cursor-pointer pixellate\" style=\"width: 108px; height: 108px; background-color: rgb(99, 133, 150);\"></a></div></div></td></tr><tr class=\"text-base\"><td class=\"font-bold text-pink-700\"><!----> <div class=\"cursor-pointer select-none hover:underline\">Peak Spike</div></td> <td class=\"font-bold text-right\">\n",
    "            303\n",
    "          </td> <td class=\"font-bold text-right text-green-500\">+33.00</td> <!----> <!----> <td><div class=\"flex flex-row flex-nowrap\"><div class=\"overflow-hidden rounded-md m-0.5\" style=\"width: 108px; height: 108px; background-color: rgb(99, 133, 150);\"><a href=\"/cryptopunks/traits/view/9838?trait=Hair\" class=\"\"><img decoding=\"async\" loading=\"eager\" src=\"https://www.larvalabs.com/public/images/cryptopunks/punk9838.png\" class=\"m-auto cursor-pointer pixellate\" style=\"width: 108px; height: 108px; background-color: rgb(99, 133, 150);\"></a></div><div class=\"overflow-hidden rounded-md m-0.5\" style=\"width: 108px; height: 108px; background-color: rgb(99, 133, 150);\"><a href=\"/cryptopunks/traits/view/7337?trait=Hair\" class=\"\"><img decoding=\"async\" loading=\"eager\" src=\"https://www.larvalabs.com/public/images/cryptopunks/punk7337.png\" class=\"m-auto cursor-pointer pixellate\" style=\"width: 108px; height: 108px; background-color: rgb(99, 133, 150);\"></a></div><div class=\"overflow-hidden rounded-md m-0.5\" style=\"width: 108px; height: 108px; background-color: rgb(99, 133, 150);\"><a href=\"/cryptopunks/traits/view/9474?trait=Hair\" class=\"\"><img decoding=\"async\" loading=\"eager\" src=\"https://www.larvalabs.com/public/images/cryptopunks/punk9474.png\" class=\"m-auto cursor-pointer pixellate\" style=\"width: 108px; height: 108px; background-color: rgb(99, 133, 150);\"></a></div></div></td></tr><tr class=\"text-base\"><td class=\"font-bold text-pink-700\"><!----> <div class=\"cursor-pointer select-none hover:underline\">Cap</div></td> <td class=\"font-bold text-right\">\n",
    "            351\n",
    "          </td> <td class=\"font-bold text-right text-green-500\">+28.49</td> <!----> <!----> <td><div class=\"flex flex-row flex-nowrap\"><div class=\"overflow-hidden rounded-md m-0.5\" style=\"width: 108px; height: 108px; background-color: rgb(99, 133, 150);\"><a href=\"/cryptopunks/traits/view/2890?trait=Hair\" class=\"\"><img decoding=\"async\" loading=\"eager\" src=\"https://www.larvalabs.com/public/images/cryptopunks/punk2890.png\" class=\"m-auto cursor-pointer pixellate\" style=\"width: 108px; height: 108px; background-color: rgb(99, 133, 150);\"></a></div><div class=\"overflow-hidden rounded-md m-0.5\" style=\"width: 108px; height: 108px; background-color: rgb(99, 133, 150);\"><a href=\"/cryptopunks/traits/view/2491?trait=Hair\" class=\"\"><img decoding=\"async\" loading=\"eager\" src=\"https://www.larvalabs.com/public/images/cryptopunks/punk2491.png\" class=\"m-auto cursor-pointer pixellate\" style=\"width: 108px; height: 108px; background-color: rgb(99, 133, 150);\"></a></div><div class=\"overflow-hidden rounded-md m-0.5\" style=\"width: 108px; height: 108px; background-color: rgb(99, 133, 150);\"><a href=\"/cryptopunks/traits/view/6915?trait=Hair\" class=\"\"><img decoding=\"async\" loading=\"eager\" src=\"https://www.larvalabs.com/public/images/cryptopunks/punk6915.png\" class=\"m-auto cursor-pointer pixellate\" style=\"width: 108px; height: 108px; background-color: rgb(99, 133, 150);\"></a></div></div></td></tr><tr class=\"text-base\"><td class=\"font-bold text-pink-700\"><!----> <div class=\"cursor-pointer select-none hover:underline\">Headband</div></td> <td class=\"font-bold text-right\">\n",
    "            406\n",
    "          </td> <td class=\"font-bold text-right text-green-500\">+24.63</td> <!----> <!----> <td><div class=\"flex flex-row flex-nowrap\"><div class=\"overflow-hidden rounded-md m-0.5\" style=\"width: 108px; height: 108px; background-color: rgb(99, 133, 150);\"><a href=\"/cryptopunks/traits/view/3100?trait=Hair\" class=\"\"><img decoding=\"async\" loading=\"eager\" src=\"https://www.larvalabs.com/public/images/cryptopunks/punk3100.png\" class=\"m-auto cursor-pointer pixellate\" style=\"width: 108px; height: 108px; background-color: rgb(99, 133, 150);\"></a></div><div class=\"overflow-hidden rounded-md m-0.5\" style=\"width: 108px; height: 108px; background-color: rgb(99, 133, 150);\"><a href=\"/cryptopunks/traits/view/2386?trait=Hair\" class=\"\"><img decoding=\"async\" loading=\"eager\" src=\"https://www.larvalabs.com/public/images/cryptopunks/punk2386.png\" class=\"m-auto cursor-pointer pixellate\" style=\"width: 108px; height: 108px; background-color: rgb(99, 133, 150);\"></a></div><div class=\"overflow-hidden rounded-md m-0.5\" style=\"width: 108px; height: 108px; background-color: rgb(99, 133, 150);\"><a href=\"/cryptopunks/traits/view/2560?trait=Hair\" class=\"\"><img decoding=\"async\" loading=\"eager\" src=\"https://www.larvalabs.com/public/images/cryptopunks/punk2560.png\" class=\"m-auto cursor-pointer pixellate\" style=\"width: 108px; height: 108px; background-color: rgb(99, 133, 150);\"></a></div></div></td></tr><tr class=\"text-base\"><td class=\"font-bold text-pink-700\"><!----> <div class=\"cursor-pointer select-none hover:underline\">Crazy Hair</div></td> <td class=\"font-bold text-right\">\n",
    "            414\n",
    "          </td> <td class=\"font-bold text-right text-green-500\">+24.15</td> <!----> <!----> <td><div class=\"flex flex-row flex-nowrap\"><div class=\"overflow-hidden rounded-md m-0.5\" style=\"width: 108px; height: 108px; background-color: rgb(99, 133, 150);\"><a href=\"/cryptopunks/traits/view/7920?trait=Hair\" class=\"\"><img decoding=\"async\" loading=\"eager\" src=\"https://www.larvalabs.com/public/images/cryptopunks/punk7920.png\" class=\"m-auto cursor-pointer pixellate\" style=\"width: 108px; height: 108px; background-color: rgb(99, 133, 150);\"></a></div><div class=\"overflow-hidden rounded-md m-0.5\" style=\"width: 108px; height: 108px; background-color: rgb(99, 133, 150);\"><a href=\"/cryptopunks/traits/view/3393?trait=Hair\" class=\"\"><img decoding=\"async\" loading=\"eager\" src=\"https://www.larvalabs.com/public/images/cryptopunks/punk3393.png\" class=\"m-auto cursor-pointer pixellate\" style=\"width: 108px; height: 108px; background-color: rgb(99, 133, 150);\"></a></div><div class=\"overflow-hidden rounded-md m-0.5\" style=\"width: 108px; height: 108px; background-color: rgb(99, 133, 150);\"><a href=\"/cryptopunks/traits/view/6649?trait=Hair\" class=\"\"><img decoding=\"async\" loading=\"eager\" src=\"https://www.larvalabs.com/public/images/cryptopunks/punk6649.png\" class=\"m-auto cursor-pointer pixellate\" style=\"width: 108px; height: 108px; background-color: rgb(99, 133, 150);\"></a></div></div></td></tr><tr class=\"text-base\"><td class=\"font-bold text-pink-700\"><!----> <div class=\"cursor-pointer select-none hover:underline\">Knitted Cap</div></td> <td class=\"font-bold text-right\">\n",
    "            419\n",
    "          </td> <td class=\"font-bold text-right text-green-500\">+23.87</td> <!----> <!----> <td><div class=\"flex flex-row flex-nowrap\"><div class=\"overflow-hidden rounded-md m-0.5\" style=\"width: 108px; height: 108px; background-color: rgb(99, 133, 150);\"><a href=\"/cryptopunks/traits/view/7523?trait=Hair\" class=\"\"><img decoding=\"async\" loading=\"eager\" src=\"https://www.larvalabs.com/public/images/cryptopunks/punk7523.png\" class=\"m-auto cursor-pointer pixellate\" style=\"width: 108px; height: 108px; background-color: rgb(99, 133, 150);\"></a></div><div class=\"overflow-hidden rounded-md m-0.5\" style=\"width: 108px; height: 108px; background-color: rgb(99, 133, 150);\"><a href=\"/cryptopunks/traits/view/6089?trait=Hair\" class=\"\"><img decoding=\"async\" loading=\"eager\" src=\"https://www.larvalabs.com/public/images/cryptopunks/punk6089.png\" class=\"m-auto cursor-pointer pixellate\" style=\"width: 108px; height: 108px; background-color: rgb(99, 133, 150);\"></a></div><div class=\"overflow-hidden rounded-md m-0.5\" style=\"width: 108px; height: 108px; background-color: rgb(99, 133, 150);\"><a href=\"/cryptopunks/traits/view/8152?trait=Hair\" class=\"\"><img decoding=\"async\" loading=\"eager\" src=\"https://www.larvalabs.com/public/images/cryptopunks/punk8152.png\" class=\"m-auto cursor-pointer pixellate\" style=\"width: 108px; height: 108px; background-color: rgb(99, 133, 150);\"></a></div></div></td></tr><tr class=\"text-base\"><td class=\"font-bold text-pink-700\"><!----> <div class=\"cursor-pointer select-none hover:underline\">Mohawk Dark</div></td> <td class=\"font-bold text-right\">\n",
    "            429\n",
    "          </td> <td class=\"font-bold text-right text-green-500\">+23.31</td> <!----> <!----> <td><div class=\"flex flex-row flex-nowrap\"><div class=\"overflow-hidden rounded-md m-0.5\" style=\"width: 108px; height: 108px; background-color: rgb(99, 133, 150);\"><a href=\"/cryptopunks/traits/view/460?trait=Hair\" class=\"\"><img decoding=\"async\" loading=\"eager\" src=\"https://www.larvalabs.com/public/images/cryptopunks/punk0460.png\" class=\"m-auto cursor-pointer pixellate\" style=\"width: 108px; height: 108px; background-color: rgb(99, 133, 150);\"></a></div><div class=\"overflow-hidden rounded-md m-0.5\" style=\"width: 108px; height: 108px; background-color: rgb(99, 133, 150);\"><a href=\"/cryptopunks/traits/view/6794?trait=Hair\" class=\"\"><img decoding=\"async\" loading=\"eager\" src=\"https://www.larvalabs.com/public/images/cryptopunks/punk6794.png\" class=\"m-auto cursor-pointer pixellate\" style=\"width: 108px; height: 108px; background-color: rgb(99, 133, 150);\"></a></div><div class=\"overflow-hidden rounded-md m-0.5\" style=\"width: 108px; height: 108px; background-color: rgb(99, 133, 150);\"><a href=\"/cryptopunks/traits/view/5299?trait=Hair\" class=\"\"><img decoding=\"async\" loading=\"eager\" src=\"https://www.larvalabs.com/public/images/cryptopunks/punk5299.png\" class=\"m-auto cursor-pointer pixellate\" style=\"width: 108px; height: 108px; background-color: rgb(99, 133, 150);\"></a></div></div></td></tr><tr class=\"text-base\"><td class=\"font-bold text-pink-700\"><!----> <div class=\"cursor-pointer select-none hover:underline\">Mohawk</div></td> <td class=\"font-bold text-right\">\n",
    "            441\n",
    "          </td> <td class=\"font-bold text-right text-green-500\">+22.68</td> <!----> <!----> <td><div class=\"flex flex-row flex-nowrap\"><div class=\"overflow-hidden rounded-md m-0.5\" style=\"width: 108px; height: 108px; background-color: rgb(99, 133, 150);\"><a href=\"/cryptopunks/traits/view/4121?trait=Hair\" class=\"\"><img decoding=\"async\" loading=\"eager\" src=\"https://www.larvalabs.com/public/images/cryptopunks/punk4121.png\" class=\"m-auto cursor-pointer pixellate\" style=\"width: 108px; height: 108px; background-color: rgb(99, 133, 150);\"></a></div><div class=\"overflow-hidden rounded-md m-0.5\" style=\"width: 108px; height: 108px; background-color: rgb(99, 133, 150);\"><a href=\"/cryptopunks/traits/view/5573?trait=Hair\" class=\"\"><img decoding=\"async\" loading=\"eager\" src=\"https://www.larvalabs.com/public/images/cryptopunks/punk5573.png\" class=\"m-auto cursor-pointer pixellate\" style=\"width: 108px; height: 108px; background-color: rgb(99, 133, 150);\"></a></div><div class=\"overflow-hidden rounded-md m-0.5\" style=\"width: 108px; height: 108px; background-color: rgb(99, 133, 150);\"><a href=\"/cryptopunks/traits/view/5944?trait=Hair\" class=\"\"><img decoding=\"async\" loading=\"eager\" src=\"https://www.larvalabs.com/public/images/cryptopunks/punk5944.png\" class=\"m-auto cursor-pointer pixellate\" style=\"width: 108px; height: 108px; background-color: rgb(99, 133, 150);\"></a></div></div></td></tr><tr class=\"text-base\"><td class=\"font-bold text-pink-700\"><!----> <div class=\"cursor-pointer select-none hover:underline\">Mohawk Thin</div></td> <td class=\"font-bold text-right\">\n",
    "            441\n",
    "          </td> <td class=\"font-bold text-right text-green-500\">+22.68</td> <!----> <!----> <td><div class=\"flex flex-row flex-nowrap\"><div class=\"overflow-hidden rounded-md m-0.5\" style=\"width: 108px; height: 108px; background-color: rgb(99, 133, 150);\"><a href=\"/cryptopunks/traits/view/2967?trait=Hair\" class=\"\"><img decoding=\"async\" loading=\"eager\" src=\"https://www.larvalabs.com/public/images/cryptopunks/punk2967.png\" class=\"m-auto cursor-pointer pixellate\" style=\"width: 108px; height: 108px; background-color: rgb(99, 133, 150);\"></a></div><div class=\"overflow-hidden rounded-md m-0.5\" style=\"width: 108px; height: 108px; background-color: rgb(99, 133, 150);\"><a href=\"/cryptopunks/traits/view/2338?trait=Hair\" class=\"\"><img decoding=\"async\" loading=\"eager\" src=\"https://www.larvalabs.com/public/images/cryptopunks/punk2338.png\" class=\"m-auto cursor-pointer pixellate\" style=\"width: 108px; height: 108px; background-color: rgb(99, 133, 150);\"></a></div><div class=\"overflow-hidden rounded-md m-0.5\" style=\"width: 108px; height: 108px; background-color: rgb(99, 133, 150);\"><a href=\"/cryptopunks/traits/view/8472?trait=Hair\" class=\"\"><img decoding=\"async\" loading=\"eager\" src=\"https://www.larvalabs.com/public/images/cryptopunks/punk8472.png\" class=\"m-auto cursor-pointer pixellate\" style=\"width: 108px; height: 108px; background-color: rgb(99, 133, 150);\"></a></div></div></td></tr><tr class=\"text-base\"><td class=\"font-bold text-pink-700\"><!----> <div class=\"cursor-pointer select-none hover:underline\">Frumpy Hair</div></td> <td class=\"font-bold text-right\">\n",
    "            442\n",
    "          </td> <td class=\"font-bold text-right text-green-500\">+22.62</td> <!----> <!----> <td><div class=\"flex flex-row flex-nowrap\"><div class=\"overflow-hidden rounded-md m-0.5\" style=\"width: 108px; height: 108px; background-color: rgb(99, 133, 150);\"><a href=\"/cryptopunks/traits/view/8957?trait=Hair\" class=\"\"><img decoding=\"async\" loading=\"eager\" src=\"https://www.larvalabs.com/public/images/cryptopunks/punk8957.png\" class=\"m-auto cursor-pointer pixellate\" style=\"width: 108px; height: 108px; background-color: rgb(99, 133, 150);\"></a></div><div class=\"overflow-hidden rounded-md m-0.5\" style=\"width: 108px; height: 108px; background-color: rgb(99, 133, 150);\"><a href=\"/cryptopunks/traits/view/8780?trait=Hair\" class=\"\"><img decoding=\"async\" loading=\"eager\" src=\"https://www.larvalabs.com/public/images/cryptopunks/punk8780.png\" class=\"m-auto cursor-pointer pixellate\" style=\"width: 108px; height: 108px; background-color: rgb(99, 133, 150);\"></a></div><div class=\"overflow-hidden rounded-md m-0.5\" style=\"width: 108px; height: 108px; background-color: rgb(99, 133, 150);\"><a href=\"/cryptopunks/traits/view/7121?trait=Hair\" class=\"\"><img decoding=\"async\" loading=\"eager\" src=\"https://www.larvalabs.com/public/images/cryptopunks/punk7121.png\" class=\"m-auto cursor-pointer pixellate\" style=\"width: 108px; height: 108px; background-color: rgb(99, 133, 150);\"></a></div></div></td></tr><tr class=\"text-base\"><td class=\"font-bold text-pink-700\"><!----> <div class=\"cursor-pointer select-none hover:underline\">Wild Hair</div></td> <td class=\"font-bold text-right\">\n",
    "            447\n",
    "          </td> <td class=\"font-bold text-right text-green-500\">+22.37</td> <!----> <!----> <td><div class=\"flex flex-row flex-nowrap\"><div class=\"overflow-hidden rounded-md m-0.5\" style=\"width: 108px; height: 108px; background-color: rgb(99, 133, 150);\"><a href=\"/cryptopunks/traits/view/7971?trait=Hair\" class=\"\"><img decoding=\"async\" loading=\"eager\" src=\"https://www.larvalabs.com/public/images/cryptopunks/punk7971.png\" class=\"m-auto cursor-pointer pixellate\" style=\"width: 108px; height: 108px; background-color: rgb(99, 133, 150);\"></a></div><div class=\"overflow-hidden rounded-md m-0.5\" style=\"width: 108px; height: 108px; background-color: rgb(99, 133, 150);\"><a href=\"/cryptopunks/traits/view/4830?trait=Hair\" class=\"\"><img decoding=\"async\" loading=\"eager\" src=\"https://www.larvalabs.com/public/images/cryptopunks/punk4830.png\" class=\"m-auto cursor-pointer pixellate\" style=\"width: 108px; height: 108px; background-color: rgb(99, 133, 150);\"></a></div><div class=\"overflow-hidden rounded-md m-0.5\" style=\"width: 108px; height: 108px; background-color: rgb(99, 133, 150);\"><a href=\"/cryptopunks/traits/view/8857?trait=Hair\" class=\"\"><img decoding=\"async\" loading=\"eager\" src=\"https://www.larvalabs.com/public/images/cryptopunks/punk8857.png\" class=\"m-auto cursor-pointer pixellate\" style=\"width: 108px; height: 108px; background-color: rgb(99, 133, 150);\"></a></div></div></td></tr><tr class=\"text-base\"><td class=\"font-bold text-pink-700\"><!----> <div class=\"cursor-pointer select-none hover:underline\">Messy Hair</div></td> <td class=\"font-bold text-right\">\n",
    "            460\n",
    "          </td> <td class=\"font-bold text-right text-green-500\">+21.74</td> <!----> <!----> <td><div class=\"flex flex-row flex-nowrap\"><div class=\"overflow-hidden rounded-md m-0.5\" style=\"width: 108px; height: 108px; background-color: rgb(99, 133, 150);\"><a href=\"/cryptopunks/traits/view/6153?trait=Hair\" class=\"\"><img decoding=\"async\" loading=\"eager\" src=\"https://www.larvalabs.com/public/images/cryptopunks/punk6153.png\" class=\"m-auto cursor-pointer pixellate\" style=\"width: 108px; height: 108px; background-color: rgb(99, 133, 150);\"></a></div><div class=\"overflow-hidden rounded-md m-0.5\" style=\"width: 108px; height: 108px; background-color: rgb(99, 133, 150);\"><a href=\"/cryptopunks/traits/view/4874?trait=Hair\" class=\"\"><img decoding=\"async\" loading=\"eager\" src=\"https://www.larvalabs.com/public/images/cryptopunks/punk4874.png\" class=\"m-auto cursor-pointer pixellate\" style=\"width: 108px; height: 108px; background-color: rgb(99, 133, 150);\"></a></div><div class=\"overflow-hidden rounded-md m-0.5\" style=\"width: 108px; height: 108px; background-color: rgb(99, 133, 150);\"><a href=\"/cryptopunks/traits/view/117?trait=Hair\" class=\"\"><img decoding=\"async\" loading=\"eager\" src=\"https://www.larvalabs.com/public/images/cryptopunks/punk0117.png\" class=\"m-auto cursor-pointer pixellate\" style=\"width: 108px; height: 108px; background-color: rgb(99, 133, 150);\"></a></div></div></td></tr><tr class=\"text-base\"><td class=\"font-bold text-pink-700\"><!----> <div class=\"cursor-pointer select-none hover:underline\">Stringy Hair</div></td> <td class=\"font-bold text-right\">\n",
    "            463\n",
    "          </td> <td class=\"font-bold text-right text-green-500\">+21.60</td> <!----> <!----> <td><div class=\"flex flex-row flex-nowrap\"><div class=\"overflow-hidden rounded-md m-0.5\" style=\"width: 108px; height: 108px; background-color: rgb(99, 133, 150);\"><a href=\"/cryptopunks/traits/view/9804?trait=Hair\" class=\"\"><img decoding=\"async\" loading=\"eager\" src=\"https://www.larvalabs.com/public/images/cryptopunks/punk9804.png\" class=\"m-auto cursor-pointer pixellate\" style=\"width: 108px; height: 108px; background-color: rgb(99, 133, 150);\"></a></div><div class=\"overflow-hidden rounded-md m-0.5\" style=\"width: 108px; height: 108px; background-color: rgb(99, 133, 150);\"><a href=\"/cryptopunks/traits/view/8531?trait=Hair\" class=\"\"><img decoding=\"async\" loading=\"eager\" src=\"https://www.larvalabs.com/public/images/cryptopunks/punk8531.png\" class=\"m-auto cursor-pointer pixellate\" style=\"width: 108px; height: 108px; background-color: rgb(99, 133, 150);\"></a></div><div class=\"overflow-hidden rounded-md m-0.5\" style=\"width: 108px; height: 108px; background-color: rgb(99, 133, 150);\"><a href=\"/cryptopunks/traits/view/8307?trait=Hair\" class=\"\"><img decoding=\"async\" loading=\"eager\" src=\"https://www.larvalabs.com/public/images/cryptopunks/punk8307.png\" class=\"m-auto cursor-pointer pixellate\" style=\"width: 108px; height: 108px; background-color: rgb(99, 133, 150);\"></a></div></div></td></tr><tr class=\"text-base\"><td class=\"font-bold text-pink-700\"><!----> <div class=\"cursor-pointer select-none hover:underline\">Bandana</div></td> <td class=\"font-bold text-right\">\n",
    "            481\n",
    "          </td> <td class=\"font-bold text-right text-green-500\">+20.79</td> <!----> <!----> <td><div class=\"flex flex-row flex-nowrap\"><div class=\"overflow-hidden rounded-md m-0.5\" style=\"width: 108px; height: 108px; background-color: rgb(99, 133, 150);\"><a href=\"/cryptopunks/traits/view/5822?trait=Hair\" class=\"\"><img decoding=\"async\" loading=\"eager\" src=\"https://www.larvalabs.com/public/images/cryptopunks/punk5822.png\" class=\"m-auto cursor-pointer pixellate\" style=\"width: 108px; height: 108px; background-color: rgb(99, 133, 150);\"></a></div><div class=\"overflow-hidden rounded-md m-0.5\" style=\"width: 108px; height: 108px; background-color: rgb(99, 133, 150);\"><a href=\"/cryptopunks/traits/view/635?trait=Hair\" class=\"\"><img decoding=\"async\" loading=\"eager\" src=\"https://www.larvalabs.com/public/images/cryptopunks/punk0635.png\" class=\"m-auto cursor-pointer pixellate\" style=\"width: 108px; height: 108px; background-color: rgb(99, 133, 150);\"></a></div><div class=\"overflow-hidden rounded-md m-0.5\" style=\"width: 108px; height: 108px; background-color: rgb(99, 133, 150);\"><a href=\"/cryptopunks/traits/view/2460?trait=Hair\" class=\"\"><img decoding=\"async\" loading=\"eager\" src=\"https://www.larvalabs.com/public/images/cryptopunks/punk2460.png\" class=\"m-auto cursor-pointer pixellate\" style=\"width: 108px; height: 108px; background-color: rgb(99, 133, 150);\"></a></div></div></td></tr></table>''')"
   ]
  },
  {
   "cell_type": "code",
   "execution_count": 33,
   "id": "8c019f68-d80f-4406-84e3-a8acc2d4a22d",
   "metadata": {},
   "outputs": [
    {
     "data": {
      "text/plain": [
       "['Beanie', '+227.27']"
      ]
     },
     "execution_count": 33,
     "metadata": {},
     "output_type": "execute_result"
    }
   ],
   "source": [
    "hair.find_all('tr')[1].text.split()[::2]"
   ]
  },
  {
   "cell_type": "code",
   "execution_count": 42,
   "id": "4d7a92fd-5131-4ba3-8ffe-03ed4413b5b6",
   "metadata": {},
   "outputs": [
    {
     "data": {
      "text/plain": [
       "43"
      ]
     },
     "execution_count": 42,
     "metadata": {},
     "output_type": "execute_result"
    }
   ],
   "source": [
    "len(hair.find_all('tr'))"
   ]
  },
  {
   "cell_type": "code",
   "execution_count": 104,
   "id": "06a7e23b-8f75-43e7-bee6-0a95f1f5a8c6",
   "metadata": {
    "tags": []
   },
   "outputs": [
    {
     "data": {
      "text/plain": [
       "[['Beanie', '+227.27'],\n",
       " ['Pilot', '54'],\n",
       " ['Tiara', '+181.82'],\n",
       " ['Orange', '68'],\n",
       " ['Pigtails', '+106.38'],\n",
       " ['Pink', 'Hat', '+105.26'],\n",
       " ['Top', '115'],\n",
       " ['Blonde', '129'],\n",
       " ['Wild', 'Hair', '+73.53'],\n",
       " ['Cowboy', '142'],\n",
       " ['Straight', 'Blonde', '+69.44'],\n",
       " ['Wild', '144'],\n",
       " ['Blonde', '147'],\n",
       " ['Half', '147'],\n",
       " ['Red', '147'],\n",
       " ['Vampire', '147'],\n",
       " ['Clown', 'Green', '+67.57'],\n",
       " ['Straight', 'Dark', '+67.57'],\n",
       " ['Straight', '151'],\n",
       " ['Dark', '157'],\n",
       " ['Purple', '165'],\n",
       " ['Tassle', '178'],\n",
       " ['Fedora', '+53.76'],\n",
       " ['Police', '203'],\n",
       " ['<none>', '+40.65'],\n",
       " ['Cap', '254'],\n",
       " ['Hoodie', '+38.61'],\n",
       " ['Do-rag', '+33.33'],\n",
       " ['Shaved', '300'],\n",
       " ['Peak', '303'],\n",
       " ['Cap', '+28.49'],\n",
       " ['Headband', '+24.63'],\n",
       " ['Crazy', '414'],\n",
       " ['Knitted', '419'],\n",
       " ['Mohawk', '429'],\n",
       " ['Mohawk', '+22.68'],\n",
       " ['Mohawk', '441'],\n",
       " ['Frumpy', '442'],\n",
       " ['Wild', '447'],\n",
       " ['Messy', '460'],\n",
       " ['Stringy', '463'],\n",
       " ['Bandana', '+20.79']]"
      ]
     },
     "execution_count": 104,
     "metadata": {},
     "output_type": "execute_result"
    }
   ],
   "source": [
    "hair_list=[]\n",
    "for x in range(1,43):\n",
    "    hair_list.append(hair.find_all('tr')[x].text.split()[::2])\n",
    "hair_list"
   ]
  },
  {
   "cell_type": "code",
   "execution_count": 105,
   "id": "69a3097e-e94d-4439-a40b-7bd55ba37097",
   "metadata": {},
   "outputs": [],
   "source": [
    "hair_dict = {i[0]:i[1] for i in hair_list}"
   ]
  },
  {
   "cell_type": "code",
   "execution_count": 106,
   "id": "714a47b9-1065-479d-9775-35aec43b21ff",
   "metadata": {},
   "outputs": [
    {
     "ename": "ValueError",
     "evalue": "could not convert string to float: 'Hat'",
     "output_type": "error",
     "traceback": [
      "\u001b[0;31m---------------------------------------------------------------------------\u001b[0m",
      "\u001b[0;31mValueError\u001b[0m                                Traceback (most recent call last)",
      "\u001b[0;32m/var/folders/t7/10pc37nd7nd77w12vtbk6_5m0000gn/T/ipykernel_19046/177837725.py\u001b[0m in \u001b[0;36m<module>\u001b[0;34m\u001b[0m\n\u001b[1;32m      3\u001b[0m         \u001b[0mhair_dict\u001b[0m\u001b[0;34m[\u001b[0m\u001b[0mk\u001b[0m\u001b[0;34m]\u001b[0m \u001b[0;34m=\u001b[0m \u001b[0mfloat\u001b[0m\u001b[0;34m(\u001b[0m\u001b[0mv\u001b[0m\u001b[0;34m[\u001b[0m\u001b[0;36m1\u001b[0m\u001b[0;34m:\u001b[0m\u001b[0;34m]\u001b[0m\u001b[0;34m)\u001b[0m\u001b[0;34m\u001b[0m\u001b[0;34m\u001b[0m\u001b[0m\n\u001b[1;32m      4\u001b[0m     \u001b[0;32melse\u001b[0m\u001b[0;34m:\u001b[0m\u001b[0;34m\u001b[0m\u001b[0;34m\u001b[0m\u001b[0m\n\u001b[0;32m----> 5\u001b[0;31m         \u001b[0mhair_dict\u001b[0m\u001b[0;34m[\u001b[0m\u001b[0mk\u001b[0m\u001b[0;34m]\u001b[0m \u001b[0;34m=\u001b[0m \u001b[0mfloat\u001b[0m\u001b[0;34m(\u001b[0m\u001b[0mv\u001b[0m\u001b[0;34m)\u001b[0m\u001b[0;34m\u001b[0m\u001b[0;34m\u001b[0m\u001b[0m\n\u001b[0m",
      "\u001b[0;31mValueError\u001b[0m: could not convert string to float: 'Hat'"
     ]
    }
   ],
   "source": [
    "for k,v in hair_dict.items():\n",
    "    if v[0] == '+':\n",
    "        hair_dict[k] = float(v[1:])\n",
    "    else:\n",
    "        hair_dict[k] = float(v)"
   ]
  },
  {
   "cell_type": "code",
   "execution_count": 103,
   "id": "e8567e09-32d8-4ca6-8f12-9a447c40c914",
   "metadata": {
    "tags": []
   },
   "outputs": [
    {
     "data": {
      "text/plain": [
       "{'Beanie': 227.27,\n",
       " 'Pilot': '54',\n",
       " 'Tiara': 181.82,\n",
       " 'Orange': '68',\n",
       " 'Pigtails': 106.38,\n",
       " 'Pink': 'Hat',\n",
       " 'Top': '115',\n",
       " 'Blonde': '147',\n",
       " 'Wild': '447',\n",
       " 'Cowboy': '142',\n",
       " 'Straight': '151',\n",
       " 'Half': '147',\n",
       " 'Red': '147',\n",
       " 'Vampire': '147',\n",
       " 'Clown': 'Green',\n",
       " 'Dark': '157',\n",
       " 'Purple': '165',\n",
       " 'Tassle': '178',\n",
       " 'Fedora': 53.76,\n",
       " 'Police': '203',\n",
       " '<none>': 40.65,\n",
       " 'Cap': 28.49,\n",
       " 'Hoodie': 38.61,\n",
       " 'Do-rag': 33.33,\n",
       " 'Shaved': '300',\n",
       " 'Peak': '303',\n",
       " 'Headband': 24.63,\n",
       " 'Crazy': '414',\n",
       " 'Knitted': '419',\n",
       " 'Mohawk': '441',\n",
       " 'Frumpy': '442',\n",
       " 'Messy': '460',\n",
       " 'Stringy': '463',\n",
       " 'Bandana': 20.79}"
      ]
     },
     "execution_count": 103,
     "metadata": {},
     "output_type": "execute_result"
    }
   ],
   "source": [
    "hair_dict"
   ]
  },
  {
   "cell_type": "code",
   "execution_count": 97,
   "id": "31e115be-1528-4041-b328-28a417e1da20",
   "metadata": {},
   "outputs": [
    {
     "ename": "SyntaxError",
     "evalue": "cannot assign to function call (3851580079.py, line 2)",
     "output_type": "error",
     "traceback": [
      "\u001b[0;36m  File \u001b[0;32m\"/var/folders/t7/10pc37nd7nd77w12vtbk6_5m0000gn/T/ipykernel_19046/3851580079.py\"\u001b[0;36m, line \u001b[0;32m2\u001b[0m\n\u001b[0;31m    hairdict.values() = [(v.strip()).as_type(float) for v in hairdict.values()]\u001b[0m\n\u001b[0m    ^\u001b[0m\n\u001b[0;31mSyntaxError\u001b[0m\u001b[0;31m:\u001b[0m cannot assign to function call\n"
     ]
    }
   ],
   "source": [
    "vals = hairdict.values() \n",
    "vals = [(v.strip()).as_type(float) for v in vals]\n",
    "hairdict.values() = vals"
   ]
  },
  {
   "cell_type": "code",
   "execution_count": null,
   "id": "0c9a53bf-a856-4966-8ef1-d11fff792ee2",
   "metadata": {},
   "outputs": [],
   "source": []
  },
  {
   "cell_type": "code",
   "execution_count": 24,
   "id": "597088a6-387b-4992-86ee-5cefaf15b221",
   "metadata": {},
   "outputs": [],
   "source": [
    "#eyes soup"
   ]
  },
  {
   "cell_type": "code",
   "execution_count": 60,
   "id": "24be5949-4a6f-4f3c-994d-1f0cee79f1d9",
   "metadata": {
    "jupyter": {
     "source_hidden": true
    },
    "tags": []
   },
   "outputs": [],
   "source": [
    "eyes = BeautifulSoup('''<table class=\"relative m-auto traitValues\"><tr><th class=\"text-left\">Value</th> <th class=\"text-right\">Count</th> <th class=\"text-right\">Rarity Score</th> <!----> <!----> <th class=\"pl-8 text-left\">Examples</th></tr> <tr class=\"text-base\"><td class=\"font-bold text-pink-700\"><!----> <div class=\"cursor-pointer select-none hover:underline\">Welding Goggles</div></td> <td class=\"font-bold text-right\">\n",
    "            86\n",
    "          </td> <td class=\"font-bold text-right text-green-500\">+116.28</td> <!----> <!----> <td><div class=\"flex flex-row flex-nowrap\"><div class=\"overflow-hidden rounded-md m-0.5\" style=\"width: 108px; height: 108px; background-color: rgb(99, 133, 150);\"><a href=\"/cryptopunks/traits/view/7898?trait=Eyes\" class=\"\"><img decoding=\"async\" loading=\"eager\" src=\"https://www.larvalabs.com/public/images/cryptopunks/punk7898.png\" class=\"m-auto cursor-pointer pixellate\" style=\"width: 108px; height: 108px; background-color: rgb(99, 133, 150);\"></a></div><div class=\"overflow-hidden rounded-md m-0.5\" style=\"width: 108px; height: 108px; background-color: rgb(99, 133, 150);\"><a href=\"/cryptopunks/traits/view/1162?trait=Eyes\" class=\"\"><img decoding=\"async\" loading=\"eager\" src=\"https://www.larvalabs.com/public/images/cryptopunks/punk1162.png\" class=\"m-auto cursor-pointer pixellate\" style=\"width: 108px; height: 108px; background-color: rgb(99, 133, 150);\"></a></div><div class=\"overflow-hidden rounded-md m-0.5\" style=\"width: 108px; height: 108px; background-color: rgb(99, 133, 150);\"><a href=\"/cryptopunks/traits/view/5670?trait=Eyes\" class=\"\"><img decoding=\"async\" loading=\"eager\" src=\"https://www.larvalabs.com/public/images/cryptopunks/punk5670.png\" class=\"m-auto cursor-pointer pixellate\" style=\"width: 108px; height: 108px; background-color: rgb(99, 133, 150);\"></a></div></div></td></tr><tr class=\"text-base\"><td class=\"font-bold text-pink-700\"><!----> <div class=\"cursor-pointer select-none hover:underline\">Purple Eye Shadow</div></td> <td class=\"font-bold text-right\">\n",
    "            262\n",
    "          </td> <td class=\"font-bold text-right text-green-500\">+38.17</td> <!----> <!----> <td><div class=\"flex flex-row flex-nowrap\"><div class=\"overflow-hidden rounded-md m-0.5\" style=\"width: 108px; height: 108px; background-color: rgb(99, 133, 150);\"><a href=\"/cryptopunks/traits/view/5787?trait=Eyes\" class=\"\"><img decoding=\"async\" loading=\"eager\" src=\"https://www.larvalabs.com/public/images/cryptopunks/punk5787.png\" class=\"m-auto cursor-pointer pixellate\" style=\"width: 108px; height: 108px; background-color: rgb(99, 133, 150);\"></a></div><div class=\"overflow-hidden rounded-md m-0.5\" style=\"width: 108px; height: 108px; background-color: rgb(99, 133, 150);\"><a href=\"/cryptopunks/traits/view/2680?trait=Eyes\" class=\"\"><img decoding=\"async\" loading=\"eager\" src=\"https://www.larvalabs.com/public/images/cryptopunks/punk2680.png\" class=\"m-auto cursor-pointer pixellate\" style=\"width: 108px; height: 108px; background-color: rgb(99, 133, 150);\"></a></div><div class=\"overflow-hidden rounded-md m-0.5\" style=\"width: 108px; height: 108px; background-color: rgb(99, 133, 150);\"><a href=\"/cryptopunks/traits/view/3991?trait=Eyes\" class=\"\"><img decoding=\"async\" loading=\"eager\" src=\"https://www.larvalabs.com/public/images/cryptopunks/punk3991.png\" class=\"m-auto cursor-pointer pixellate\" style=\"width: 108px; height: 108px; background-color: rgb(99, 133, 150);\"></a></div></div></td></tr><tr class=\"text-base\"><td class=\"font-bold text-pink-700\"><!----> <div class=\"cursor-pointer select-none hover:underline\">Blue Eye Shadow</div></td> <td class=\"font-bold text-right\">\n",
    "            266\n",
    "          </td> <td class=\"font-bold text-right text-green-500\">+37.59</td> <!----> <!----> <td><div class=\"flex flex-row flex-nowrap\"><div class=\"overflow-hidden rounded-md m-0.5\" style=\"width: 108px; height: 108px; background-color: rgb(99, 133, 150);\"><a href=\"/cryptopunks/traits/view/9960?trait=Eyes\" class=\"\"><img decoding=\"async\" loading=\"eager\" src=\"https://www.larvalabs.com/public/images/cryptopunks/punk9960.png\" class=\"m-auto cursor-pointer pixellate\" style=\"width: 108px; height: 108px; background-color: rgb(99, 133, 150);\"></a></div><div class=\"overflow-hidden rounded-md m-0.5\" style=\"width: 108px; height: 108px; background-color: rgb(99, 133, 150);\"><a href=\"/cryptopunks/traits/view/1578?trait=Eyes\" class=\"\"><img decoding=\"async\" loading=\"eager\" src=\"https://www.larvalabs.com/public/images/cryptopunks/punk1578.png\" class=\"m-auto cursor-pointer pixellate\" style=\"width: 108px; height: 108px; background-color: rgb(99, 133, 150);\"></a></div><div class=\"overflow-hidden rounded-md m-0.5\" style=\"width: 108px; height: 108px; background-color: rgb(99, 133, 150);\"><a href=\"/cryptopunks/traits/view/1371?trait=Eyes\" class=\"\"><img decoding=\"async\" loading=\"eager\" src=\"https://www.larvalabs.com/public/images/cryptopunks/punk1371.png\" class=\"m-auto cursor-pointer pixellate\" style=\"width: 108px; height: 108px; background-color: rgb(99, 133, 150);\"></a></div></div></td></tr><tr class=\"text-base\"><td class=\"font-bold text-pink-700\"><!----> <div class=\"cursor-pointer select-none hover:underline\">Green Eye Shadow</div></td> <td class=\"font-bold text-right\">\n",
    "            271\n",
    "          </td> <td class=\"font-bold text-right text-green-500\">+36.90</td> <!----> <!----> <td><div class=\"flex flex-row flex-nowrap\"><div class=\"overflow-hidden rounded-md m-0.5\" style=\"width: 108px; height: 108px; background-color: rgb(99, 133, 150);\"><a href=\"/cryptopunks/traits/view/7342?trait=Eyes\" class=\"\"><img decoding=\"async\" loading=\"eager\" src=\"https://www.larvalabs.com/public/images/cryptopunks/punk7342.png\" class=\"m-auto cursor-pointer pixellate\" style=\"width: 108px; height: 108px; background-color: rgb(99, 133, 150);\"></a></div><div class=\"overflow-hidden rounded-md m-0.5\" style=\"width: 108px; height: 108px; background-color: rgb(99, 133, 150);\"><a href=\"/cryptopunks/traits/view/3703?trait=Eyes\" class=\"\"><img decoding=\"async\" loading=\"eager\" src=\"https://www.larvalabs.com/public/images/cryptopunks/punk3703.png\" class=\"m-auto cursor-pointer pixellate\" style=\"width: 108px; height: 108px; background-color: rgb(99, 133, 150);\"></a></div><div class=\"overflow-hidden rounded-md m-0.5\" style=\"width: 108px; height: 108px; background-color: rgb(99, 133, 150);\"><a href=\"/cryptopunks/traits/view/4176?trait=Eyes\" class=\"\"><img decoding=\"async\" loading=\"eager\" src=\"https://www.larvalabs.com/public/images/cryptopunks/punk4176.png\" class=\"m-auto cursor-pointer pixellate\" style=\"width: 108px; height: 108px; background-color: rgb(99, 133, 150);\"></a></div></div></td></tr><tr class=\"text-base\"><td class=\"font-bold text-pink-700\"><!----> <div class=\"cursor-pointer select-none hover:underline\">3D Glasses</div></td> <td class=\"font-bold text-right\">\n",
    "            286\n",
    "          </td> <td class=\"font-bold text-right text-green-500\">+34.97</td> <!----> <!----> <td><div class=\"flex flex-row flex-nowrap\"><div class=\"overflow-hidden rounded-md m-0.5\" style=\"width: 108px; height: 108px; background-color: rgb(99, 133, 150);\"><a href=\"/cryptopunks/traits/view/9280?trait=Eyes\" class=\"\"><img decoding=\"async\" loading=\"eager\" src=\"https://www.larvalabs.com/public/images/cryptopunks/punk9280.png\" class=\"m-auto cursor-pointer pixellate\" style=\"width: 108px; height: 108px; background-color: rgb(99, 133, 150);\"></a></div><div class=\"overflow-hidden rounded-md m-0.5\" style=\"width: 108px; height: 108px; background-color: rgb(99, 133, 150);\"><a href=\"/cryptopunks/traits/view/7219?trait=Eyes\" class=\"\"><img decoding=\"async\" loading=\"eager\" src=\"https://www.larvalabs.com/public/images/cryptopunks/punk7219.png\" class=\"m-auto cursor-pointer pixellate\" style=\"width: 108px; height: 108px; background-color: rgb(99, 133, 150);\"></a></div><div class=\"overflow-hidden rounded-md m-0.5\" style=\"width: 108px; height: 108px; background-color: rgb(99, 133, 150);\"><a href=\"/cryptopunks/traits/view/5573?trait=Eyes\" class=\"\"><img decoding=\"async\" loading=\"eager\" src=\"https://www.larvalabs.com/public/images/cryptopunks/punk5573.png\" class=\"m-auto cursor-pointer pixellate\" style=\"width: 108px; height: 108px; background-color: rgb(99, 133, 150);\"></a></div></div></td></tr><tr class=\"text-base\"><td class=\"font-bold text-pink-700\"><!----> <div class=\"cursor-pointer select-none hover:underline\">Eye Mask</div></td> <td class=\"font-bold text-right\">\n",
    "            293\n",
    "          </td> <td class=\"font-bold text-right text-green-500\">+34.13</td> <!----> <!----> <td><div class=\"flex flex-row flex-nowrap\"><div class=\"overflow-hidden rounded-md m-0.5\" style=\"width: 108px; height: 108px; background-color: rgb(99, 133, 150);\"><a href=\"/cryptopunks/traits/view/4464?trait=Eyes\" class=\"\"><img decoding=\"async\" loading=\"eager\" src=\"https://www.larvalabs.com/public/images/cryptopunks/punk4464.png\" class=\"m-auto cursor-pointer pixellate\" style=\"width: 108px; height: 108px; background-color: rgb(99, 133, 150);\"></a></div><div class=\"overflow-hidden rounded-md m-0.5\" style=\"width: 108px; height: 108px; background-color: rgb(99, 133, 150);\"><a href=\"/cryptopunks/traits/view/4324?trait=Eyes\" class=\"\"><img decoding=\"async\" loading=\"eager\" src=\"https://www.larvalabs.com/public/images/cryptopunks/punk4324.png\" class=\"m-auto cursor-pointer pixellate\" style=\"width: 108px; height: 108px; background-color: rgb(99, 133, 150);\"></a></div><div class=\"overflow-hidden rounded-md m-0.5\" style=\"width: 108px; height: 108px; background-color: rgb(99, 133, 150);\"><a href=\"/cryptopunks/traits/view/7127?trait=Eyes\" class=\"\"><img decoding=\"async\" loading=\"eager\" src=\"https://www.larvalabs.com/public/images/cryptopunks/punk7127.png\" class=\"m-auto cursor-pointer pixellate\" style=\"width: 108px; height: 108px; background-color: rgb(99, 133, 150);\"></a></div></div></td></tr><tr class=\"text-base\"><td class=\"font-bold text-pink-700\"><!----> <div class=\"cursor-pointer select-none hover:underline\">VR</div></td> <td class=\"font-bold text-right\">\n",
    "            332\n",
    "          </td> <td class=\"font-bold text-right text-green-500\">+30.12</td> <!----> <!----> <td><div class=\"flex flex-row flex-nowrap\"><div class=\"overflow-hidden rounded-md m-0.5\" style=\"width: 108px; height: 108px; background-color: rgb(99, 133, 150);\"><a href=\"/cryptopunks/traits/view/7920?trait=Eyes\" class=\"\"><img decoding=\"async\" loading=\"eager\" src=\"https://www.larvalabs.com/public/images/cryptopunks/punk7920.png\" class=\"m-auto cursor-pointer pixellate\" style=\"width: 108px; height: 108px; background-color: rgb(99, 133, 150);\"></a></div><div class=\"overflow-hidden rounded-md m-0.5\" style=\"width: 108px; height: 108px; background-color: rgb(99, 133, 150);\"><a href=\"/cryptopunks/traits/view/2460?trait=Eyes\" class=\"\"><img decoding=\"async\" loading=\"eager\" src=\"https://www.larvalabs.com/public/images/cryptopunks/punk2460.png\" class=\"m-auto cursor-pointer pixellate\" style=\"width: 108px; height: 108px; background-color: rgb(99, 133, 150);\"></a></div><div class=\"overflow-hidden rounded-md m-0.5\" style=\"width: 108px; height: 108px; background-color: rgb(99, 133, 150);\"><a href=\"/cryptopunks/traits/view/2560?trait=Eyes\" class=\"\"><img decoding=\"async\" loading=\"eager\" src=\"https://www.larvalabs.com/public/images/cryptopunks/punk2560.png\" class=\"m-auto cursor-pointer pixellate\" style=\"width: 108px; height: 108px; background-color: rgb(99, 133, 150);\"></a></div></div></td></tr><tr class=\"text-base\"><td class=\"font-bold text-pink-700\"><!----> <div class=\"cursor-pointer select-none hover:underline\">Small Shades</div></td> <td class=\"font-bold text-right\">\n",
    "            378\n",
    "          </td> <td class=\"font-bold text-right text-green-500\">+26.46</td> <!----> <!----> <td><div class=\"flex flex-row flex-nowrap\"><div class=\"overflow-hidden rounded-md m-0.5\" style=\"width: 108px; height: 108px; background-color: rgb(99, 133, 150);\"><a href=\"/cryptopunks/traits/view/7804?trait=Eyes\" class=\"\"><img decoding=\"async\" loading=\"eager\" src=\"https://www.larvalabs.com/public/images/cryptopunks/punk7804.png\" class=\"m-auto cursor-pointer pixellate\" style=\"width: 108px; height: 108px; background-color: rgb(99, 133, 150);\"></a></div><div class=\"overflow-hidden rounded-md m-0.5\" style=\"width: 108px; height: 108px; background-color: rgb(99, 133, 150);\"><a href=\"/cryptopunks/traits/view/5905?trait=Eyes\" class=\"\"><img decoding=\"async\" loading=\"eager\" src=\"https://www.larvalabs.com/public/images/cryptopunks/punk5905.png\" class=\"m-auto cursor-pointer pixellate\" style=\"width: 108px; height: 108px; background-color: rgb(99, 133, 150);\"></a></div><div class=\"overflow-hidden rounded-md m-0.5\" style=\"width: 108px; height: 108px; background-color: rgb(99, 133, 150);\"><a href=\"/cryptopunks/traits/view/3011?trait=Eyes\" class=\"\"><img decoding=\"async\" loading=\"eager\" src=\"https://www.larvalabs.com/public/images/cryptopunks/punk3011.png\" class=\"m-auto cursor-pointer pixellate\" style=\"width: 108px; height: 108px; background-color: rgb(99, 133, 150);\"></a></div></div></td></tr><tr class=\"text-base\"><td class=\"font-bold text-pink-700\"><!----> <div class=\"cursor-pointer select-none hover:underline\">Clown Eyes Green</div></td> <td class=\"font-bold text-right\">\n",
    "            382\n",
    "          </td> <td class=\"font-bold text-right text-green-500\">+26.18</td> <!----> <!----> <td><div class=\"flex flex-row flex-nowrap\"><div class=\"overflow-hidden rounded-md m-0.5\" style=\"width: 108px; height: 108px; background-color: rgb(99, 133, 150);\"><a href=\"/cryptopunks/traits/view/5622?trait=Eyes\" class=\"\"><img decoding=\"async\" loading=\"eager\" src=\"https://www.larvalabs.com/public/images/cryptopunks/punk5622.png\" class=\"m-auto cursor-pointer pixellate\" style=\"width: 108px; height: 108px; background-color: rgb(99, 133, 150);\"></a></div><div class=\"overflow-hidden rounded-md m-0.5\" style=\"width: 108px; height: 108px; background-color: rgb(99, 133, 150);\"><a href=\"/cryptopunks/traits/view/755?trait=Eyes\" class=\"\"><img decoding=\"async\" loading=\"eager\" src=\"https://www.larvalabs.com/public/images/cryptopunks/punk0755.png\" class=\"m-auto cursor-pointer pixellate\" style=\"width: 108px; height: 108px; background-color: rgb(99, 133, 150);\"></a></div><div class=\"overflow-hidden rounded-md m-0.5\" style=\"width: 108px; height: 108px; background-color: rgb(99, 133, 150);\"><a href=\"/cryptopunks/traits/view/2146?trait=Eyes\" class=\"\"><img decoding=\"async\" loading=\"eager\" src=\"https://www.larvalabs.com/public/images/cryptopunks/punk2146.png\" class=\"m-auto cursor-pointer pixellate\" style=\"width: 108px; height: 108px; background-color: rgb(99, 133, 150);\"></a></div></div></td></tr><tr class=\"text-base\"><td class=\"font-bold text-pink-700\"><!----> <div class=\"cursor-pointer select-none hover:underline\">Clown Eyes Blue</div></td> <td class=\"font-bold text-right\">\n",
    "            384\n",
    "          </td> <td class=\"font-bold text-right text-green-500\">+26.04</td> <!----> <!----> <td><div class=\"flex flex-row flex-nowrap\"><div class=\"overflow-hidden rounded-md m-0.5\" style=\"width: 108px; height: 108px; background-color: rgb(99, 133, 150);\"><a href=\"/cryptopunks/traits/view/2904?trait=Eyes\" class=\"\"><img decoding=\"async\" loading=\"eager\" src=\"https://www.larvalabs.com/public/images/cryptopunks/punk2904.png\" class=\"m-auto cursor-pointer pixellate\" style=\"width: 108px; height: 108px; background-color: rgb(99, 133, 150);\"></a></div><div class=\"overflow-hidden rounded-md m-0.5\" style=\"width: 108px; height: 108px; background-color: rgb(99, 133, 150);\"><a href=\"/cryptopunks/traits/view/2681?trait=Eyes\" class=\"\"><img decoding=\"async\" loading=\"eager\" src=\"https://www.larvalabs.com/public/images/cryptopunks/punk2681.png\" class=\"m-auto cursor-pointer pixellate\" style=\"width: 108px; height: 108px; background-color: rgb(99, 133, 150);\"></a></div><div class=\"overflow-hidden rounded-md m-0.5\" style=\"width: 108px; height: 108px; background-color: rgb(99, 133, 150);\"><a href=\"/cryptopunks/traits/view/4747?trait=Eyes\" class=\"\"><img decoding=\"async\" loading=\"eager\" src=\"https://www.larvalabs.com/public/images/cryptopunks/punk4747.png\" class=\"m-auto cursor-pointer pixellate\" style=\"width: 108px; height: 108px; background-color: rgb(99, 133, 150);\"></a></div></div></td></tr><tr class=\"text-base\"><td class=\"font-bold text-pink-700\"><!----> <div class=\"cursor-pointer select-none hover:underline\">Eye Patch</div></td> <td class=\"font-bold text-right\">\n",
    "            461\n",
    "          </td> <td class=\"font-bold text-right text-green-500\">+21.69</td> <!----> <!----> <td><div class=\"flex flex-row flex-nowrap\"><div class=\"overflow-hidden rounded-md m-0.5\" style=\"width: 108px; height: 108px; background-color: rgb(99, 133, 150);\"><a href=\"/cryptopunks/traits/view/8152?trait=Eyes\" class=\"\"><img decoding=\"async\" loading=\"eager\" src=\"https://www.larvalabs.com/public/images/cryptopunks/punk8152.png\" class=\"m-auto cursor-pointer pixellate\" style=\"width: 108px; height: 108px; background-color: rgb(99, 133, 150);\"></a></div><div class=\"overflow-hidden rounded-md m-0.5\" style=\"width: 108px; height: 108px; background-color: rgb(99, 133, 150);\"><a href=\"/cryptopunks/traits/view/6915?trait=Eyes\" class=\"\"><img decoding=\"async\" loading=\"eager\" src=\"https://www.larvalabs.com/public/images/cryptopunks/punk6915.png\" class=\"m-auto cursor-pointer pixellate\" style=\"width: 108px; height: 108px; background-color: rgb(99, 133, 150);\"></a></div><div class=\"overflow-hidden rounded-md m-0.5\" style=\"width: 108px; height: 108px; background-color: rgb(99, 133, 150);\"><a href=\"/cryptopunks/traits/view/1021?trait=Eyes\" class=\"\"><img decoding=\"async\" loading=\"eager\" src=\"https://www.larvalabs.com/public/images/cryptopunks/punk1021.png\" class=\"m-auto cursor-pointer pixellate\" style=\"width: 108px; height: 108px; background-color: rgb(99, 133, 150);\"></a></div></div></td></tr><tr class=\"text-base\"><td class=\"font-bold text-pink-700\"><!----> <div class=\"cursor-pointer select-none hover:underline\">Classic Shades</div></td> <td class=\"font-bold text-right\">\n",
    "            502\n",
    "          </td> <td class=\"font-bold text-right text-green-500\">+19.92</td> <!----> <!----> <td><div class=\"flex flex-row flex-nowrap\"><div class=\"overflow-hidden rounded-md m-0.5\" style=\"width: 108px; height: 108px; background-color: rgb(99, 133, 150);\"><a href=\"/cryptopunks/traits/view/8348?trait=Eyes\" class=\"\"><img decoding=\"async\" loading=\"eager\" src=\"https://www.larvalabs.com/public/images/cryptopunks/punk8348.png\" class=\"m-auto cursor-pointer pixellate\" style=\"width: 108px; height: 108px; background-color: rgb(99, 133, 150);\"></a></div><div class=\"overflow-hidden rounded-md m-0.5\" style=\"width: 108px; height: 108px; background-color: rgb(99, 133, 150);\"><a href=\"/cryptopunks/traits/view/2202?trait=Eyes\" class=\"\"><img decoding=\"async\" loading=\"eager\" src=\"https://www.larvalabs.com/public/images/cryptopunks/punk2202.png\" class=\"m-auto cursor-pointer pixellate\" style=\"width: 108px; height: 108px; background-color: rgb(99, 133, 150);\"></a></div><div class=\"overflow-hidden rounded-md m-0.5\" style=\"width: 108px; height: 108px; background-color: rgb(99, 133, 150);\"><a href=\"/cryptopunks/traits/view/460?trait=Eyes\" class=\"\"><img decoding=\"async\" loading=\"eager\" src=\"https://www.larvalabs.com/public/images/cryptopunks/punk0460.png\" class=\"m-auto cursor-pointer pixellate\" style=\"width: 108px; height: 108px; background-color: rgb(99, 133, 150);\"></a></div></div></td></tr><tr class=\"text-base\"><td class=\"font-bold text-pink-700\"><!----> <div class=\"cursor-pointer select-none hover:underline\">Regular Shades</div></td> <td class=\"font-bold text-right\">\n",
    "            527\n",
    "          </td> <td class=\"font-bold text-right text-green-500\">+18.98</td> <!----> <!----> <td><div class=\"flex flex-row flex-nowrap\"><div class=\"overflow-hidden rounded-md m-0.5\" style=\"width: 108px; height: 108px; background-color: rgb(99, 133, 150);\"><a href=\"/cryptopunks/traits/view/635?trait=Eyes\" class=\"\"><img decoding=\"async\" loading=\"eager\" src=\"https://www.larvalabs.com/public/images/cryptopunks/punk0635.png\" class=\"m-auto cursor-pointer pixellate\" style=\"width: 108px; height: 108px; background-color: rgb(99, 133, 150);\"></a></div><div class=\"overflow-hidden rounded-md m-0.5\" style=\"width: 108px; height: 108px; background-color: rgb(99, 133, 150);\"><a href=\"/cryptopunks/traits/view/8498?trait=Eyes\" class=\"\"><img decoding=\"async\" loading=\"eager\" src=\"https://www.larvalabs.com/public/images/cryptopunks/punk8498.png\" class=\"m-auto cursor-pointer pixellate\" style=\"width: 108px; height: 108px; background-color: rgb(99, 133, 150);\"></a></div><div class=\"overflow-hidden rounded-md m-0.5\" style=\"width: 108px; height: 108px; background-color: rgb(99, 133, 150);\"><a href=\"/cryptopunks/traits/view/8909?trait=Eyes\" class=\"\"><img decoding=\"async\" loading=\"eager\" src=\"https://www.larvalabs.com/public/images/cryptopunks/punk8909.png\" class=\"m-auto cursor-pointer pixellate\" style=\"width: 108px; height: 108px; background-color: rgb(99, 133, 150);\"></a></div></div></td></tr><tr class=\"text-base\"><td class=\"font-bold text-pink-700\"><!----> <div class=\"cursor-pointer select-none hover:underline\">Big Shades</div></td> <td class=\"font-bold text-right\">\n",
    "            535\n",
    "          </td> <td class=\"font-bold text-right text-green-500\">+18.69</td> <!----> <!----> <td><div class=\"flex flex-row flex-nowrap\"><div class=\"overflow-hidden rounded-md m-0.5\" style=\"width: 108px; height: 108px; background-color: rgb(99, 133, 150);\"><a href=\"/cryptopunks/traits/view/5949?trait=Eyes\" class=\"\"><img decoding=\"async\" loading=\"eager\" src=\"https://www.larvalabs.com/public/images/cryptopunks/punk5949.png\" class=\"m-auto cursor-pointer pixellate\" style=\"width: 108px; height: 108px; background-color: rgb(99, 133, 150);\"></a></div><div class=\"overflow-hidden rounded-md m-0.5\" style=\"width: 108px; height: 108px; background-color: rgb(99, 133, 150);\"><a href=\"/cryptopunks/traits/view/7971?trait=Eyes\" class=\"\"><img decoding=\"async\" loading=\"eager\" src=\"https://www.larvalabs.com/public/images/cryptopunks/punk7971.png\" class=\"m-auto cursor-pointer pixellate\" style=\"width: 108px; height: 108px; background-color: rgb(99, 133, 150);\"></a></div><div class=\"overflow-hidden rounded-md m-0.5\" style=\"width: 108px; height: 108px; background-color: rgb(99, 133, 150);\"><a href=\"/cryptopunks/traits/view/9265?trait=Eyes\" class=\"\"><img decoding=\"async\" loading=\"eager\" src=\"https://www.larvalabs.com/public/images/cryptopunks/punk9265.png\" class=\"m-auto cursor-pointer pixellate\" style=\"width: 108px; height: 108px; background-color: rgb(99, 133, 150);\"></a></div></div></td></tr><tr class=\"text-base\"><td class=\"font-bold text-pink-700\"><!----> <div class=\"cursor-pointer select-none hover:underline\">Horned Rim Glasses</div></td> <td class=\"font-bold text-right\">\n",
    "            535\n",
    "          </td> <td class=\"font-bold text-right text-green-500\">+18.69</td> <!----> <!----> <td><div class=\"flex flex-row flex-nowrap\"><div class=\"overflow-hidden rounded-md m-0.5\" style=\"width: 108px; height: 108px; background-color: rgb(99, 133, 150);\"><a href=\"/cryptopunks/traits/view/6153?trait=Eyes\" class=\"\"><img decoding=\"async\" loading=\"eager\" src=\"https://www.larvalabs.com/public/images/cryptopunks/punk6153.png\" class=\"m-auto cursor-pointer pixellate\" style=\"width: 108px; height: 108px; background-color: rgb(99, 133, 150);\"></a></div><div class=\"overflow-hidden rounded-md m-0.5\" style=\"width: 108px; height: 108px; background-color: rgb(99, 133, 150);\"><a href=\"/cryptopunks/traits/view/5314?trait=Eyes\" class=\"\"><img decoding=\"async\" loading=\"eager\" src=\"https://www.larvalabs.com/public/images/cryptopunks/punk5314.png\" class=\"m-auto cursor-pointer pixellate\" style=\"width: 108px; height: 108px; background-color: rgb(99, 133, 150);\"></a></div><div class=\"overflow-hidden rounded-md m-0.5\" style=\"width: 108px; height: 108px; background-color: rgb(99, 133, 150);\"><a href=\"/cryptopunks/traits/view/8581?trait=Eyes\" class=\"\"><img decoding=\"async\" loading=\"eager\" src=\"https://www.larvalabs.com/public/images/cryptopunks/punk8581.png\" class=\"m-auto cursor-pointer pixellate\" style=\"width: 108px; height: 108px; background-color: rgb(99, 133, 150);\"></a></div></div></td></tr><tr class=\"text-base\"><td class=\"font-bold text-pink-700\"><!----> <div class=\"cursor-pointer select-none hover:underline\">Nerd Glasses</div></td> <td class=\"font-bold text-right\">\n",
    "            572\n",
    "          </td> <td class=\"font-bold text-right text-green-500\">+17.48</td> <!----> <!----> <td><div class=\"flex flex-row flex-nowrap\"><div class=\"overflow-hidden rounded-md m-0.5\" style=\"width: 108px; height: 108px; background-color: rgb(99, 133, 150);\"><a href=\"/cryptopunks/traits/view/1839?trait=Eyes\" class=\"\"><img decoding=\"async\" loading=\"eager\" src=\"https://www.larvalabs.com/public/images/cryptopunks/punk1839.png\" class=\"m-auto cursor-pointer pixellate\" style=\"width: 108px; height: 108px; background-color: rgb(99, 133, 150);\"></a></div><div class=\"overflow-hidden rounded-md m-0.5\" style=\"width: 108px; height: 108px; background-color: rgb(99, 133, 150);\"><a href=\"/cryptopunks/traits/view/7191?trait=Eyes\" class=\"\"><img decoding=\"async\" loading=\"eager\" src=\"https://www.larvalabs.com/public/images/cryptopunks/punk7191.png\" class=\"m-auto cursor-pointer pixellate\" style=\"width: 108px; height: 108px; background-color: rgb(99, 133, 150);\"></a></div><div class=\"overflow-hidden rounded-md m-0.5\" style=\"width: 108px; height: 108px; background-color: rgb(99, 133, 150);\"><a href=\"/cryptopunks/traits/view/2243?trait=Eyes\" class=\"\"><img decoding=\"async\" loading=\"eager\" src=\"https://www.larvalabs.com/public/images/cryptopunks/punk2243.png\" class=\"m-auto cursor-pointer pixellate\" style=\"width: 108px; height: 108px; background-color: rgb(99, 133, 150);\"></a></div></div></td></tr><tr class=\"text-base\"><td class=\"font-bold text-pink-700\"><!----> <div class=\"cursor-pointer select-none hover:underline\">&lt;none&gt;</div></td> <td class=\"font-bold text-right\">\n",
    "            3928\n",
    "          </td> <td class=\"font-bold text-right text-green-500\">+2.55</td> <!----> <!----> <td><div class=\"flex flex-row flex-nowrap\"><div class=\"overflow-hidden rounded-md m-0.5\" style=\"width: 108px; height: 108px; background-color: rgb(99, 133, 150);\"><a href=\"/cryptopunks/traits/view/7523?trait=Eyes\" class=\"\"><img decoding=\"async\" loading=\"eager\" src=\"https://www.larvalabs.com/public/images/cryptopunks/punk7523.png\" class=\"m-auto cursor-pointer pixellate\" style=\"width: 108px; height: 108px; background-color: rgb(99, 133, 150);\"></a></div><div class=\"overflow-hidden rounded-md m-0.5\" style=\"width: 108px; height: 108px; background-color: rgb(99, 133, 150);\"><a href=\"/cryptopunks/traits/view/3443?trait=Eyes\" class=\"\"><img decoding=\"async\" loading=\"eager\" src=\"https://www.larvalabs.com/public/images/cryptopunks/punk3443.png\" class=\"m-auto cursor-pointer pixellate\" style=\"width: 108px; height: 108px; background-color: rgb(99, 133, 150);\"></a></div><div class=\"overflow-hidden rounded-md m-0.5\" style=\"width: 108px; height: 108px; background-color: rgb(99, 133, 150);\"><a href=\"/cryptopunks/traits/view/2890?trait=Eyes\" class=\"\"><img decoding=\"async\" loading=\"eager\" src=\"https://www.larvalabs.com/public/images/cryptopunks/punk2890.png\" class=\"m-auto cursor-pointer pixellate\" style=\"width: 108px; height: 108px; background-color: rgb(99, 133, 150);\"></a></div></div></td></tr></table>''')"
   ]
  },
  {
   "cell_type": "code",
   "execution_count": 62,
   "id": "02cbb165-125f-484d-9844-22e616d6c00b",
   "metadata": {},
   "outputs": [
    {
     "data": {
      "text/plain": [
       "18"
      ]
     },
     "execution_count": 62,
     "metadata": {},
     "output_type": "execute_result"
    }
   ],
   "source": [
    "len(eyes.find_all('tr'))"
   ]
  },
  {
   "cell_type": "code",
   "execution_count": 65,
   "id": "1189c0d4-34aa-4e91-b7ac-0926000a823a",
   "metadata": {},
   "outputs": [
    {
     "data": {
      "text/plain": [
       "[['Welding', '86'],\n",
       " ['Purple', 'Shadow', '+38.17'],\n",
       " ['Blue', 'Shadow', '+37.59'],\n",
       " ['Green', 'Shadow', '+36.90'],\n",
       " ['3D', '286'],\n",
       " ['Eye', '293'],\n",
       " ['VR', '+30.12'],\n",
       " ['Small', '378'],\n",
       " ['Clown', 'Green', '+26.18'],\n",
       " ['Clown', 'Blue', '+26.04'],\n",
       " ['Eye', '461'],\n",
       " ['Classic', '502'],\n",
       " ['Regular', '527'],\n",
       " ['Big', '535'],\n",
       " ['Horned', 'Glasses', '+18.69'],\n",
       " ['Nerd', '572'],\n",
       " ['<none>', '+2.55']]"
      ]
     },
     "execution_count": 65,
     "metadata": {},
     "output_type": "execute_result"
    }
   ],
   "source": [
    "eyes_list=[]\n",
    "for x in range(1,18):\n",
    "    eyes_list.append(eyes.find_all('tr')[x].text.split()[::2])\n",
    "eyes_list"
   ]
  },
  {
   "cell_type": "code",
   "execution_count": 67,
   "id": "f6ac18b8-5a03-4c57-ba4d-125147b2e1d1",
   "metadata": {},
   "outputs": [],
   "source": [
    "#facial_hair soup"
   ]
  },
  {
   "cell_type": "code",
   "execution_count": 68,
   "id": "2b3def9b-8a97-47f0-b5fe-2c314eb21d4e",
   "metadata": {
    "jupyter": {
     "source_hidden": true
    },
    "tags": []
   },
   "outputs": [],
   "source": [
    "facial_hair = BeautifulSoup('''<table class=\"relative m-auto traitValues\"><tr><th class=\"text-left\">Value</th> <th class=\"text-right\">Count</th> <th class=\"text-right\">Rarity Score</th> <!----> <!----> <th class=\"pl-8 text-left\">Examples</th></tr> <tr class=\"text-base\"><td class=\"font-bold text-pink-700\"><!----> <div class=\"cursor-pointer select-none hover:underline\">Big Beard</div></td> <td class=\"font-bold text-right\">\n",
    "            146\n",
    "          </td> <td class=\"font-bold text-right text-green-500\">+68.49</td> <!----> <!----> <td><div class=\"flex flex-row flex-nowrap\"><div class=\"overflow-hidden rounded-md m-0.5\" style=\"width: 108px; height: 108px; background-color: rgb(99, 133, 150);\"><a href=\"/cryptopunks/traits/view/8348?trait=Facial%20Hair\" class=\"\"><img decoding=\"async\" loading=\"eager\" src=\"https://www.larvalabs.com/public/images/cryptopunks/punk8348.png\" class=\"m-auto cursor-pointer pixellate\" style=\"width: 108px; height: 108px; background-color: rgb(99, 133, 150);\"></a></div><div class=\"overflow-hidden rounded-md m-0.5\" style=\"width: 108px; height: 108px; background-color: rgb(99, 133, 150);\"><a href=\"/cryptopunks/traits/view/3107?trait=Facial%20Hair\" class=\"\"><img decoding=\"async\" loading=\"eager\" src=\"https://www.larvalabs.com/public/images/cryptopunks/punk3107.png\" class=\"m-auto cursor-pointer pixellate\" style=\"width: 108px; height: 108px; background-color: rgb(99, 133, 150);\"></a></div><div class=\"overflow-hidden rounded-md m-0.5\" style=\"width: 108px; height: 108px; background-color: rgb(99, 133, 150);\"><a href=\"/cryptopunks/traits/view/9038?trait=Facial%20Hair\" class=\"\"><img decoding=\"async\" loading=\"eager\" src=\"https://www.larvalabs.com/public/images/cryptopunks/punk9038.png\" class=\"m-auto cursor-pointer pixellate\" style=\"width: 108px; height: 108px; background-color: rgb(99, 133, 150);\"></a></div></div></td></tr><tr class=\"text-base\"><td class=\"font-bold text-pink-700\"><!----> <div class=\"cursor-pointer select-none hover:underline\">Front Beard Dark</div></td> <td class=\"font-bold text-right\">\n",
    "            260\n",
    "          </td> <td class=\"font-bold text-right text-green-500\">+38.46</td> <!----> <!----> <td><div class=\"flex flex-row flex-nowrap\"><div class=\"overflow-hidden rounded-md m-0.5\" style=\"width: 108px; height: 108px; background-color: rgb(99, 133, 150);\"><a href=\"/cryptopunks/traits/view/3636?trait=Facial%20Hair\" class=\"\"><img decoding=\"async\" loading=\"eager\" src=\"https://www.larvalabs.com/public/images/cryptopunks/punk3636.png\" class=\"m-auto cursor-pointer pixellate\" style=\"width: 108px; height: 108px; background-color: rgb(99, 133, 150);\"></a></div><div class=\"overflow-hidden rounded-md m-0.5\" style=\"width: 108px; height: 108px; background-color: rgb(99, 133, 150);\"><a href=\"/cryptopunks/traits/view/8553?trait=Facial%20Hair\" class=\"\"><img decoding=\"async\" loading=\"eager\" src=\"https://www.larvalabs.com/public/images/cryptopunks/punk8553.png\" class=\"m-auto cursor-pointer pixellate\" style=\"width: 108px; height: 108px; background-color: rgb(99, 133, 150);\"></a></div><div class=\"overflow-hidden rounded-md m-0.5\" style=\"width: 108px; height: 108px; background-color: rgb(99, 133, 150);\"><a href=\"/cryptopunks/traits/view/9838?trait=Facial%20Hair\" class=\"\"><img decoding=\"async\" loading=\"eager\" src=\"https://www.larvalabs.com/public/images/cryptopunks/punk9838.png\" class=\"m-auto cursor-pointer pixellate\" style=\"width: 108px; height: 108px; background-color: rgb(99, 133, 150);\"></a></div></div></td></tr><tr class=\"text-base\"><td class=\"font-bold text-pink-700\"><!----> <div class=\"cursor-pointer select-none hover:underline\">Handlebars</div></td> <td class=\"font-bold text-right\">\n",
    "            263\n",
    "          </td> <td class=\"font-bold text-right text-green-500\">+38.02</td> <!----> <!----> <td><div class=\"flex flex-row flex-nowrap\"><div class=\"overflow-hidden rounded-md m-0.5\" style=\"width: 108px; height: 108px; background-color: rgb(99, 133, 150);\"><a href=\"/cryptopunks/traits/view/5299?trait=Facial%20Hair\" class=\"\"><img decoding=\"async\" loading=\"eager\" src=\"https://www.larvalabs.com/public/images/cryptopunks/punk5299.png\" class=\"m-auto cursor-pointer pixellate\" style=\"width: 108px; height: 108px; background-color: rgb(99, 133, 150);\"></a></div><div class=\"overflow-hidden rounded-md m-0.5\" style=\"width: 108px; height: 108px; background-color: rgb(99, 133, 150);\"><a href=\"/cryptopunks/traits/view/1190?trait=Facial%20Hair\" class=\"\"><img decoding=\"async\" loading=\"eager\" src=\"https://www.larvalabs.com/public/images/cryptopunks/punk1190.png\" class=\"m-auto cursor-pointer pixellate\" style=\"width: 108px; height: 108px; background-color: rgb(99, 133, 150);\"></a></div><div class=\"overflow-hidden rounded-md m-0.5\" style=\"width: 108px; height: 108px; background-color: rgb(99, 133, 150);\"><a href=\"/cryptopunks/traits/view/7656?trait=Facial%20Hair\" class=\"\"><img decoding=\"async\" loading=\"eager\" src=\"https://www.larvalabs.com/public/images/cryptopunks/punk7656.png\" class=\"m-auto cursor-pointer pixellate\" style=\"width: 108px; height: 108px; background-color: rgb(99, 133, 150);\"></a></div></div></td></tr><tr class=\"text-base\"><td class=\"font-bold text-pink-700\"><!----> <div class=\"cursor-pointer select-none hover:underline\">Front Beard</div></td> <td class=\"font-bold text-right\">\n",
    "            273\n",
    "          </td> <td class=\"font-bold text-right text-green-500\">+36.63</td> <!----> <!----> <td><div class=\"flex flex-row flex-nowrap\"><div class=\"overflow-hidden rounded-md m-0.5\" style=\"width: 108px; height: 108px; background-color: rgb(99, 133, 150);\"><a href=\"/cryptopunks/traits/view/1748?trait=Facial%20Hair\" class=\"\"><img decoding=\"async\" loading=\"eager\" src=\"https://www.larvalabs.com/public/images/cryptopunks/punk1748.png\" class=\"m-auto cursor-pointer pixellate\" style=\"width: 108px; height: 108px; background-color: rgb(99, 133, 150);\"></a></div><div class=\"overflow-hidden rounded-md m-0.5\" style=\"width: 108px; height: 108px; background-color: rgb(99, 133, 150);\"><a href=\"/cryptopunks/traits/view/2560?trait=Facial%20Hair\" class=\"\"><img decoding=\"async\" loading=\"eager\" src=\"https://www.larvalabs.com/public/images/cryptopunks/punk2560.png\" class=\"m-auto cursor-pointer pixellate\" style=\"width: 108px; height: 108px; background-color: rgb(99, 133, 150);\"></a></div><div class=\"overflow-hidden rounded-md m-0.5\" style=\"width: 108px; height: 108px; background-color: rgb(99, 133, 150);\"><a href=\"/cryptopunks/traits/view/9997?trait=Facial%20Hair\" class=\"\"><img decoding=\"async\" loading=\"eager\" src=\"https://www.larvalabs.com/public/images/cryptopunks/punk9997.png\" class=\"m-auto cursor-pointer pixellate\" style=\"width: 108px; height: 108px; background-color: rgb(99, 133, 150);\"></a></div></div></td></tr><tr class=\"text-base\"><td class=\"font-bold text-pink-700\"><!----> <div class=\"cursor-pointer select-none hover:underline\">Chinstrap</div></td> <td class=\"font-bold text-right\">\n",
    "            282\n",
    "          </td> <td class=\"font-bold text-right text-green-500\">+35.46</td> <!----> <!----> <td><div class=\"flex flex-row flex-nowrap\"><div class=\"overflow-hidden rounded-md m-0.5\" style=\"width: 108px; height: 108px; background-color: rgb(99, 133, 150);\"><a href=\"/cryptopunks/traits/view/4121?trait=Facial%20Hair\" class=\"\"><img decoding=\"async\" loading=\"eager\" src=\"https://www.larvalabs.com/public/images/cryptopunks/punk4121.png\" class=\"m-auto cursor-pointer pixellate\" style=\"width: 108px; height: 108px; background-color: rgb(99, 133, 150);\"></a></div><div class=\"overflow-hidden rounded-md m-0.5\" style=\"width: 108px; height: 108px; background-color: rgb(99, 133, 150);\"><a href=\"/cryptopunks/traits/view/6466?trait=Facial%20Hair\" class=\"\"><img decoding=\"async\" loading=\"eager\" src=\"https://www.larvalabs.com/public/images/cryptopunks/punk6466.png\" class=\"m-auto cursor-pointer pixellate\" style=\"width: 108px; height: 108px; background-color: rgb(99, 133, 150);\"></a></div><div class=\"overflow-hidden rounded-md m-0.5\" style=\"width: 108px; height: 108px; background-color: rgb(99, 133, 150);\"><a href=\"/cryptopunks/traits/view/7252?trait=Facial%20Hair\" class=\"\"><img decoding=\"async\" loading=\"eager\" src=\"https://www.larvalabs.com/public/images/cryptopunks/punk7252.png\" class=\"m-auto cursor-pointer pixellate\" style=\"width: 108px; height: 108px; background-color: rgb(99, 133, 150);\"></a></div></div></td></tr><tr class=\"text-base\"><td class=\"font-bold text-pink-700\"><!----> <div class=\"cursor-pointer select-none hover:underline\">Luxurious Beard</div></td> <td class=\"font-bold text-right\">\n",
    "            286\n",
    "          </td> <td class=\"font-bold text-right text-green-500\">+34.97</td> <!----> <!----> <td><div class=\"flex flex-row flex-nowrap\"><div class=\"overflow-hidden rounded-md m-0.5\" style=\"width: 108px; height: 108px; background-color: rgb(99, 133, 150);\"><a href=\"/cryptopunks/traits/view/8152?trait=Facial%20Hair\" class=\"\"><img decoding=\"async\" loading=\"eager\" src=\"https://www.larvalabs.com/public/images/cryptopunks/punk8152.png\" class=\"m-auto cursor-pointer pixellate\" style=\"width: 108px; height: 108px; background-color: rgb(99, 133, 150);\"></a></div><div class=\"overflow-hidden rounded-md m-0.5\" style=\"width: 108px; height: 108px; background-color: rgb(99, 133, 150);\"><a href=\"/cryptopunks/traits/view/4513?trait=Facial%20Hair\" class=\"\"><img decoding=\"async\" loading=\"eager\" src=\"https://www.larvalabs.com/public/images/cryptopunks/punk4513.png\" class=\"m-auto cursor-pointer pixellate\" style=\"width: 108px; height: 108px; background-color: rgb(99, 133, 150);\"></a></div><div class=\"overflow-hidden rounded-md m-0.5\" style=\"width: 108px; height: 108px; background-color: rgb(99, 133, 150);\"><a href=\"/cryptopunks/traits/view/8909?trait=Facial%20Hair\" class=\"\"><img decoding=\"async\" loading=\"eager\" src=\"https://www.larvalabs.com/public/images/cryptopunks/punk8909.png\" class=\"m-auto cursor-pointer pixellate\" style=\"width: 108px; height: 108px; background-color: rgb(99, 133, 150);\"></a></div></div></td></tr><tr class=\"text-base\"><td class=\"font-bold text-pink-700\"><!----> <div class=\"cursor-pointer select-none hover:underline\">Mustache</div></td> <td class=\"font-bold text-right\">\n",
    "            288\n",
    "          </td> <td class=\"font-bold text-right text-green-500\">+34.72</td> <!----> <!----> <td><div class=\"flex flex-row flex-nowrap\"><div class=\"overflow-hidden rounded-md m-0.5\" style=\"width: 108px; height: 108px; background-color: rgb(99, 133, 150);\"><a href=\"/cryptopunks/traits/view/1839?trait=Facial%20Hair\" class=\"\"><img decoding=\"async\" loading=\"eager\" src=\"https://www.larvalabs.com/public/images/cryptopunks/punk1839.png\" class=\"m-auto cursor-pointer pixellate\" style=\"width: 108px; height: 108px; background-color: rgb(99, 133, 150);\"></a></div><div class=\"overflow-hidden rounded-md m-0.5\" style=\"width: 108px; height: 108px; background-color: rgb(99, 133, 150);\"><a href=\"/cryptopunks/traits/view/4874?trait=Facial%20Hair\" class=\"\"><img decoding=\"async\" loading=\"eager\" src=\"https://www.larvalabs.com/public/images/cryptopunks/punk4874.png\" class=\"m-auto cursor-pointer pixellate\" style=\"width: 108px; height: 108px; background-color: rgb(99, 133, 150);\"></a></div><div class=\"overflow-hidden rounded-md m-0.5\" style=\"width: 108px; height: 108px; background-color: rgb(99, 133, 150);\"><a href=\"/cryptopunks/traits/view/8840?trait=Facial%20Hair\" class=\"\"><img decoding=\"async\" loading=\"eager\" src=\"https://www.larvalabs.com/public/images/cryptopunks/punk8840.png\" class=\"m-auto cursor-pointer pixellate\" style=\"width: 108px; height: 108px; background-color: rgb(99, 133, 150);\"></a></div></div></td></tr><tr class=\"text-base\"><td class=\"font-bold text-pink-700\"><!----> <div class=\"cursor-pointer select-none hover:underline\">Normal Beard Black</div></td> <td class=\"font-bold text-right\">\n",
    "            289\n",
    "          </td> <td class=\"font-bold text-right text-green-500\">+34.60</td> <!----> <!----> <td><div class=\"flex flex-row flex-nowrap\"><div class=\"overflow-hidden rounded-md m-0.5\" style=\"width: 108px; height: 108px; background-color: rgb(99, 133, 150);\"><a href=\"/cryptopunks/traits/view/2132?trait=Facial%20Hair\" class=\"\"><img decoding=\"async\" loading=\"eager\" src=\"https://www.larvalabs.com/public/images/cryptopunks/punk2132.png\" class=\"m-auto cursor-pointer pixellate\" style=\"width: 108px; height: 108px; background-color: rgb(99, 133, 150);\"></a></div><div class=\"overflow-hidden rounded-md m-0.5\" style=\"width: 108px; height: 108px; background-color: rgb(99, 133, 150);\"><a href=\"/cryptopunks/traits/view/7337?trait=Facial%20Hair\" class=\"\"><img decoding=\"async\" loading=\"eager\" src=\"https://www.larvalabs.com/public/images/cryptopunks/punk7337.png\" class=\"m-auto cursor-pointer pixellate\" style=\"width: 108px; height: 108px; background-color: rgb(99, 133, 150);\"></a></div><div class=\"overflow-hidden rounded-md m-0.5\" style=\"width: 108px; height: 108px; background-color: rgb(99, 133, 150);\"><a href=\"/cryptopunks/traits/view/7914?trait=Facial%20Hair\" class=\"\"><img decoding=\"async\" loading=\"eager\" src=\"https://www.larvalabs.com/public/images/cryptopunks/punk7914.png\" class=\"m-auto cursor-pointer pixellate\" style=\"width: 108px; height: 108px; background-color: rgb(99, 133, 150);\"></a></div></div></td></tr><tr class=\"text-base\"><td class=\"font-bold text-pink-700\"><!----> <div class=\"cursor-pointer select-none hover:underline\">Normal Beard</div></td> <td class=\"font-bold text-right\">\n",
    "            292\n",
    "          </td> <td class=\"font-bold text-right text-green-500\">+34.25</td> <!----> <!----> <td><div class=\"flex flex-row flex-nowrap\"><div class=\"overflow-hidden rounded-md m-0.5\" style=\"width: 108px; height: 108px; background-color: rgb(99, 133, 150);\"><a href=\"/cryptopunks/traits/view/3011?trait=Facial%20Hair\" class=\"\"><img decoding=\"async\" loading=\"eager\" src=\"https://www.larvalabs.com/public/images/cryptopunks/punk3011.png\" class=\"m-auto cursor-pointer pixellate\" style=\"width: 108px; height: 108px; background-color: rgb(99, 133, 150);\"></a></div><div class=\"overflow-hidden rounded-md m-0.5\" style=\"width: 108px; height: 108px; background-color: rgb(99, 133, 150);\"><a href=\"/cryptopunks/traits/view/2566?trait=Facial%20Hair\" class=\"\"><img decoding=\"async\" loading=\"eager\" src=\"https://www.larvalabs.com/public/images/cryptopunks/punk2566.png\" class=\"m-auto cursor-pointer pixellate\" style=\"width: 108px; height: 108px; background-color: rgb(99, 133, 150);\"></a></div><div class=\"overflow-hidden rounded-md m-0.5\" style=\"width: 108px; height: 108px; background-color: rgb(99, 133, 150);\"><a href=\"/cryptopunks/traits/view/7261?trait=Facial%20Hair\" class=\"\"><img decoding=\"async\" loading=\"eager\" src=\"https://www.larvalabs.com/public/images/cryptopunks/punk7261.png\" class=\"m-auto cursor-pointer pixellate\" style=\"width: 108px; height: 108px; background-color: rgb(99, 133, 150);\"></a></div></div></td></tr><tr class=\"text-base\"><td class=\"font-bold text-pink-700\"><!----> <div class=\"cursor-pointer select-none hover:underline\">Goat</div></td> <td class=\"font-bold text-right\">\n",
    "            295\n",
    "          </td> <td class=\"font-bold text-right text-green-500\">+33.90</td> <!----> <!----> <td><div class=\"flex flex-row flex-nowrap\"><div class=\"overflow-hidden rounded-md m-0.5\" style=\"width: 108px; height: 108px; background-color: rgb(99, 133, 150);\"><a href=\"/cryptopunks/traits/view/6153?trait=Facial%20Hair\" class=\"\"><img decoding=\"async\" loading=\"eager\" src=\"https://www.larvalabs.com/public/images/cryptopunks/punk6153.png\" class=\"m-auto cursor-pointer pixellate\" style=\"width: 108px; height: 108px; background-color: rgb(99, 133, 150);\"></a></div><div class=\"overflow-hidden rounded-md m-0.5\" style=\"width: 108px; height: 108px; background-color: rgb(99, 133, 150);\"><a href=\"/cryptopunks/traits/view/9203?trait=Facial%20Hair\" class=\"\"><img decoding=\"async\" loading=\"eager\" src=\"https://www.larvalabs.com/public/images/cryptopunks/punk9203.png\" class=\"m-auto cursor-pointer pixellate\" style=\"width: 108px; height: 108px; background-color: rgb(99, 133, 150);\"></a></div><div class=\"overflow-hidden rounded-md m-0.5\" style=\"width: 108px; height: 108px; background-color: rgb(99, 133, 150);\"><a href=\"/cryptopunks/traits/view/8531?trait=Facial%20Hair\" class=\"\"><img decoding=\"async\" loading=\"eager\" src=\"https://www.larvalabs.com/public/images/cryptopunks/punk8531.png\" class=\"m-auto cursor-pointer pixellate\" style=\"width: 108px; height: 108px; background-color: rgb(99, 133, 150);\"></a></div></div></td></tr><tr class=\"text-base\"><td class=\"font-bold text-pink-700\"><!----> <div class=\"cursor-pointer select-none hover:underline\">Muttonchops</div></td> <td class=\"font-bold text-right\">\n",
    "            303\n",
    "          </td> <td class=\"font-bold text-right text-green-500\">+33.00</td> <!----> <!----> <td><div class=\"flex flex-row flex-nowrap\"><div class=\"overflow-hidden rounded-md m-0.5\" style=\"width: 108px; height: 108px; background-color: rgb(99, 133, 150);\"><a href=\"/cryptopunks/traits/view/5690?trait=Facial%20Hair\" class=\"\"><img decoding=\"async\" loading=\"eager\" src=\"https://www.larvalabs.com/public/images/cryptopunks/punk5690.png\" class=\"m-auto cursor-pointer pixellate\" style=\"width: 108px; height: 108px; background-color: rgb(99, 133, 150);\"></a></div><div class=\"overflow-hidden rounded-md m-0.5\" style=\"width: 108px; height: 108px; background-color: rgb(99, 133, 150);\"><a href=\"/cryptopunks/traits/view/9991?trait=Facial%20Hair\" class=\"\"><img decoding=\"async\" loading=\"eager\" src=\"https://www.larvalabs.com/public/images/cryptopunks/punk9991.png\" class=\"m-auto cursor-pointer pixellate\" style=\"width: 108px; height: 108px; background-color: rgb(99, 133, 150);\"></a></div><div class=\"overflow-hidden rounded-md m-0.5\" style=\"width: 108px; height: 108px; background-color: rgb(99, 133, 150);\"><a href=\"/cryptopunks/traits/view/9129?trait=Facial%20Hair\" class=\"\"><img decoding=\"async\" loading=\"eager\" src=\"https://www.larvalabs.com/public/images/cryptopunks/punk9129.png\" class=\"m-auto cursor-pointer pixellate\" style=\"width: 108px; height: 108px; background-color: rgb(99, 133, 150);\"></a></div></div></td></tr><tr class=\"text-base\"><td class=\"font-bold text-pink-700\"><!----> <div class=\"cursor-pointer select-none hover:underline\">Shadow Beard</div></td> <td class=\"font-bold text-right\">\n",
    "            526\n",
    "          </td> <td class=\"font-bold text-right text-green-500\">+19.01</td> <!----> <!----> <td><div class=\"flex flex-row flex-nowrap\"><div class=\"overflow-hidden rounded-md m-0.5\" style=\"width: 108px; height: 108px; background-color: rgb(99, 133, 150);\"><a href=\"/cryptopunks/traits/view/9804?trait=Facial%20Hair\" class=\"\"><img decoding=\"async\" loading=\"eager\" src=\"https://www.larvalabs.com/public/images/cryptopunks/punk9804.png\" class=\"m-auto cursor-pointer pixellate\" style=\"width: 108px; height: 108px; background-color: rgb(99, 133, 150);\"></a></div><div class=\"overflow-hidden rounded-md m-0.5\" style=\"width: 108px; height: 108px; background-color: rgb(99, 133, 150);\"><a href=\"/cryptopunks/traits/view/1119?trait=Facial%20Hair\" class=\"\"><img decoding=\"async\" loading=\"eager\" src=\"https://www.larvalabs.com/public/images/cryptopunks/punk1119.png\" class=\"m-auto cursor-pointer pixellate\" style=\"width: 108px; height: 108px; background-color: rgb(99, 133, 150);\"></a></div><div class=\"overflow-hidden rounded-md m-0.5\" style=\"width: 108px; height: 108px; background-color: rgb(99, 133, 150);\"><a href=\"/cryptopunks/traits/view/7756?trait=Facial%20Hair\" class=\"\"><img decoding=\"async\" loading=\"eager\" src=\"https://www.larvalabs.com/public/images/cryptopunks/punk7756.png\" class=\"m-auto cursor-pointer pixellate\" style=\"width: 108px; height: 108px; background-color: rgb(99, 133, 150);\"></a></div></div></td></tr><tr class=\"text-base\"><td class=\"font-bold text-pink-700\"><!----> <div class=\"cursor-pointer select-none hover:underline\">&lt;none&gt;</div></td> <td class=\"font-bold text-right\">\n",
    "            6497\n",
    "          </td> <td class=\"font-bold text-right text-green-500\">+1.54</td> <!----> <!----> <td><div class=\"flex flex-row flex-nowrap\"><div class=\"overflow-hidden rounded-md m-0.5\" style=\"width: 108px; height: 108px; background-color: rgb(99, 133, 150);\"><a href=\"/cryptopunks/traits/view/7804?trait=Facial%20Hair\" class=\"\"><img decoding=\"async\" loading=\"eager\" src=\"https://www.larvalabs.com/public/images/cryptopunks/punk7804.png\" class=\"m-auto cursor-pointer pixellate\" style=\"width: 108px; height: 108px; background-color: rgb(99, 133, 150);\"></a></div><div class=\"overflow-hidden rounded-md m-0.5\" style=\"width: 108px; height: 108px; background-color: rgb(99, 133, 150);\"><a href=\"/cryptopunks/traits/view/7523?trait=Facial%20Hair\" class=\"\"><img decoding=\"async\" loading=\"eager\" src=\"https://www.larvalabs.com/public/images/cryptopunks/punk7523.png\" class=\"m-auto cursor-pointer pixellate\" style=\"width: 108px; height: 108px; background-color: rgb(99, 133, 150);\"></a></div><div class=\"overflow-hidden rounded-md m-0.5\" style=\"width: 108px; height: 108px; background-color: rgb(99, 133, 150);\"><a href=\"/cryptopunks/traits/view/3443?trait=Facial%20Hair\" class=\"\"><img decoding=\"async\" loading=\"eager\" src=\"https://www.larvalabs.com/public/images/cryptopunks/punk3443.png\" class=\"m-auto cursor-pointer pixellate\" style=\"width: 108px; height: 108px; background-color: rgb(99, 133, 150);\"></a></div></div></td></tr></table>''')"
   ]
  },
  {
   "cell_type": "code",
   "execution_count": 70,
   "id": "2e92289d-4e73-489f-b016-f933a5f520e0",
   "metadata": {},
   "outputs": [
    {
     "data": {
      "text/plain": [
       "14"
      ]
     },
     "execution_count": 70,
     "metadata": {},
     "output_type": "execute_result"
    }
   ],
   "source": [
    "len(facial_hair.find_all('tr'))"
   ]
  },
  {
   "cell_type": "code",
   "execution_count": 72,
   "id": "b206fc0c-6292-4894-b53c-67c851ae820f",
   "metadata": {},
   "outputs": [
    {
     "data": {
      "text/plain": [
       "[['Big', '146'],\n",
       " ['Front', 'Dark', '+38.46'],\n",
       " ['Handlebars', '+38.02'],\n",
       " ['Front', '273'],\n",
       " ['Chinstrap', '+35.46'],\n",
       " ['Luxurious', '286'],\n",
       " ['Mustache', '+34.72'],\n",
       " ['Normal', 'Black', '+34.60'],\n",
       " ['Normal', '292'],\n",
       " ['Goat', '+33.90'],\n",
       " ['Muttonchops', '+33.00'],\n",
       " ['Shadow', '526'],\n",
       " ['<none>', '+1.54']]"
      ]
     },
     "execution_count": 72,
     "metadata": {},
     "output_type": "execute_result"
    }
   ],
   "source": [
    "facial_hair_list=[]\n",
    "for x in range(1,14):\n",
    "    facial_hair_list.append(facial_hair.find_all('tr')[x].text.split()[::2])\n",
    "facial_hair_list"
   ]
  },
  {
   "cell_type": "code",
   "execution_count": 75,
   "id": "d3f65746-527b-44f1-9e18-7cc9c0ac6ac2",
   "metadata": {},
   "outputs": [],
   "source": [
    "#neck_acc soup"
   ]
  },
  {
   "cell_type": "code",
   "execution_count": 74,
   "id": "c49c2a4f-597f-4180-96c5-e0008d1e8b39",
   "metadata": {},
   "outputs": [],
   "source": [
    "neck_acc = BeautifulSoup('''<table class=\"relative m-auto traitValues\"><tr><th class=\"text-left\">Value</th> <th class=\"text-right\">Count</th> <th class=\"text-right\">Rarity Score</th> <!----> <!----> <th class=\"pl-8 text-left\">Examples</th></tr> <tr class=\"text-base\"><td class=\"font-bold text-pink-700\"><!----> <div class=\"cursor-pointer select-none hover:underline\">Choker</div></td> <td class=\"font-bold text-right\">\n",
    "            48\n",
    "          </td> <td class=\"font-bold text-right text-green-500\">+208.33</td> <!----> <!----> <td><div class=\"flex flex-row flex-nowrap\"><div class=\"overflow-hidden rounded-md m-0.5\" style=\"width: 108px; height: 108px; background-color: rgb(99, 133, 150);\"><a href=\"/cryptopunks/traits/view/2202?trait=Neck%20Accessory\" class=\"\"><img decoding=\"async\" loading=\"eager\" src=\"https://www.larvalabs.com/public/images/cryptopunks/punk2202.png\" class=\"m-auto cursor-pointer pixellate\" style=\"width: 108px; height: 108px; background-color: rgb(99, 133, 150);\"></a></div><div class=\"overflow-hidden rounded-md m-0.5\" style=\"width: 108px; height: 108px; background-color: rgb(99, 133, 150);\"><a href=\"/cryptopunks/traits/view/5787?trait=Neck%20Accessory\" class=\"\"><img decoding=\"async\" loading=\"eager\" src=\"https://www.larvalabs.com/public/images/cryptopunks/punk5787.png\" class=\"m-auto cursor-pointer pixellate\" style=\"width: 108px; height: 108px; background-color: rgb(99, 133, 150);\"></a></div><div class=\"overflow-hidden rounded-md m-0.5\" style=\"width: 108px; height: 108px; background-color: rgb(99, 133, 150);\"><a href=\"/cryptopunks/traits/view/8105?trait=Neck%20Accessory\" class=\"\"><img decoding=\"async\" loading=\"eager\" src=\"https://www.larvalabs.com/public/images/cryptopunks/punk8105.png\" class=\"m-auto cursor-pointer pixellate\" style=\"width: 108px; height: 108px; background-color: rgb(99, 133, 150);\"></a></div></div></td></tr><tr class=\"text-base\"><td class=\"font-bold text-pink-700\"><!----> <div class=\"cursor-pointer select-none hover:underline\">Silver Chain</div></td> <td class=\"font-bold text-right\">\n",
    "            156\n",
    "          </td> <td class=\"font-bold text-right text-green-500\">+64.10</td> <!----> <!----> <td><div class=\"flex flex-row flex-nowrap\"><div class=\"overflow-hidden rounded-md m-0.5\" style=\"width: 108px; height: 108px; background-color: rgb(99, 133, 150);\"><a href=\"/cryptopunks/traits/view/4121?trait=Neck%20Accessory\" class=\"\"><img decoding=\"async\" loading=\"eager\" src=\"https://www.larvalabs.com/public/images/cryptopunks/punk4121.png\" class=\"m-auto cursor-pointer pixellate\" style=\"width: 108px; height: 108px; background-color: rgb(99, 133, 150);\"></a></div><div class=\"overflow-hidden rounded-md m-0.5\" style=\"width: 108px; height: 108px; background-color: rgb(99, 133, 150);\"><a href=\"/cryptopunks/traits/view/6795?trait=Neck%20Accessory\" class=\"\"><img decoding=\"async\" loading=\"eager\" src=\"https://www.larvalabs.com/public/images/cryptopunks/punk6795.png\" class=\"m-auto cursor-pointer pixellate\" style=\"width: 108px; height: 108px; background-color: rgb(99, 133, 150);\"></a></div><div class=\"overflow-hidden rounded-md m-0.5\" style=\"width: 108px; height: 108px; background-color: rgb(99, 133, 150);\"><a href=\"/cryptopunks/traits/view/9674?trait=Neck%20Accessory\" class=\"\"><img decoding=\"async\" loading=\"eager\" src=\"https://www.larvalabs.com/public/images/cryptopunks/punk9674.png\" class=\"m-auto cursor-pointer pixellate\" style=\"width: 108px; height: 108px; background-color: rgb(99, 133, 150);\"></a></div></div></td></tr><tr class=\"text-base\"><td class=\"font-bold text-pink-700\"><!----> <div class=\"cursor-pointer select-none hover:underline\">Gold Chain</div></td> <td class=\"font-bold text-right\">\n",
    "            169\n",
    "          </td> <td class=\"font-bold text-right text-green-500\">+59.17</td> <!----> <!----> <td><div class=\"flex flex-row flex-nowrap\"><div class=\"overflow-hidden rounded-md m-0.5\" style=\"width: 108px; height: 108px; background-color: rgb(99, 133, 150);\"><a href=\"/cryptopunks/traits/view/5622?trait=Neck%20Accessory\" class=\"\"><img decoding=\"async\" loading=\"eager\" src=\"https://www.larvalabs.com/public/images/cryptopunks/punk5622.png\" class=\"m-auto cursor-pointer pixellate\" style=\"width: 108px; height: 108px; background-color: rgb(99, 133, 150);\"></a></div><div class=\"overflow-hidden rounded-md m-0.5\" style=\"width: 108px; height: 108px; background-color: rgb(99, 133, 150);\"><a href=\"/cryptopunks/traits/view/8152?trait=Neck%20Accessory\" class=\"\"><img decoding=\"async\" loading=\"eager\" src=\"https://www.larvalabs.com/public/images/cryptopunks/punk8152.png\" class=\"m-auto cursor-pointer pixellate\" style=\"width: 108px; height: 108px; background-color: rgb(99, 133, 150);\"></a></div><div class=\"overflow-hidden rounded-md m-0.5\" style=\"width: 108px; height: 108px; background-color: rgb(99, 133, 150);\"><a href=\"/cryptopunks/traits/view/5217?trait=Neck%20Accessory\" class=\"\"><img decoding=\"async\" loading=\"eager\" src=\"https://www.larvalabs.com/public/images/cryptopunks/punk5217.png\" class=\"m-auto cursor-pointer pixellate\" style=\"width: 108px; height: 108px; background-color: rgb(99, 133, 150);\"></a></div></div></td></tr><tr class=\"text-base\"><td class=\"font-bold text-pink-700\"><!----> <div class=\"cursor-pointer select-none hover:underline\">&lt;none&gt;</div></td> <td class=\"font-bold text-right\">\n",
    "            9627\n",
    "          </td> <td class=\"font-bold text-right text-green-500\">+1.04</td> <!----> <!----> <td><div class=\"flex flex-row flex-nowrap\"><div class=\"overflow-hidden rounded-md m-0.5\" style=\"width: 108px; height: 108px; background-color: rgb(99, 133, 150);\"><a href=\"/cryptopunks/traits/view/8348?trait=Neck%20Accessory\" class=\"\"><img decoding=\"async\" loading=\"eager\" src=\"https://www.larvalabs.com/public/images/cryptopunks/punk8348.png\" class=\"m-auto cursor-pointer pixellate\" style=\"width: 108px; height: 108px; background-color: rgb(99, 133, 150);\"></a></div><div class=\"overflow-hidden rounded-md m-0.5\" style=\"width: 108px; height: 108px; background-color: rgb(99, 133, 150);\"><a href=\"/cryptopunks/traits/view/7804?trait=Neck%20Accessory\" class=\"\"><img decoding=\"async\" loading=\"eager\" src=\"https://www.larvalabs.com/public/images/cryptopunks/punk7804.png\" class=\"m-auto cursor-pointer pixellate\" style=\"width: 108px; height: 108px; background-color: rgb(99, 133, 150);\"></a></div><div class=\"overflow-hidden rounded-md m-0.5\" style=\"width: 108px; height: 108px; background-color: rgb(99, 133, 150);\"><a href=\"/cryptopunks/traits/view/7523?trait=Neck%20Accessory\" class=\"\"><img decoding=\"async\" loading=\"eager\" src=\"https://www.larvalabs.com/public/images/cryptopunks/punk7523.png\" class=\"m-auto cursor-pointer pixellate\" style=\"width: 108px; height: 108px; background-color: rgb(99, 133, 150);\"></a></div></div></td></tr></table>''')"
   ]
  },
  {
   "cell_type": "code",
   "execution_count": 76,
   "id": "dd9f3617-95c7-4b63-a41a-27857182dc2a",
   "metadata": {},
   "outputs": [
    {
     "data": {
      "text/plain": [
       "5"
      ]
     },
     "execution_count": 76,
     "metadata": {},
     "output_type": "execute_result"
    }
   ],
   "source": [
    "len(neck_acc.find_all('tr'))"
   ]
  },
  {
   "cell_type": "code",
   "execution_count": 77,
   "id": "3b2182df-6ee3-4855-8059-c2c1eac61f9e",
   "metadata": {},
   "outputs": [
    {
     "data": {
      "text/plain": [
       "[['Choker', '+208.33'],\n",
       " ['Silver', '156'],\n",
       " ['Gold', '169'],\n",
       " ['<none>', '+1.04']]"
      ]
     },
     "execution_count": 77,
     "metadata": {},
     "output_type": "execute_result"
    }
   ],
   "source": [
    "neck_acc_list=[]\n",
    "for x in range(1,5):\n",
    "    neck_acc_list.append(neck_acc.find_all('tr')[x].text.split()[::2])\n",
    "neck_acc_list"
   ]
  },
  {
   "cell_type": "code",
   "execution_count": 78,
   "id": "5b0a7fb5-47da-429a-bd9d-2a00f4da7dc1",
   "metadata": {},
   "outputs": [],
   "source": [
    "#mouth prop soup"
   ]
  },
  {
   "cell_type": "code",
   "execution_count": 79,
   "id": "552cdf1b-4cf4-4da2-b89e-9fa7dc74caa7",
   "metadata": {},
   "outputs": [],
   "source": [
    "mouth_prop=BeautifulSoup('''<table class=\"relative m-auto traitValues\"><tr><th class=\"text-left\">Value</th> <th class=\"text-right\">Count</th> <th class=\"text-right\">Rarity Score</th> <!----> <!----> <th class=\"pl-8 text-left\">Examples</th></tr> <tr class=\"text-base\"><td class=\"font-bold text-pink-700\"><!----> <div class=\"cursor-pointer select-none hover:underline\">Medical Mask</div></td> <td class=\"font-bold text-right\">\n",
    "            175\n",
    "          </td> <td class=\"font-bold text-right text-green-500\">+57.14</td> <!----> <!----> <td><div class=\"flex flex-row flex-nowrap\"><div class=\"overflow-hidden rounded-md m-0.5\" style=\"width: 108px; height: 108px; background-color: rgb(99, 133, 150);\"><a href=\"/cryptopunks/traits/view/7523?trait=Mouth%20Prop\" class=\"\"><img decoding=\"async\" loading=\"eager\" src=\"https://www.larvalabs.com/public/images/cryptopunks/punk7523.png\" class=\"m-auto cursor-pointer pixellate\" style=\"width: 108px; height: 108px; background-color: rgb(99, 133, 150);\"></a></div><div class=\"overflow-hidden rounded-md m-0.5\" style=\"width: 108px; height: 108px; background-color: rgb(99, 133, 150);\"><a href=\"/cryptopunks/traits/view/6153?trait=Mouth%20Prop\" class=\"\"><img decoding=\"async\" loading=\"eager\" src=\"https://www.larvalabs.com/public/images/cryptopunks/punk6153.png\" class=\"m-auto cursor-pointer pixellate\" style=\"width: 108px; height: 108px; background-color: rgb(99, 133, 150);\"></a></div><div class=\"overflow-hidden rounded-md m-0.5\" style=\"width: 108px; height: 108px; background-color: rgb(99, 133, 150);\"><a href=\"/cryptopunks/traits/view/5949?trait=Mouth%20Prop\" class=\"\"><img decoding=\"async\" loading=\"eager\" src=\"https://www.larvalabs.com/public/images/cryptopunks/punk5949.png\" class=\"m-auto cursor-pointer pixellate\" style=\"width: 108px; height: 108px; background-color: rgb(99, 133, 150);\"></a></div></div></td></tr><tr class=\"text-base\"><td class=\"font-bold text-pink-700\"><!----> <div class=\"cursor-pointer select-none hover:underline\">Vape</div></td> <td class=\"font-bold text-right\">\n",
    "            272\n",
    "          </td> <td class=\"font-bold text-right text-green-500\">+36.76</td> <!----> <!----> <td><div class=\"flex flex-row flex-nowrap\"><div class=\"overflow-hidden rounded-md m-0.5\" style=\"width: 108px; height: 108px; background-color: rgb(99, 133, 150);\"><a href=\"/cryptopunks/traits/view/4464?trait=Mouth%20Prop\" class=\"\"><img decoding=\"async\" loading=\"eager\" src=\"https://www.larvalabs.com/public/images/cryptopunks/punk4464.png\" class=\"m-auto cursor-pointer pixellate\" style=\"width: 108px; height: 108px; background-color: rgb(99, 133, 150);\"></a></div><div class=\"overflow-hidden rounded-md m-0.5\" style=\"width: 108px; height: 108px; background-color: rgb(99, 133, 150);\"><a href=\"/cryptopunks/traits/view/7602?trait=Mouth%20Prop\" class=\"\"><img decoding=\"async\" loading=\"eager\" src=\"https://www.larvalabs.com/public/images/cryptopunks/punk7602.png\" class=\"m-auto cursor-pointer pixellate\" style=\"width: 108px; height: 108px; background-color: rgb(99, 133, 150);\"></a></div><div class=\"overflow-hidden rounded-md m-0.5\" style=\"width: 108px; height: 108px; background-color: rgb(99, 133, 150);\"><a href=\"/cryptopunks/traits/view/5721?trait=Mouth%20Prop\" class=\"\"><img decoding=\"async\" loading=\"eager\" src=\"https://www.larvalabs.com/public/images/cryptopunks/punk5721.png\" class=\"m-auto cursor-pointer pixellate\" style=\"width: 108px; height: 108px; background-color: rgb(99, 133, 150);\"></a></div></div></td></tr><tr class=\"text-base\"><td class=\"font-bold text-pink-700\"><!----> <div class=\"cursor-pointer select-none hover:underline\">Pipe</div></td> <td class=\"font-bold text-right\">\n",
    "            317\n",
    "          </td> <td class=\"font-bold text-right text-green-500\">+31.55</td> <!----> <!----> <td><div class=\"flex flex-row flex-nowrap\"><div class=\"overflow-hidden rounded-md m-0.5\" style=\"width: 108px; height: 108px; background-color: rgb(99, 133, 150);\"><a href=\"/cryptopunks/traits/view/7804?trait=Mouth%20Prop\" class=\"\"><img decoding=\"async\" loading=\"eager\" src=\"https://www.larvalabs.com/public/images/cryptopunks/punk7804.png\" class=\"m-auto cursor-pointer pixellate\" style=\"width: 108px; height: 108px; background-color: rgb(99, 133, 150);\"></a></div><div class=\"overflow-hidden rounded-md m-0.5\" style=\"width: 108px; height: 108px; background-color: rgb(99, 133, 150);\"><a href=\"/cryptopunks/traits/view/5622?trait=Mouth%20Prop\" class=\"\"><img decoding=\"async\" loading=\"eager\" src=\"https://www.larvalabs.com/public/images/cryptopunks/punk5622.png\" class=\"m-auto cursor-pointer pixellate\" style=\"width: 108px; height: 108px; background-color: rgb(99, 133, 150);\"></a></div><div class=\"overflow-hidden rounded-md m-0.5\" style=\"width: 108px; height: 108px; background-color: rgb(99, 133, 150);\"><a href=\"/cryptopunks/traits/view/3011?trait=Mouth%20Prop\" class=\"\"><img decoding=\"async\" loading=\"eager\" src=\"https://www.larvalabs.com/public/images/cryptopunks/punk3011.png\" class=\"m-auto cursor-pointer pixellate\" style=\"width: 108px; height: 108px; background-color: rgb(99, 133, 150);\"></a></div></div></td></tr><tr class=\"text-base\"><td class=\"font-bold text-pink-700\"><!----> <div class=\"cursor-pointer select-none hover:underline\">Cigarette</div></td> <td class=\"font-bold text-right\">\n",
    "            961\n",
    "          </td> <td class=\"font-bold text-right text-green-500\">+10.41</td> <!----> <!----> <td><div class=\"flex flex-row flex-nowrap\"><div class=\"overflow-hidden rounded-md m-0.5\" style=\"width: 108px; height: 108px; background-color: rgb(99, 133, 150);\"><a href=\"/cryptopunks/traits/view/8348?trait=Mouth%20Prop\" class=\"\"><img decoding=\"async\" loading=\"eager\" src=\"https://www.larvalabs.com/public/images/cryptopunks/punk8348.png\" class=\"m-auto cursor-pointer pixellate\" style=\"width: 108px; height: 108px; background-color: rgb(99, 133, 150);\"></a></div><div class=\"overflow-hidden rounded-md m-0.5\" style=\"width: 108px; height: 108px; background-color: rgb(99, 133, 150);\"><a href=\"/cryptopunks/traits/view/4121?trait=Mouth%20Prop\" class=\"\"><img decoding=\"async\" loading=\"eager\" src=\"https://www.larvalabs.com/public/images/cryptopunks/punk4121.png\" class=\"m-auto cursor-pointer pixellate\" style=\"width: 108px; height: 108px; background-color: rgb(99, 133, 150);\"></a></div><div class=\"overflow-hidden rounded-md m-0.5\" style=\"width: 108px; height: 108px; background-color: rgb(99, 133, 150);\"><a href=\"/cryptopunks/traits/view/7920?trait=Mouth%20Prop\" class=\"\"><img decoding=\"async\" loading=\"eager\" src=\"https://www.larvalabs.com/public/images/cryptopunks/punk7920.png\" class=\"m-auto cursor-pointer pixellate\" style=\"width: 108px; height: 108px; background-color: rgb(99, 133, 150);\"></a></div></div></td></tr><tr class=\"text-base\"><td class=\"font-bold text-pink-700\"><!----> <div class=\"cursor-pointer select-none hover:underline\">&lt;none&gt;</div></td> <td class=\"font-bold text-right\">\n",
    "            8275\n",
    "          </td> <td class=\"font-bold text-right text-green-500\">+1.21</td> <!----> <!----> <td><div class=\"flex flex-row flex-nowrap\"><div class=\"overflow-hidden rounded-md m-0.5\" style=\"width: 108px; height: 108px; background-color: rgb(99, 133, 150);\"><a href=\"/cryptopunks/traits/view/3443?trait=Mouth%20Prop\" class=\"\"><img decoding=\"async\" loading=\"eager\" src=\"https://www.larvalabs.com/public/images/cryptopunks/punk3443.png\" class=\"m-auto cursor-pointer pixellate\" style=\"width: 108px; height: 108px; background-color: rgb(99, 133, 150);\"></a></div><div class=\"overflow-hidden rounded-md m-0.5\" style=\"width: 108px; height: 108px; background-color: rgb(99, 133, 150);\"><a href=\"/cryptopunks/traits/view/5905?trait=Mouth%20Prop\" class=\"\"><img decoding=\"async\" loading=\"eager\" src=\"https://www.larvalabs.com/public/images/cryptopunks/punk5905.png\" class=\"m-auto cursor-pointer pixellate\" style=\"width: 108px; height: 108px; background-color: rgb(99, 133, 150);\"></a></div><div class=\"overflow-hidden rounded-md m-0.5\" style=\"width: 108px; height: 108px; background-color: rgb(99, 133, 150);\"><a href=\"/cryptopunks/traits/view/2890?trait=Mouth%20Prop\" class=\"\"><img decoding=\"async\" loading=\"eager\" src=\"https://www.larvalabs.com/public/images/cryptopunks/punk2890.png\" class=\"m-auto cursor-pointer pixellate\" style=\"width: 108px; height: 108px; background-color: rgb(99, 133, 150);\"></a></div></div></td></tr></table>''')"
   ]
  },
  {
   "cell_type": "code",
   "execution_count": 81,
   "id": "347e050d-bc42-4ace-aaaf-041e498567be",
   "metadata": {},
   "outputs": [
    {
     "data": {
      "text/plain": [
       "6"
      ]
     },
     "execution_count": 81,
     "metadata": {},
     "output_type": "execute_result"
    }
   ],
   "source": [
    "len(mouth_prop.find_all('tr'))"
   ]
  },
  {
   "cell_type": "code",
   "execution_count": 82,
   "id": "c9ec36f9-87c2-4f04-af34-1e467f00745a",
   "metadata": {},
   "outputs": [
    {
     "data": {
      "text/plain": [
       "[['Medical', '175'],\n",
       " ['Vape', '+36.76'],\n",
       " ['Pipe', '+31.55'],\n",
       " ['Cigarette', '+10.41'],\n",
       " ['<none>', '+1.21']]"
      ]
     },
     "execution_count": 82,
     "metadata": {},
     "output_type": "execute_result"
    }
   ],
   "source": [
    "mouth_prop_list=[]\n",
    "for x in range(1,6):\n",
    "    mouth_prop_list.append(mouth_prop.find_all('tr')[x].text.split()[::2])\n",
    "mouth_prop_list"
   ]
  },
  {
   "cell_type": "code",
   "execution_count": 83,
   "id": "408aea9e-c95d-4e0c-816f-d5a95c0a9a50",
   "metadata": {},
   "outputs": [],
   "source": [
    "#mouth soup"
   ]
  },
  {
   "cell_type": "code",
   "execution_count": 84,
   "id": "ab206208-fd9e-47f3-a7fd-031325cc28bc",
   "metadata": {},
   "outputs": [],
   "source": [
    "mouth = BeautifulSoup('''<table class=\"relative m-auto traitValues\"><tr><th class=\"text-left\">Value</th> <th class=\"text-right\">Count</th> <th class=\"text-right\">Rarity Score</th> <!----> <!----> <th class=\"pl-8 text-left\">Examples</th></tr> <tr class=\"text-base\"><td class=\"font-bold text-pink-700\"><!----> <div class=\"cursor-pointer select-none hover:underline\">Buck Teeth</div></td> <td class=\"font-bold text-right\">\n",
    "            78\n",
    "          </td> <td class=\"font-bold text-right text-green-500\">+128.21</td> <!----> <!----> <td><div class=\"flex flex-row flex-nowrap\"><div class=\"overflow-hidden rounded-md m-0.5\" style=\"width: 108px; height: 108px; background-color: rgb(99, 133, 150);\"><a href=\"/cryptopunks/traits/view/8348?trait=Mouth\" class=\"\"><img decoding=\"async\" loading=\"eager\" src=\"https://www.larvalabs.com/public/images/cryptopunks/punk8348.png\" class=\"m-auto cursor-pointer pixellate\" style=\"width: 108px; height: 108px; background-color: rgb(99, 133, 150);\"></a></div><div class=\"overflow-hidden rounded-md m-0.5\" style=\"width: 108px; height: 108px; background-color: rgb(99, 133, 150);\"><a href=\"/cryptopunks/traits/view/6466?trait=Mouth\" class=\"\"><img decoding=\"async\" loading=\"eager\" src=\"https://www.larvalabs.com/public/images/cryptopunks/punk6466.png\" class=\"m-auto cursor-pointer pixellate\" style=\"width: 108px; height: 108px; background-color: rgb(99, 133, 150);\"></a></div><div class=\"overflow-hidden rounded-md m-0.5\" style=\"width: 108px; height: 108px; background-color: rgb(99, 133, 150);\"><a href=\"/cryptopunks/traits/view/3943?trait=Mouth\" class=\"\"><img decoding=\"async\" loading=\"eager\" src=\"https://www.larvalabs.com/public/images/cryptopunks/punk3943.png\" class=\"m-auto cursor-pointer pixellate\" style=\"width: 108px; height: 108px; background-color: rgb(99, 133, 150);\"></a></div></div></td></tr><tr class=\"text-base\"><td class=\"font-bold text-pink-700\"><!----> <div class=\"cursor-pointer select-none hover:underline\">Smile</div></td> <td class=\"font-bold text-right\">\n",
    "            238\n",
    "          </td> <td class=\"font-bold text-right text-green-500\">+42.02</td> <!----> <!----> <td><div class=\"flex flex-row flex-nowrap\"><div class=\"overflow-hidden rounded-md m-0.5\" style=\"width: 108px; height: 108px; background-color: rgb(99, 133, 150);\"><a href=\"/cryptopunks/traits/view/8152?trait=Mouth\" class=\"\"><img decoding=\"async\" loading=\"eager\" src=\"https://www.larvalabs.com/public/images/cryptopunks/punk8152.png\" class=\"m-auto cursor-pointer pixellate\" style=\"width: 108px; height: 108px; background-color: rgb(99, 133, 150);\"></a></div><div class=\"overflow-hidden rounded-md m-0.5\" style=\"width: 108px; height: 108px; background-color: rgb(99, 133, 150);\"><a href=\"/cryptopunks/traits/view/1839?trait=Mouth\" class=\"\"><img decoding=\"async\" loading=\"eager\" src=\"https://www.larvalabs.com/public/images/cryptopunks/punk1839.png\" class=\"m-auto cursor-pointer pixellate\" style=\"width: 108px; height: 108px; background-color: rgb(99, 133, 150);\"></a></div><div class=\"overflow-hidden rounded-md m-0.5\" style=\"width: 108px; height: 108px; background-color: rgb(99, 133, 150);\"><a href=\"/cryptopunks/traits/view/9804?trait=Mouth\" class=\"\"><img decoding=\"async\" loading=\"eager\" src=\"https://www.larvalabs.com/public/images/cryptopunks/punk9804.png\" class=\"m-auto cursor-pointer pixellate\" style=\"width: 108px; height: 108px; background-color: rgb(99, 133, 150);\"></a></div></div></td></tr><tr class=\"text-base\"><td class=\"font-bold text-pink-700\"><!----> <div class=\"cursor-pointer select-none hover:underline\">Frown</div></td> <td class=\"font-bold text-right\">\n",
    "            261\n",
    "          </td> <td class=\"font-bold text-right text-green-500\">+38.31</td> <!----> <!----> <td><div class=\"flex flex-row flex-nowrap\"><div class=\"overflow-hidden rounded-md m-0.5\" style=\"width: 108px; height: 108px; background-color: rgb(99, 133, 150);\"><a href=\"/cryptopunks/traits/view/3011?trait=Mouth\" class=\"\"><img decoding=\"async\" loading=\"eager\" src=\"https://www.larvalabs.com/public/images/cryptopunks/punk3011.png\" class=\"m-auto cursor-pointer pixellate\" style=\"width: 108px; height: 108px; background-color: rgb(99, 133, 150);\"></a></div><div class=\"overflow-hidden rounded-md m-0.5\" style=\"width: 108px; height: 108px; background-color: rgb(99, 133, 150);\"><a href=\"/cryptopunks/traits/view/1748?trait=Mouth\" class=\"\"><img decoding=\"async\" loading=\"eager\" src=\"https://www.larvalabs.com/public/images/cryptopunks/punk1748.png\" class=\"m-auto cursor-pointer pixellate\" style=\"width: 108px; height: 108px; background-color: rgb(99, 133, 150);\"></a></div><div class=\"overflow-hidden rounded-md m-0.5\" style=\"width: 108px; height: 108px; background-color: rgb(99, 133, 150);\"><a href=\"/cryptopunks/traits/view/8840?trait=Mouth\" class=\"\"><img decoding=\"async\" loading=\"eager\" src=\"https://www.larvalabs.com/public/images/cryptopunks/punk8840.png\" class=\"m-auto cursor-pointer pixellate\" style=\"width: 108px; height: 108px; background-color: rgb(99, 133, 150);\"></a></div></div></td></tr><tr class=\"text-base\"><td class=\"font-bold text-pink-700\"><!----> <div class=\"cursor-pointer select-none hover:underline\">Black Lipstick</div></td> <td class=\"font-bold text-right\">\n",
    "            617\n",
    "          </td> <td class=\"font-bold text-right text-green-500\">+16.21</td> <!----> <!----> <td><div class=\"flex flex-row flex-nowrap\"><div class=\"overflow-hidden rounded-md m-0.5\" style=\"width: 108px; height: 108px; background-color: rgb(99, 133, 150);\"><a href=\"/cryptopunks/traits/view/755?trait=Mouth\" class=\"\"><img decoding=\"async\" loading=\"eager\" src=\"https://www.larvalabs.com/public/images/cryptopunks/punk0755.png\" class=\"m-auto cursor-pointer pixellate\" style=\"width: 108px; height: 108px; background-color: rgb(99, 133, 150);\"></a></div><div class=\"overflow-hidden rounded-md m-0.5\" style=\"width: 108px; height: 108px; background-color: rgb(99, 133, 150);\"><a href=\"/cryptopunks/traits/view/7971?trait=Mouth\" class=\"\"><img decoding=\"async\" loading=\"eager\" src=\"https://www.larvalabs.com/public/images/cryptopunks/punk7971.png\" class=\"m-auto cursor-pointer pixellate\" style=\"width: 108px; height: 108px; background-color: rgb(99, 133, 150);\"></a></div><div class=\"overflow-hidden rounded-md m-0.5\" style=\"width: 108px; height: 108px; background-color: rgb(99, 133, 150);\"><a href=\"/cryptopunks/traits/view/5787?trait=Mouth\" class=\"\"><img decoding=\"async\" loading=\"eager\" src=\"https://www.larvalabs.com/public/images/cryptopunks/punk5787.png\" class=\"m-auto cursor-pointer pixellate\" style=\"width: 108px; height: 108px; background-color: rgb(99, 133, 150);\"></a></div></div></td></tr><tr class=\"text-base\"><td class=\"font-bold text-pink-700\"><!----> <div class=\"cursor-pointer select-none hover:underline\">Purple Lipstick</div></td> <td class=\"font-bold text-right\">\n",
    "            655\n",
    "          </td> <td class=\"font-bold text-right text-green-500\">+15.27</td> <!----> <!----> <td><div class=\"flex flex-row flex-nowrap\"><div class=\"overflow-hidden rounded-md m-0.5\" style=\"width: 108px; height: 108px; background-color: rgb(99, 133, 150);\"><a href=\"/cryptopunks/traits/view/5949?trait=Mouth\" class=\"\"><img decoding=\"async\" loading=\"eager\" src=\"https://www.larvalabs.com/public/images/cryptopunks/punk5949.png\" class=\"m-auto cursor-pointer pixellate\" style=\"width: 108px; height: 108px; background-color: rgb(99, 133, 150);\"></a></div><div class=\"overflow-hidden rounded-md m-0.5\" style=\"width: 108px; height: 108px; background-color: rgb(99, 133, 150);\"><a href=\"/cryptopunks/traits/view/8063?trait=Mouth\" class=\"\"><img decoding=\"async\" loading=\"eager\" src=\"https://www.larvalabs.com/public/images/cryptopunks/punk8063.png\" class=\"m-auto cursor-pointer pixellate\" style=\"width: 108px; height: 108px; background-color: rgb(99, 133, 150);\"></a></div><div class=\"overflow-hidden rounded-md m-0.5\" style=\"width: 108px; height: 108px; background-color: rgb(99, 133, 150);\"><a href=\"/cryptopunks/traits/view/3707?trait=Mouth\" class=\"\"><img decoding=\"async\" loading=\"eager\" src=\"https://www.larvalabs.com/public/images/cryptopunks/punk3707.png\" class=\"m-auto cursor-pointer pixellate\" style=\"width: 108px; height: 108px; background-color: rgb(99, 133, 150);\"></a></div></div></td></tr><tr class=\"text-base\"><td class=\"font-bold text-pink-700\"><!----> <div class=\"cursor-pointer select-none hover:underline\">Hot Lipstick</div></td> <td class=\"font-bold text-right\">\n",
    "            696\n",
    "          </td> <td class=\"font-bold text-right text-green-500\">+14.37</td> <!----> <!----> <td><div class=\"flex flex-row flex-nowrap\"><div class=\"overflow-hidden rounded-md m-0.5\" style=\"width: 108px; height: 108px; background-color: rgb(99, 133, 150);\"><a href=\"/cryptopunks/traits/view/2202?trait=Mouth\" class=\"\"><img decoding=\"async\" loading=\"eager\" src=\"https://www.larvalabs.com/public/images/cryptopunks/punk2202.png\" class=\"m-auto cursor-pointer pixellate\" style=\"width: 108px; height: 108px; background-color: rgb(99, 133, 150);\"></a></div><div class=\"overflow-hidden rounded-md m-0.5\" style=\"width: 108px; height: 108px; background-color: rgb(99, 133, 150);\"><a href=\"/cryptopunks/traits/view/7920?trait=Mouth\" class=\"\"><img decoding=\"async\" loading=\"eager\" src=\"https://www.larvalabs.com/public/images/cryptopunks/punk7920.png\" class=\"m-auto cursor-pointer pixellate\" style=\"width: 108px; height: 108px; background-color: rgb(99, 133, 150);\"></a></div><div class=\"overflow-hidden rounded-md m-0.5\" style=\"width: 108px; height: 108px; background-color: rgb(99, 133, 150);\"><a href=\"/cryptopunks/traits/view/5622?trait=Mouth\" class=\"\"><img decoding=\"async\" loading=\"eager\" src=\"https://www.larvalabs.com/public/images/cryptopunks/punk5622.png\" class=\"m-auto cursor-pointer pixellate\" style=\"width: 108px; height: 108px; background-color: rgb(99, 133, 150);\"></a></div></div></td></tr><tr class=\"text-base\"><td class=\"font-bold text-pink-700\"><!----> <div class=\"cursor-pointer select-none hover:underline\">&lt;none&gt;</div></td> <td class=\"font-bold text-right\">\n",
    "            7455\n",
    "          </td> <td class=\"font-bold text-right text-green-500\">+1.34</td> <!----> <!----> <td><div class=\"flex flex-row flex-nowrap\"><div class=\"overflow-hidden rounded-md m-0.5\" style=\"width: 108px; height: 108px; background-color: rgb(99, 133, 150);\"><a href=\"/cryptopunks/traits/view/7804?trait=Mouth\" class=\"\"><img decoding=\"async\" loading=\"eager\" src=\"https://www.larvalabs.com/public/images/cryptopunks/punk7804.png\" class=\"m-auto cursor-pointer pixellate\" style=\"width: 108px; height: 108px; background-color: rgb(99, 133, 150);\"></a></div><div class=\"overflow-hidden rounded-md m-0.5\" style=\"width: 108px; height: 108px; background-color: rgb(99, 133, 150);\"><a href=\"/cryptopunks/traits/view/7523?trait=Mouth\" class=\"\"><img decoding=\"async\" loading=\"eager\" src=\"https://www.larvalabs.com/public/images/cryptopunks/punk7523.png\" class=\"m-auto cursor-pointer pixellate\" style=\"width: 108px; height: 108px; background-color: rgb(99, 133, 150);\"></a></div><div class=\"overflow-hidden rounded-md m-0.5\" style=\"width: 108px; height: 108px; background-color: rgb(99, 133, 150);\"><a href=\"/cryptopunks/traits/view/3443?trait=Mouth\" class=\"\"><img decoding=\"async\" loading=\"eager\" src=\"https://www.larvalabs.com/public/images/cryptopunks/punk3443.png\" class=\"m-auto cursor-pointer pixellate\" style=\"width: 108px; height: 108px; background-color: rgb(99, 133, 150);\"></a></div></div></td></tr></table>''')"
   ]
  },
  {
   "cell_type": "code",
   "execution_count": 85,
   "id": "128073a3-806b-43d3-9ae7-288b68e0aa09",
   "metadata": {},
   "outputs": [
    {
     "data": {
      "text/plain": [
       "8"
      ]
     },
     "execution_count": 85,
     "metadata": {},
     "output_type": "execute_result"
    }
   ],
   "source": [
    "len(mouth.find_all('tr'))"
   ]
  },
  {
   "cell_type": "code",
   "execution_count": 86,
   "id": "ab313a13-8a47-46a7-a14a-2abd40db0ac8",
   "metadata": {},
   "outputs": [
    {
     "data": {
      "text/plain": [
       "[['Buck', '78'],\n",
       " ['Smile', '+42.02'],\n",
       " ['Frown', '+38.31'],\n",
       " ['Black', '617'],\n",
       " ['Purple', '655'],\n",
       " ['Hot', '696'],\n",
       " ['<none>', '+1.34']]"
      ]
     },
     "execution_count": 86,
     "metadata": {},
     "output_type": "execute_result"
    }
   ],
   "source": [
    "mouth_list=[]\n",
    "for x in range(1,8):\n",
    "    mouth_list.append(mouth.find_all('tr')[x].text.split()[::2])\n",
    "mouth_list"
   ]
  },
  {
   "cell_type": "code",
   "execution_count": 87,
   "id": "fcfe85a8-bf6a-491e-83cd-5c471d5ff160",
   "metadata": {},
   "outputs": [],
   "source": [
    "#blemishes soup"
   ]
  },
  {
   "cell_type": "code",
   "execution_count": 88,
   "id": "03802d88-aa75-4c4e-9fd9-14fd25c5d2c8",
   "metadata": {},
   "outputs": [],
   "source": [
    "blemishes=BeautifulSoup('''<table class=\"relative m-auto traitValues\"><tr><th class=\"text-left\">Value</th> <th class=\"text-right\">Count</th> <th class=\"text-right\">Rarity Score</th> <!----> <!----> <th class=\"pl-8 text-left\">Examples</th></tr> <tr class=\"text-base\"><td class=\"font-bold text-pink-700\"><!----> <div class=\"cursor-pointer select-none hover:underline\">Spots</div></td> <td class=\"font-bold text-right\">\n",
    "            124\n",
    "          </td> <td class=\"font-bold text-right text-green-500\">+80.65</td> <!----> <!----> <td><div class=\"flex flex-row flex-nowrap\"><div class=\"overflow-hidden rounded-md m-0.5\" style=\"width: 108px; height: 108px; background-color: rgb(99, 133, 150);\"><a href=\"/cryptopunks/traits/view/4121?trait=Blemishes\" class=\"\"><img decoding=\"async\" loading=\"eager\" src=\"https://www.larvalabs.com/public/images/cryptopunks/punk4121.png\" class=\"m-auto cursor-pointer pixellate\" style=\"width: 108px; height: 108px; background-color: rgb(99, 133, 150);\"></a></div><div class=\"overflow-hidden rounded-md m-0.5\" style=\"width: 108px; height: 108px; background-color: rgb(99, 133, 150);\"><a href=\"/cryptopunks/traits/view/6794?trait=Blemishes\" class=\"\"><img decoding=\"async\" loading=\"eager\" src=\"https://www.larvalabs.com/public/images/cryptopunks/punk6794.png\" class=\"m-auto cursor-pointer pixellate\" style=\"width: 108px; height: 108px; background-color: rgb(99, 133, 150);\"></a></div><div class=\"overflow-hidden rounded-md m-0.5\" style=\"width: 108px; height: 108px; background-color: rgb(99, 133, 150);\"><a href=\"/cryptopunks/traits/view/3943?trait=Blemishes\" class=\"\"><img decoding=\"async\" loading=\"eager\" src=\"https://www.larvalabs.com/public/images/cryptopunks/punk3943.png\" class=\"m-auto cursor-pointer pixellate\" style=\"width: 108px; height: 108px; background-color: rgb(99, 133, 150);\"></a></div></div></td></tr><tr class=\"text-base\"><td class=\"font-bold text-pink-700\"><!----> <div class=\"cursor-pointer select-none hover:underline\">Rosy Cheeks</div></td> <td class=\"font-bold text-right\">\n",
    "            128\n",
    "          </td> <td class=\"font-bold text-right text-green-500\">+78.13</td> <!----> <!----> <td><div class=\"flex flex-row flex-nowrap\"><div class=\"overflow-hidden rounded-md m-0.5\" style=\"width: 108px; height: 108px; background-color: rgb(99, 133, 150);\"><a href=\"/cryptopunks/traits/view/7920?trait=Blemishes\" class=\"\"><img decoding=\"async\" loading=\"eager\" src=\"https://www.larvalabs.com/public/images/cryptopunks/punk7920.png\" class=\"m-auto cursor-pointer pixellate\" style=\"width: 108px; height: 108px; background-color: rgb(99, 133, 150);\"></a></div><div class=\"overflow-hidden rounded-md m-0.5\" style=\"width: 108px; height: 108px; background-color: rgb(99, 133, 150);\"><a href=\"/cryptopunks/traits/view/8105?trait=Blemishes\" class=\"\"><img decoding=\"async\" loading=\"eager\" src=\"https://www.larvalabs.com/public/images/cryptopunks/punk8105.png\" class=\"m-auto cursor-pointer pixellate\" style=\"width: 108px; height: 108px; background-color: rgb(99, 133, 150);\"></a></div><div class=\"overflow-hidden rounded-md m-0.5\" style=\"width: 108px; height: 108px; background-color: rgb(99, 133, 150);\"><a href=\"/cryptopunks/traits/view/6704?trait=Blemishes\" class=\"\"><img decoding=\"async\" loading=\"eager\" src=\"https://www.larvalabs.com/public/images/cryptopunks/punk6704.png\" class=\"m-auto cursor-pointer pixellate\" style=\"width: 108px; height: 108px; background-color: rgb(99, 133, 150);\"></a></div></div></td></tr><tr class=\"text-base\"><td class=\"font-bold text-pink-700\"><!----> <div class=\"cursor-pointer select-none hover:underline\">Mole</div></td> <td class=\"font-bold text-right\">\n",
    "            644\n",
    "          </td> <td class=\"font-bold text-right text-green-500\">+15.53</td> <!----> <!----> <td><div class=\"flex flex-row flex-nowrap\"><div class=\"overflow-hidden rounded-md m-0.5\" style=\"width: 108px; height: 108px; background-color: rgb(99, 133, 150);\"><a href=\"/cryptopunks/traits/view/8348?trait=Blemishes\" class=\"\"><img decoding=\"async\" loading=\"eager\" src=\"https://www.larvalabs.com/public/images/cryptopunks/punk8348.png\" class=\"m-auto cursor-pointer pixellate\" style=\"width: 108px; height: 108px; background-color: rgb(99, 133, 150);\"></a></div><div class=\"overflow-hidden rounded-md m-0.5\" style=\"width: 108px; height: 108px; background-color: rgb(99, 133, 150);\"><a href=\"/cryptopunks/traits/view/2202?trait=Blemishes\" class=\"\"><img decoding=\"async\" loading=\"eager\" src=\"https://www.larvalabs.com/public/images/cryptopunks/punk2202.png\" class=\"m-auto cursor-pointer pixellate\" style=\"width: 108px; height: 108px; background-color: rgb(99, 133, 150);\"></a></div><div class=\"overflow-hidden rounded-md m-0.5\" style=\"width: 108px; height: 108px; background-color: rgb(99, 133, 150);\"><a href=\"/cryptopunks/traits/view/5949?trait=Blemishes\" class=\"\"><img decoding=\"async\" loading=\"eager\" src=\"https://www.larvalabs.com/public/images/cryptopunks/punk5949.png\" class=\"m-auto cursor-pointer pixellate\" style=\"width: 108px; height: 108px; background-color: rgb(99, 133, 150);\"></a></div></div></td></tr><tr class=\"text-base\"><td class=\"font-bold text-pink-700\"><!----> <div class=\"cursor-pointer select-none hover:underline\">&lt;none&gt;</div></td> <td class=\"font-bold text-right\">\n",
    "            9104\n",
    "          </td> <td class=\"font-bold text-right text-green-500\">+1.10</td> <!----> <!----> <td><div class=\"flex flex-row flex-nowrap\"><div class=\"overflow-hidden rounded-md m-0.5\" style=\"width: 108px; height: 108px; background-color: rgb(99, 133, 150);\"><a href=\"/cryptopunks/traits/view/7804?trait=Blemishes\" class=\"\"><img decoding=\"async\" loading=\"eager\" src=\"https://www.larvalabs.com/public/images/cryptopunks/punk7804.png\" class=\"m-auto cursor-pointer pixellate\" style=\"width: 108px; height: 108px; background-color: rgb(99, 133, 150);\"></a></div><div class=\"overflow-hidden rounded-md m-0.5\" style=\"width: 108px; height: 108px; background-color: rgb(99, 133, 150);\"><a href=\"/cryptopunks/traits/view/7523?trait=Blemishes\" class=\"\"><img decoding=\"async\" loading=\"eager\" src=\"https://www.larvalabs.com/public/images/cryptopunks/punk7523.png\" class=\"m-auto cursor-pointer pixellate\" style=\"width: 108px; height: 108px; background-color: rgb(99, 133, 150);\"></a></div><div class=\"overflow-hidden rounded-md m-0.5\" style=\"width: 108px; height: 108px; background-color: rgb(99, 133, 150);\"><a href=\"/cryptopunks/traits/view/3443?trait=Blemishes\" class=\"\"><img decoding=\"async\" loading=\"eager\" src=\"https://www.larvalabs.com/public/images/cryptopunks/punk3443.png\" class=\"m-auto cursor-pointer pixellate\" style=\"width: 108px; height: 108px; background-color: rgb(99, 133, 150);\"></a></div></div></td></tr></table>''')"
   ]
  },
  {
   "cell_type": "code",
   "execution_count": 90,
   "id": "750d8596-878b-40d5-ad02-7401a7e3ef57",
   "metadata": {},
   "outputs": [
    {
     "data": {
      "text/plain": [
       "5"
      ]
     },
     "execution_count": 90,
     "metadata": {},
     "output_type": "execute_result"
    }
   ],
   "source": [
    "len(blemishes.find_all('tr'))"
   ]
  },
  {
   "cell_type": "code",
   "execution_count": 91,
   "id": "fd8299d7-b762-4b04-896e-c0e1bfcffdf3",
   "metadata": {},
   "outputs": [
    {
     "data": {
      "text/plain": [
       "[['Spots', '+80.65'], ['Rosy', '128'], ['Mole', '+15.53'], ['<none>', '+1.10']]"
      ]
     },
     "execution_count": 91,
     "metadata": {},
     "output_type": "execute_result"
    }
   ],
   "source": [
    "blemishes_list=[]\n",
    "for x in range(1,5):\n",
    "    blemishes_list.append(blemishes.find_all('tr')[x].text.split()[::2])\n",
    "blemishes_list"
   ]
  },
  {
   "cell_type": "code",
   "execution_count": 92,
   "id": "2aa4cbd7-313c-4d45-96e5-ca67d7488978",
   "metadata": {},
   "outputs": [],
   "source": [
    "#ears soup"
   ]
  },
  {
   "cell_type": "code",
   "execution_count": 93,
   "id": "1e7baa4f-d79e-4267-b38f-231c6df70d93",
   "metadata": {},
   "outputs": [],
   "source": [
    "ears=BeautifulSoup('''<table class=\"relative m-auto traitValues\"><tr><th class=\"text-left\">Value</th> <th class=\"text-right\">Count</th> <th class=\"text-right\">Rarity Score</th> <!----> <!----> <th class=\"pl-8 text-left\">Examples</th></tr> <tr class=\"text-base\"><td class=\"font-bold text-pink-700\"><!----> <div class=\"cursor-pointer select-none hover:underline\">Earring</div></td> <td class=\"font-bold text-right\">\n",
    "            2459\n",
    "          </td> <td class=\"font-bold text-right text-green-500\">+4.07</td> <!----> <!----> <td><div class=\"flex flex-row flex-nowrap\"><div class=\"overflow-hidden rounded-md m-0.5\" style=\"width: 108px; height: 108px; background-color: rgb(99, 133, 150);\"><a href=\"/cryptopunks/traits/view/8348?trait=Ears\" class=\"\"><img decoding=\"async\" loading=\"eager\" src=\"https://www.larvalabs.com/public/images/cryptopunks/punk8348.png\" class=\"m-auto cursor-pointer pixellate\" style=\"width: 108px; height: 108px; background-color: rgb(99, 133, 150);\"></a></div><div class=\"overflow-hidden rounded-md m-0.5\" style=\"width: 108px; height: 108px; background-color: rgb(99, 133, 150);\"><a href=\"/cryptopunks/traits/view/7523?trait=Ears\" class=\"\"><img decoding=\"async\" loading=\"eager\" src=\"https://www.larvalabs.com/public/images/cryptopunks/punk7523.png\" class=\"m-auto cursor-pointer pixellate\" style=\"width: 108px; height: 108px; background-color: rgb(99, 133, 150);\"></a></div><div class=\"overflow-hidden rounded-md m-0.5\" style=\"width: 108px; height: 108px; background-color: rgb(99, 133, 150);\"><a href=\"/cryptopunks/traits/view/3443?trait=Ears\" class=\"\"><img decoding=\"async\" loading=\"eager\" src=\"https://www.larvalabs.com/public/images/cryptopunks/punk3443.png\" class=\"m-auto cursor-pointer pixellate\" style=\"width: 108px; height: 108px; background-color: rgb(99, 133, 150);\"></a></div></div></td></tr><tr class=\"text-base\"><td class=\"font-bold text-pink-700\"><!----> <div class=\"cursor-pointer select-none hover:underline\">&lt;none&gt;</div></td> <td class=\"font-bold text-right\">\n",
    "            7541\n",
    "          </td> <td class=\"font-bold text-right text-green-500\">+1.33</td> <!----> <!----> <td><div class=\"flex flex-row flex-nowrap\"><div class=\"overflow-hidden rounded-md m-0.5\" style=\"width: 108px; height: 108px; background-color: rgb(99, 133, 150);\"><a href=\"/cryptopunks/traits/view/7804?trait=Ears\" class=\"\"><img decoding=\"async\" loading=\"eager\" src=\"https://www.larvalabs.com/public/images/cryptopunks/punk7804.png\" class=\"m-auto cursor-pointer pixellate\" style=\"width: 108px; height: 108px; background-color: rgb(99, 133, 150);\"></a></div><div class=\"overflow-hidden rounded-md m-0.5\" style=\"width: 108px; height: 108px; background-color: rgb(99, 133, 150);\"><a href=\"/cryptopunks/traits/view/5905?trait=Ears\" class=\"\"><img decoding=\"async\" loading=\"eager\" src=\"https://www.larvalabs.com/public/images/cryptopunks/punk5905.png\" class=\"m-auto cursor-pointer pixellate\" style=\"width: 108px; height: 108px; background-color: rgb(99, 133, 150);\"></a></div><div class=\"overflow-hidden rounded-md m-0.5\" style=\"width: 108px; height: 108px; background-color: rgb(99, 133, 150);\"><a href=\"/cryptopunks/traits/view/2890?trait=Ears\" class=\"\"><img decoding=\"async\" loading=\"eager\" src=\"https://www.larvalabs.com/public/images/cryptopunks/punk2890.png\" class=\"m-auto cursor-pointer pixellate\" style=\"width: 108px; height: 108px; background-color: rgb(99, 133, 150);\"></a></div></div></td></tr></table>''')"
   ]
  },
  {
   "cell_type": "code",
   "execution_count": 94,
   "id": "0f3c2bfd-e3f7-4724-8760-675a9abcc79f",
   "metadata": {},
   "outputs": [
    {
     "data": {
      "text/plain": [
       "3"
      ]
     },
     "execution_count": 94,
     "metadata": {},
     "output_type": "execute_result"
    }
   ],
   "source": [
    "len(ears.find_all('tr'))"
   ]
  },
  {
   "cell_type": "code",
   "execution_count": 95,
   "id": "196eebec-a539-4c29-9c18-1cf3aa4b6e8a",
   "metadata": {},
   "outputs": [
    {
     "data": {
      "text/plain": [
       "[['Earring', '+4.07'], ['<none>', '+1.33']]"
      ]
     },
     "execution_count": 95,
     "metadata": {},
     "output_type": "execute_result"
    }
   ],
   "source": [
    "ears_list=[]\n",
    "for x in range(1,3):\n",
    "    ears_list.append(ears.find_all('tr')[x].text.split()[::2])\n",
    "ears_list"
   ]
  },
  {
   "cell_type": "code",
   "execution_count": 108,
   "id": "d3fd4170-ae98-418f-942e-1c3d53463b4b",
   "metadata": {},
   "outputs": [],
   "source": [
    "#df['ear']=1.33\n",
    "#df['ear']=df.accessories.map(, )"
   ]
  },
  {
   "cell_type": "code",
   "execution_count": 109,
   "id": "8f16da4a-f8f8-431b-a5ee-f6f977c9bd44",
   "metadata": {},
   "outputs": [],
   "source": [
    "#nose soup"
   ]
  },
  {
   "cell_type": "code",
   "execution_count": 110,
   "id": "e5a1a9a2-955f-4365-bb87-e8468e1bfc47",
   "metadata": {},
   "outputs": [],
   "source": [
    "nose=BeautifulSoup('''<table class=\"relative m-auto traitValues\"><tr><th class=\"text-left\">Value</th> <th class=\"text-right\">Count</th> <th class=\"text-right\">Rarity Score</th> <!----> <!----> <th class=\"pl-8 text-left\">Examples</th></tr> <tr class=\"text-base\"><td class=\"font-bold text-pink-700\"><!----> <div class=\"cursor-pointer select-none hover:underline\">Clown Nose</div></td> <td class=\"font-bold text-right\">\n",
    "            212\n",
    "          </td> <td class=\"font-bold text-right text-green-500\">+47.17</td> <!----> <!----> <td><div class=\"flex flex-row flex-nowrap\"><div class=\"overflow-hidden rounded-md m-0.5\" style=\"width: 108px; height: 108px; background-color: rgb(99, 133, 150);\"><a href=\"/cryptopunks/traits/view/7920?trait=Nose\" class=\"\"><img decoding=\"async\" loading=\"eager\" src=\"https://www.larvalabs.com/public/images/cryptopunks/punk7920.png\" class=\"m-auto cursor-pointer pixellate\" style=\"width: 108px; height: 108px; background-color: rgb(99, 133, 150);\"></a></div><div class=\"overflow-hidden rounded-md m-0.5\" style=\"width: 108px; height: 108px; background-color: rgb(99, 133, 150);\"><a href=\"/cryptopunks/traits/view/6153?trait=Nose\" class=\"\"><img decoding=\"async\" loading=\"eager\" src=\"https://www.larvalabs.com/public/images/cryptopunks/punk6153.png\" class=\"m-auto cursor-pointer pixellate\" style=\"width: 108px; height: 108px; background-color: rgb(99, 133, 150);\"></a></div><div class=\"overflow-hidden rounded-md m-0.5\" style=\"width: 108px; height: 108px; background-color: rgb(99, 133, 150);\"><a href=\"/cryptopunks/traits/view/4874?trait=Nose\" class=\"\"><img decoding=\"async\" loading=\"eager\" src=\"https://www.larvalabs.com/public/images/cryptopunks/punk4874.png\" class=\"m-auto cursor-pointer pixellate\" style=\"width: 108px; height: 108px; background-color: rgb(99, 133, 150);\"></a></div></div></td></tr><tr class=\"text-base\"><td class=\"font-bold text-pink-700\"><!----> <div class=\"cursor-pointer select-none hover:underline\">&lt;none&gt;</div></td> <td class=\"font-bold text-right\">\n",
    "            9788\n",
    "          </td> <td class=\"font-bold text-right text-green-500\">+1.02</td> <!----> <!----> <td><div class=\"flex flex-row flex-nowrap\"><div class=\"overflow-hidden rounded-md m-0.5\" style=\"width: 108px; height: 108px; background-color: rgb(99, 133, 150);\"><a href=\"/cryptopunks/traits/view/8348?trait=Nose\" class=\"\"><img decoding=\"async\" loading=\"eager\" src=\"https://www.larvalabs.com/public/images/cryptopunks/punk8348.png\" class=\"m-auto cursor-pointer pixellate\" style=\"width: 108px; height: 108px; background-color: rgb(99, 133, 150);\"></a></div><div class=\"overflow-hidden rounded-md m-0.5\" style=\"width: 108px; height: 108px; background-color: rgb(99, 133, 150);\"><a href=\"/cryptopunks/traits/view/7804?trait=Nose\" class=\"\"><img decoding=\"async\" loading=\"eager\" src=\"https://www.larvalabs.com/public/images/cryptopunks/punk7804.png\" class=\"m-auto cursor-pointer pixellate\" style=\"width: 108px; height: 108px; background-color: rgb(99, 133, 150);\"></a></div><div class=\"overflow-hidden rounded-md m-0.5\" style=\"width: 108px; height: 108px; background-color: rgb(99, 133, 150);\"><a href=\"/cryptopunks/traits/view/7523?trait=Nose\" class=\"\"><img decoding=\"async\" loading=\"eager\" src=\"https://www.larvalabs.com/public/images/cryptopunks/punk7523.png\" class=\"m-auto cursor-pointer pixellate\" style=\"width: 108px; height: 108px; background-color: rgb(99, 133, 150);\"></a></div></div></td></tr></table>''')"
   ]
  },
  {
   "cell_type": "code",
   "execution_count": 113,
   "id": "6bd08da9-79d5-4a87-8691-da80c803a489",
   "metadata": {},
   "outputs": [
    {
     "data": {
      "text/plain": [
       "3"
      ]
     },
     "execution_count": 113,
     "metadata": {},
     "output_type": "execute_result"
    }
   ],
   "source": [
    "len(nose.find_all('tr'))"
   ]
  },
  {
   "cell_type": "code",
   "execution_count": 112,
   "id": "34b5495a-40a1-4b09-b1de-4522892fafba",
   "metadata": {},
   "outputs": [
    {
     "data": {
      "text/plain": [
       "[['Clown', '212'], ['<none>', '+1.02']]"
      ]
     },
     "execution_count": 112,
     "metadata": {},
     "output_type": "execute_result"
    }
   ],
   "source": [
    "nose_list=[]\n",
    "for x in range(1,3):\n",
    "    nose_list.append(nose.find_all('tr')[x].text.split()[::2])\n",
    "nose_list"
   ]
  },
  {
   "cell_type": "code",
   "execution_count": 114,
   "id": "e4f80283-a0b3-48b1-befc-6bbde89fec45",
   "metadata": {},
   "outputs": [],
   "source": [
    "df.to_csv('working.csv', index=False)"
   ]
  },
  {
   "cell_type": "code",
   "execution_count": null,
   "id": "1ee105fd-69cb-4b10-ab0a-b37ac879bc8f",
   "metadata": {},
   "outputs": [],
   "source": []
  }
 ],
 "metadata": {
  "kernelspec": {
   "display_name": "Python 3 (ipykernel)",
   "language": "python",
   "name": "python3"
  },
  "language_info": {
   "codemirror_mode": {
    "name": "ipython",
    "version": 3
   },
   "file_extension": ".py",
   "mimetype": "text/x-python",
   "name": "python",
   "nbconvert_exporter": "python",
   "pygments_lexer": "ipython3",
   "version": "3.9.7"
  }
 },
 "nbformat": 4,
 "nbformat_minor": 5
}
